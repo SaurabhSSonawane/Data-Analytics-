{
  "nbformat": 4,
  "nbformat_minor": 0,
  "metadata": {
    "colab": {
      "provenance": []
    },
    "kernelspec": {
      "name": "python3",
      "display_name": "Python 3"
    },
    "language_info": {
      "name": "python"
    }
  },
  "cells": [
    {
      "cell_type": "code",
      "execution_count": null,
      "metadata": {
        "id": "tZTJfNTa0T4J"
      },
      "outputs": [],
      "source": [
        "# 1) Explain the key features of Python that make it a popular choice for programming?"
      ]
    },
    {
      "cell_type": "markdown",
      "source": [
        "**Ans** :-  **Definiton** - Python is a high level programming language which is also known as a formal language which will be used for creating instructions for a computer to follow.\n",
        "\n",
        "Basically writing a code of intructions using its predifined set of rules and regulations for a computer to follow.Python interpreter will read the code of instructions provided and it will read it and understand the instructions and it will perform the task or execute the instructions given it to follow to either gain a result or to follow a task given.\n",
        "\n",
        "The set of rules and regulations which defines the process of writing a programming code are the collection of predefined keywords,syntax,statements,set of conditions,logics used togeter in a order flow of structure to develop a intructions to do a task or to gain something from this insturctions which the computer will follow.\n",
        "\n",
        " **Key Features of Python are as follows :-**\n",
        "\n",
        "**1) Set of rules and regulations** :- Python has predefined set of rules and regulations which are human understandble and easily readable .These are basically are  keywords,symbols,variables,syntax,conditions,functions,operators written in a flow of sturcture which will be used to develop the code of instructions for a computer to follow.\n",
        "\n",
        "**2) Easy Readability** :- Python Language can be easily readable and understandable by humans because the syntax etc used in in language are in english understandable keywords.\n",
        "\n",
        "**3) Interpreted Language :-** The python code are executed line by line which means in step of order which is the flow of structure of code written.\n",
        "\n",
        "**4) Widely Used:-** Python language is widely in various industries like Data industries,Business industries,IT industries etc.Python can be used in development of software,frontend and backend development,data analysis etc.\n",
        "\n",
        "**4) Builtin Functions and Keywords:-** Python language has builtin functions and keywords which perform/do a predefined task.\n",
        "\n",
        "**4) Libraries :-** Python has a lot of libraries more than 1,37,000 libraries are present.These are predeveloped collections of well optimised\n",
        "and well written codes or modules which are kept already in libraries which can be accessed and imported which can be used in our code when necessary.\n",
        "\n",
        "Example:-Pandas, NumPy etc.\n",
        "\n",
        "**5)Huge Community :-** Python has a huge community of developers(peoples)who solve code, they also develop codes and publish on libraries which can be easily access by anyone one and from anywhere.\n",
        "\n",
        "**Environment:-** Python has its IDES(Integrated Development Environment Software) environment where we can easily write the python code and execute.This environ directly executes the code directly.\n",
        "\n",
        "Eg :- Vscode,Pycharm,GoogleCollab.\n",
        "\n",
        "\n",
        "\n"
      ],
      "metadata": {
        "id": "ej-UgiuKDpiF"
      }
    },
    {
      "cell_type": "markdown",
      "source": [
        "---------------------------------------------------------------------------"
      ],
      "metadata": {
        "id": "rgc6-ZsEnhDf"
      }
    },
    {
      "cell_type": "code",
      "source": [
        "# 2) Describe the role of predefined keywords in Python and provide examples of how they are used in a Program?"
      ],
      "metadata": {
        "id": "shPSM42S09s0"
      },
      "execution_count": null,
      "outputs": []
    },
    {
      "cell_type": "markdown",
      "source": [
        "**Ans** :- **Predefined Keywords and thier role in Python :-** In python keywords are the special reserved words and reserved functions which hold a special meaning and which have a specific purpose and function  to do something in python programming.\n",
        "\n",
        "Each predefined keyword perform a specific task for us. Thier meaning cant be change neither they can be used as a variable.\n",
        "These keywords are the part of python syntax and cannot be used as indentifiers.\n",
        "\n",
        "These prebuild keywords are used in code to help us in developing the code and its flow of structure,which will help us to perform a specific purpose in the code.\n",
        "\n",
        "**Below is the imported list of Various keywords and how they are used in program:-**"
      ],
      "metadata": {
        "id": "ri1k-t3wR5Lq"
      }
    },
    {
      "cell_type": "code",
      "source": [
        "# Importing the keyword module\n",
        "import keyword\n",
        "\n",
        "# Printing the list of keywords\n",
        "print(keyword.kwlist)\n"
      ],
      "metadata": {
        "colab": {
          "base_uri": "https://localhost:8080/"
        },
        "id": "--GjXEkOVjBF",
        "outputId": "2c64e01b-348a-43ac-8a2c-954d2e3e99a4"
      },
      "execution_count": null,
      "outputs": [
        {
          "output_type": "stream",
          "name": "stdout",
          "text": [
            "['False', 'None', 'True', 'and', 'as', 'assert', 'async', 'await', 'break', 'class', 'continue', 'def', 'del', 'elif', 'else', 'except', 'finally', 'for', 'from', 'global', 'if', 'import', 'in', 'is', 'lambda', 'nonlocal', 'not', 'or', 'pass', 'raise', 'return', 'try', 'while', 'with', 'yield']\n"
          ]
        }
      ]
    },
    {
      "cell_type": "markdown",
      "source": [
        "**Example of predifined keywords and built in functions**"
      ],
      "metadata": {
        "id": "0I1tY1qUWTKW"
      }
    },
    {
      "cell_type": "code",
      "source": [
        "# Inbuilt Print Function To display the output or information achieved to the console.\n",
        "print(\"Welcome to PhysicsWallah\")"
      ],
      "metadata": {
        "colab": {
          "base_uri": "https://localhost:8080/"
        },
        "id": "YaxVBBtDWdme",
        "outputId": "2020ce29-f6da-40a3-8185-5c8e02652c60"
      },
      "execution_count": null,
      "outputs": [
        {
          "output_type": "stream",
          "name": "stdout",
          "text": [
            "Welcome to PhysicsWallah\n"
          ]
        }
      ]
    },
    {
      "cell_type": "code",
      "source": [
        "# Inbuilt Type Function to know the datatype of data stored in a variable or implicitly used.\n",
        "\n",
        "name_data = \"Saurabh\" # A variable is defined and it is storing a data in it\n",
        "type(name_data) ## Function used to know the type of data stored in variable"
      ],
      "metadata": {
        "colab": {
          "base_uri": "https://localhost:8080/"
        },
        "id": "BIL-UiTMZqoJ",
        "outputId": "418c1f5c-fe3c-408f-b07c-c286e791ff50"
      },
      "execution_count": null,
      "outputs": [
        {
          "output_type": "execute_result",
          "data": {
            "text/plain": [
              "str"
            ]
          },
          "metadata": {},
          "execution_count": 17
        }
      ]
    },
    {
      "cell_type": "code",
      "source": [
        "#Inbuilt real keyword to know the real and imaginary part of a complex data used\n",
        "\n",
        "a = 4 + 5j\n",
        "a.real #real keyword used to know imaginery part of complex data type\n",
        "\n"
      ],
      "metadata": {
        "colab": {
          "base_uri": "https://localhost:8080/"
        },
        "id": "4yTlS9g0Zt-B",
        "outputId": "4b513fdf-05d4-496a-e97d-1b33d14366b2"
      },
      "execution_count": null,
      "outputs": [
        {
          "output_type": "execute_result",
          "data": {
            "text/plain": [
              "4.0"
            ]
          },
          "metadata": {},
          "execution_count": 31
        }
      ]
    },
    {
      "cell_type": "code",
      "source": [
        "#Inbuilt imag keyword to know the real and imaginary part of a complex data used\n",
        "a = 4 + 5j\n",
        "a.imag #imag keyword used to know imaginery part of complex data type"
      ],
      "metadata": {
        "colab": {
          "base_uri": "https://localhost:8080/"
        },
        "id": "4ae0-GrhaK10",
        "outputId": "90af6c7c-5a2f-4ce3-b53c-d08999ce1291"
      },
      "execution_count": null,
      "outputs": [
        {
          "output_type": "execute_result",
          "data": {
            "text/plain": [
              "5.0"
            ]
          },
          "metadata": {},
          "execution_count": 26
        }
      ]
    },
    {
      "cell_type": "code",
      "source": [
        "#Inbuilt if keyword used for logics which will be used for taking decisions\n",
        "a = 5\n",
        "b = 2\n",
        "if a > b: # if keyword used for decision logic\n",
        "  print(\"a is greater\")"
      ],
      "metadata": {
        "colab": {
          "base_uri": "https://localhost:8080/"
        },
        "id": "7yOvTG6nahRd",
        "outputId": "1ee3273a-23a2-4ee1-e2ec-a7d41508aa58"
      },
      "execution_count": null,
      "outputs": [
        {
          "output_type": "stream",
          "name": "stdout",
          "text": [
            "a is greater\n"
          ]
        }
      ]
    },
    {
      "cell_type": "code",
      "source": [
        "#Inbuilt else keyword  which will be used for or taking or decisions if the condition doesn't meet\n",
        "a = 5\n",
        "b = 2\n",
        "if a > b:\n",
        "  print(\"a is greater\")\n",
        "else: # else keyword used for or decision\n",
        "  print(\"b is greater\")"
      ],
      "metadata": {
        "colab": {
          "base_uri": "https://localhost:8080/"
        },
        "id": "Pl8h2KdicFnm",
        "outputId": "1a640a63-92da-4eb9-c782-5e78c63d5ec2"
      },
      "execution_count": null,
      "outputs": [
        {
          "output_type": "stream",
          "name": "stdout",
          "text": [
            "a is greater\n"
          ]
        }
      ]
    },
    {
      "cell_type": "markdown",
      "source": [
        "**This were some examples of predifined keywords having specific purpose and function to do something in python.**"
      ],
      "metadata": {
        "id": "QL5SvV4XbvYy"
      }
    },
    {
      "cell_type": "markdown",
      "source": [
        "---------------------------------------------------------------------------"
      ],
      "metadata": {
        "id": "4UhKdqeWoj7Z"
      }
    },
    {
      "cell_type": "code",
      "source": [
        "# 3) Compare and contrast mutable and immutable objects in Python with examples?"
      ],
      "metadata": {
        "id": "BRb52h1p1LmZ"
      },
      "execution_count": null,
      "outputs": []
    },
    {
      "cell_type": "markdown",
      "source": [
        "**Ans :-** **1) Mutability** :- In python mutability means the the state of object the eliments of the data can be changed ever after they are created.The object the state of object/value can be chnaged anytime is called as mutable objects.\n",
        "We can change the state of eliments of which we want only of data which supports mutability and have collection of various data items in it.\n",
        "\n",
        "For eg:- List Data structure :- It is the collection of various sequential different data stored in enclosed scored brackets and in list data eliments can be easily accessed and can also be changed as we want. This can be done by accessing the index of the eliments and then assigning the new eliment to that index.\n",
        "\n",
        "**Example :- Mutable List Data Structure**"
      ],
      "metadata": {
        "id": "YfEXEl_0drTF"
      }
    },
    {
      "cell_type": "code",
      "source": [
        "# Mutable List data structure\n",
        "collection = [\"saurabh\", 1 , 2.5, 5 + 5j] # defined a varaible with data stored in list data type\n",
        "#each data eliment above will be stored in a memory single space reserved in a contigiuos block and each eliment will have a o based indexing\n",
        "collection[3] # Now we have a accessed a eliment using its index"
      ],
      "metadata": {
        "colab": {
          "base_uri": "https://localhost:8080/"
        },
        "id": "TNYdciSsggyO",
        "outputId": "9f6f4a63-a441-48f1-c889-d9af835acb67"
      },
      "execution_count": null,
      "outputs": [
        {
          "output_type": "execute_result",
          "data": {
            "text/plain": [
              "(5+5j)"
            ]
          },
          "metadata": {},
          "execution_count": 39
        }
      ]
    },
    {
      "cell_type": "markdown",
      "source": [
        "**Now We'll change the eliment of list data structure**"
      ],
      "metadata": {
        "id": "qOfqB64Xh_l7"
      }
    },
    {
      "cell_type": "code",
      "source": [
        "# Mutable List data structure\n",
        "collection = [\"saurabh\", 1 , 2.5, 5 + 5j] # defined a varaible with data stored in list data type\n",
        "collection[3] = \"changed\" #accessed the eliment index and assigned/changed with new eliment\n",
        "collection # Called the variable storing data now see the data is changed"
      ],
      "metadata": {
        "colab": {
          "base_uri": "https://localhost:8080/"
        },
        "id": "P8LrpRaciNSC",
        "outputId": "cdeb50ae-52fb-4c74-d1f0-9d8fdb90c44f"
      },
      "execution_count": null,
      "outputs": [
        {
          "output_type": "execute_result",
          "data": {
            "text/plain": [
              "['saurabh', 1, 2.5, 'changed']"
            ]
          },
          "metadata": {},
          "execution_count": 42
        }
      ]
    },
    {
      "cell_type": "markdown",
      "source": [
        "**2) Immutablity :-** In python Immutability means we cannot change the state of value or data contained.The object whose state/value cannot be changed is called as immutable object.\n",
        "\n",
        "For eg :- String object object cannot be changed as we want.They are Immutable.If we try to assign new value to it then instead of modifying it just creates a new object.Intergers and strings are immutable.\n",
        "\n",
        "**Example :- Immutable Integer and String Data Structure**"
      ],
      "metadata": {
        "id": "Za39X1ship2w"
      }
    },
    {
      "cell_type": "code",
      "source": [
        "#Immutable Integer Data\n",
        "num = 1\n",
        "num [0] = 2 #we'll get error if we try to change data which is integer which if does not have mutabble sequential data structure."
      ],
      "metadata": {
        "colab": {
          "base_uri": "https://localhost:8080/",
          "height": 176
        },
        "id": "G04eIzHklFN9",
        "outputId": "56acc968-1987-42ca-fe58-04b64e03ea49"
      },
      "execution_count": null,
      "outputs": [
        {
          "output_type": "error",
          "ename": "TypeError",
          "evalue": "'int' object does not support item assignment",
          "traceback": [
            "\u001b[0;31m---------------------------------------------------------------------------\u001b[0m",
            "\u001b[0;31mTypeError\u001b[0m                                 Traceback (most recent call last)",
            "\u001b[0;32m<ipython-input-48-ea060ea26570>\u001b[0m in \u001b[0;36m<cell line: 3>\u001b[0;34m()\u001b[0m\n\u001b[1;32m      1\u001b[0m \u001b[0;31m#Immutable Integer Data\u001b[0m\u001b[0;34m\u001b[0m\u001b[0;34m\u001b[0m\u001b[0m\n\u001b[1;32m      2\u001b[0m \u001b[0mnum\u001b[0m \u001b[0;34m=\u001b[0m \u001b[0;36m1\u001b[0m\u001b[0;34m\u001b[0m\u001b[0;34m\u001b[0m\u001b[0m\n\u001b[0;32m----> 3\u001b[0;31m \u001b[0mnum\u001b[0m \u001b[0;34m[\u001b[0m\u001b[0;36m0\u001b[0m\u001b[0;34m]\u001b[0m \u001b[0;34m=\u001b[0m \u001b[0;36m2\u001b[0m \u001b[0;31m#we'll get error if we try to change data which is integer which if does not have mutabble sequential data structure.\u001b[0m\u001b[0;34m\u001b[0m\u001b[0;34m\u001b[0m\u001b[0m\n\u001b[0m",
            "\u001b[0;31mTypeError\u001b[0m: 'int' object does not support item assignment"
          ]
        }
      ]
    },
    {
      "cell_type": "markdown",
      "source": [
        "**Instead of this we can only create a new object which will overwrite the previous data stored in variable**\n",
        "\n",
        "**Example :-**"
      ],
      "metadata": {
        "id": "wJQqT7MNl5Y1"
      }
    },
    {
      "cell_type": "code",
      "source": [
        "num = 23 # we have assigned a object with new data previous value will be overwritten\n",
        "num # call variable it will gives us new data stored"
      ],
      "metadata": {
        "colab": {
          "base_uri": "https://localhost:8080/"
        },
        "id": "I9zBYhSImVjk",
        "outputId": "d53bad09-babd-4973-9ef8-1ae398aee104"
      },
      "execution_count": null,
      "outputs": [
        {
          "output_type": "execute_result",
          "data": {
            "text/plain": [
              "23"
            ]
          },
          "metadata": {},
          "execution_count": 51
        }
      ]
    },
    {
      "cell_type": "markdown",
      "source": [
        "---------------------------------------------------------------------------"
      ],
      "metadata": {
        "id": "rPNjkx7TonUa"
      }
    },
    {
      "cell_type": "code",
      "source": [
        "# 4.Discuss the different types of operators in Python and provide examples of how they are used?"
      ],
      "metadata": {
        "id": "3mqmF4oN1V9R"
      },
      "execution_count": null,
      "outputs": []
    },
    {
      "cell_type": "markdown",
      "source": [
        "**Ans :-** **Operator :-** In python operators are special symbols which are used to perform specific operations on values to get a result from it.In python we are using diffrent operators which have a specific function to perfrom or to do a task.\n",
        "\n",
        "But how and why we use operators:- We have a data stored  in our code now we will make use of this data for computation to perform a operation using this data and this operation to get something from this data can be done using operator.\n",
        "\n",
        "**Types of operators and Example of Operators:-**"
      ],
      "metadata": {
        "id": "hAd7UWrYr8Y3"
      }
    },
    {
      "cell_type": "markdown",
      "source": [
        "**1) Arithmetic Operator**"
      ],
      "metadata": {
        "id": "aDTWr3Gn1rl5"
      }
    },
    {
      "cell_type": "code",
      "source": [
        "# Arithmetic Operator\n",
        "add = 1 + 2\n",
        "sub = 1 -2\n",
        "mult = 1 * 2\n",
        "div = 1 / 2\n",
        "mod = 1 % 2\n",
        "exp = 1 ** 2\n",
        "floor = 1 // 2\n",
        "print(add,sub,mult,div,mod,exp,floor)\n"
      ],
      "metadata": {
        "colab": {
          "base_uri": "https://localhost:8080/"
        },
        "id": "w7Z-dU-OxWJF",
        "outputId": "d2f6718e-fe69-49a7-b1da-c986b1f01f85"
      },
      "execution_count": null,
      "outputs": [
        {
          "output_type": "stream",
          "name": "stdout",
          "text": [
            "3 -1 2 0.5 1 1 0\n"
          ]
        }
      ]
    },
    {
      "cell_type": "markdown",
      "source": [
        "**2) Comparison Operator**"
      ],
      "metadata": {
        "id": "7qv8ksiL1y8r"
      }
    },
    {
      "cell_type": "code",
      "source": [
        "# Comparison Operators\n",
        "2 == 2\n",
        "3 != 2\n",
        "2 >1\n",
        "2 < 5\n",
        "2 >= 0\n",
        "2 <= 5\n",
        "# Comparison Operators will gives us result in boolean\n",
        "\n"
      ],
      "metadata": {
        "colab": {
          "base_uri": "https://localhost:8080/"
        },
        "id": "SiFHq09oyFOz",
        "outputId": "a54745be-f683-41ce-eba6-b84c307cc2a1"
      },
      "execution_count": null,
      "outputs": [
        {
          "output_type": "execute_result",
          "data": {
            "text/plain": [
              "True"
            ]
          },
          "metadata": {},
          "execution_count": 63
        }
      ]
    },
    {
      "cell_type": "markdown",
      "source": [
        "**3) Logical Operator**"
      ],
      "metadata": {
        "id": "P9mpyQ6m16sm"
      }
    },
    {
      "cell_type": "code",
      "source": [
        "# Logical Operators\n",
        "data_1 = 1\n",
        "data_2 = 2\n",
        "answer = data_1 > 0 and data_2 > 0 # and operators gives true only when all condtios are true and if contains one false condition and other true it gives false\n",
        "print(answer)"
      ],
      "metadata": {
        "colab": {
          "base_uri": "https://localhost:8080/"
        },
        "id": "sTP2SU3jyzZI",
        "outputId": "440d8a98-b862-4496-c532-01b88991db4d"
      },
      "execution_count": null,
      "outputs": [
        {
          "output_type": "stream",
          "name": "stdout",
          "text": [
            "True\n"
          ]
        }
      ]
    },
    {
      "cell_type": "code",
      "source": [
        "# or operator\n",
        "data_1 = 1\n",
        "data_2 = 0\n",
        "answer = data_1 > 0 or data_2 > 0 # or operators gives true even if one conditon is met when all condtions are false it gives false\n",
        "print(answer)"
      ],
      "metadata": {
        "colab": {
          "base_uri": "https://localhost:8080/"
        },
        "id": "n5GRCdxq1H-T",
        "outputId": "e4a5547b-75e2-443f-e6a6-59b113d6f210"
      },
      "execution_count": null,
      "outputs": [
        {
          "output_type": "stream",
          "name": "stdout",
          "text": [
            "True\n"
          ]
        }
      ]
    },
    {
      "cell_type": "code",
      "source": [
        "# Not operator\n",
        "a = True\n",
        "result = not a  # Turns Conditon True to False\n",
        "print(result)"
      ],
      "metadata": {
        "colab": {
          "base_uri": "https://localhost:8080/"
        },
        "id": "spAgC0NX2F8Y",
        "outputId": "18c9becb-8dc8-42fb-bb3b-914267959397"
      },
      "execution_count": null,
      "outputs": [
        {
          "output_type": "stream",
          "name": "stdout",
          "text": [
            "False\n"
          ]
        }
      ]
    },
    {
      "cell_type": "markdown",
      "source": [
        "**4) Assignment operator:-**"
      ],
      "metadata": {
        "id": "0mLCWm392deP"
      }
    },
    {
      "cell_type": "code",
      "source": [
        "# Assignment Opertors\n",
        "zoo = 3 # '=' is used to assign/store a value in a variable\n",
        "i = 1\n",
        "i += 3 # '+=' is used to add an assign/store\n",
        "n = 3\n",
        "n -= 1 # '-=' is used to subtract an assign/store\n",
        "g = 3\n",
        "g *= 2 # '*=' is used to multiply an assign/store\n",
        "k = 3\n",
        "k /= 3 # '/=' is used to divide an assign/store\n",
        "print(zoo,i,n,g,k)"
      ],
      "metadata": {
        "colab": {
          "base_uri": "https://localhost:8080/"
        },
        "id": "gK6uToE21HXw",
        "outputId": "c254bf3f-696c-4bfe-8714-ad08c673e59a"
      },
      "execution_count": null,
      "outputs": [
        {
          "output_type": "stream",
          "name": "stdout",
          "text": [
            "3 4 2 6 1.0\n"
          ]
        }
      ]
    },
    {
      "cell_type": "markdown",
      "source": [
        "**5) Membership Operator :-** Both membership operators will return True or False result"
      ],
      "metadata": {
        "id": "0GYstlmn4Edm"
      }
    },
    {
      "cell_type": "code",
      "source": [
        "lion = \"shera\"\n",
        "# in will be the keyword used to check if a eliment is present or no in a data\n",
        "\"s\" in lion # \"data to check\" in Lion\n"
      ],
      "metadata": {
        "colab": {
          "base_uri": "https://localhost:8080/"
        },
        "id": "SiUUXzIr3_WN",
        "outputId": "7a0b1ef4-5698-432e-e947-d8f67f88c894"
      },
      "execution_count": null,
      "outputs": [
        {
          "output_type": "execute_result",
          "data": {
            "text/plain": [
              "True"
            ]
          },
          "metadata": {},
          "execution_count": 82
        }
      ]
    },
    {
      "cell_type": "code",
      "source": [
        "lion = \"shera\"\n",
        "# not in will be the keyword used to check if a eliment is not present in a data\n",
        "\"s\" not in lion # \"data to check\" if not in Lion"
      ],
      "metadata": {
        "colab": {
          "base_uri": "https://localhost:8080/"
        },
        "id": "ohlP0OZ-4sPx",
        "outputId": "c8b5c8ca-4b71-44a9-bf32-3c019a6af294"
      },
      "execution_count": null,
      "outputs": [
        {
          "output_type": "execute_result",
          "data": {
            "text/plain": [
              "False"
            ]
          },
          "metadata": {},
          "execution_count": 84
        }
      ]
    },
    {
      "cell_type": "markdown",
      "source": [
        "**6) Identity Operator :-** is,\n",
        "is not"
      ],
      "metadata": {
        "id": "mEcaL5pi5MU8"
      }
    },
    {
      "cell_type": "code",
      "source": [
        "number = 1\n",
        "number_2 = 2\n",
        "number is number_2 # is both variable stored in same memory space will be checked well get False\n",
        "# because  Both are stored in different memory space"
      ],
      "metadata": {
        "colab": {
          "base_uri": "https://localhost:8080/"
        },
        "id": "NJzuQyFg5es4",
        "outputId": "db3234a3-450b-431b-8d39-4e0a21a919e5"
      },
      "execution_count": null,
      "outputs": [
        {
          "output_type": "execute_result",
          "data": {
            "text/plain": [
              "False"
            ]
          },
          "metadata": {},
          "execution_count": 86
        }
      ]
    },
    {
      "cell_type": "code",
      "source": [
        "one = 1\n",
        "two = 2\n",
        "one is not two # is  not will check if the variable is pointing to same data"
      ],
      "metadata": {
        "colab": {
          "base_uri": "https://localhost:8080/"
        },
        "id": "1l6MkUkY6JRQ",
        "outputId": "210e5e7e-9b60-42c2-db19-6290cc9cabdc"
      },
      "execution_count": null,
      "outputs": [
        {
          "output_type": "execute_result",
          "data": {
            "text/plain": [
              "True"
            ]
          },
          "metadata": {},
          "execution_count": 88
        }
      ]
    },
    {
      "cell_type": "markdown",
      "source": [
        "**7) Bitwise Operators :-**"
      ],
      "metadata": {
        "id": "eANZ0z2J67Nf"
      }
    },
    {
      "cell_type": "code",
      "source": [
        "# & Operator\n",
        "u = 5\n",
        "p = 3\n",
        "result = a & b # & operator compares bits of data and returns true which is 1 and if not same then returns false which is 0\n",
        "print(result)"
      ],
      "metadata": {
        "colab": {
          "base_uri": "https://localhost:8080/"
        },
        "id": "5r6BwNSi7Clh",
        "outputId": "63f5c2c5-7b6a-43ef-d46a-2b8b25f89039"
      },
      "execution_count": null,
      "outputs": [
        {
          "output_type": "stream",
          "name": "stdout",
          "text": [
            "1\n"
          ]
        }
      ]
    },
    {
      "cell_type": "code",
      "source": [
        "# | (Or) Bitwise operator\n",
        "l = 2\n",
        "e = 4\n",
        "result2 = l | e #it checks the bit of both data and return true even one bit has 1 in it\n",
        "print(result2)"
      ],
      "metadata": {
        "colab": {
          "base_uri": "https://localhost:8080/"
        },
        "id": "rBHGrodW7qCA",
        "outputId": "42cd4295-2a5a-4372-9d60-0429013d26c7"
      },
      "execution_count": null,
      "outputs": [
        {
          "output_type": "stream",
          "name": "stdout",
          "text": [
            "6\n"
          ]
        }
      ]
    },
    {
      "cell_type": "code",
      "source": [
        "# Negation Bitwise Operator\n",
        "~ 5"
      ],
      "metadata": {
        "colab": {
          "base_uri": "https://localhost:8080/"
        },
        "id": "zdw4fh5h8xpq",
        "outputId": "dc6d0c83-4333-467f-f761-2ab32b722499"
      },
      "execution_count": null,
      "outputs": [
        {
          "output_type": "execute_result",
          "data": {
            "text/plain": [
              "-6"
            ]
          },
          "metadata": {},
          "execution_count": 97
        }
      ]
    },
    {
      "cell_type": "code",
      "source": [
        "# XOR Op[operator]\n",
        "5^ #compares each bit of two numbers. It returns 1 if the bits are different and 0 if they are the same."
      ],
      "metadata": {
        "colab": {
          "base_uri": "https://localhost:8080/"
        },
        "id": "K0ITjn7n-Cpf",
        "outputId": "91ad6e0f-959e-4c95-d3e8-8c5c9714630b"
      },
      "execution_count": null,
      "outputs": [
        {
          "output_type": "execute_result",
          "data": {
            "text/plain": [
              "6"
            ]
          },
          "metadata": {},
          "execution_count": 98
        }
      ]
    },
    {
      "cell_type": "code",
      "source": [
        "# Shift Operator\n",
        "35 << 3 # Left Shift Operator adds specified o bits from right"
      ],
      "metadata": {
        "colab": {
          "base_uri": "https://localhost:8080/"
        },
        "id": "5e61FJRG-Xkt",
        "outputId": "5490a40e-5622-4c9f-deb6-4722461093b0"
      },
      "execution_count": null,
      "outputs": [
        {
          "output_type": "execute_result",
          "data": {
            "text/plain": [
              "280"
            ]
          },
          "metadata": {},
          "execution_count": 100
        }
      ]
    },
    {
      "cell_type": "code",
      "source": [
        "# Right Shift Operator\n",
        "36 >> 2 # Right Shift Operator adds specified o bits from left"
      ],
      "metadata": {
        "colab": {
          "base_uri": "https://localhost:8080/"
        },
        "id": "ZzkAxZ7_-yMJ",
        "outputId": "892aeafd-3f58-464d-e707-3926d6cce780"
      },
      "execution_count": null,
      "outputs": [
        {
          "output_type": "execute_result",
          "data": {
            "text/plain": [
              "9"
            ]
          },
          "metadata": {},
          "execution_count": 101
        }
      ]
    },
    {
      "cell_type": "markdown",
      "source": [
        "---------------------------------------------------------------------------"
      ],
      "metadata": {
        "id": "tyygtIGg-_vo"
      }
    },
    {
      "cell_type": "code",
      "source": [
        "# 5.Explain the concept of type casting in Python with examples?"
      ],
      "metadata": {
        "id": "kMLKM6OI1bPu"
      },
      "execution_count": null,
      "outputs": []
    },
    {
      "cell_type": "markdown",
      "source": [
        "**Ans:-** **Type Casting :-** Type Casting is the Process of changing the data type of a particular data or value in other data type. The process of changing the data type of a value is called as Type Casting. Cast Means to change.\n",
        "\n",
        "In some operations there can be mismatched of data so there we can use type casting.\n",
        "\n",
        "Two Types Of Type Casting :-   \n",
        "\n",
        "1)Implicit Casting: Python automatically understand  data type to denote.\n",
        "2)Explicit Casting: The user manually converts one data type to another using functions."
      ],
      "metadata": {
        "id": "YeCtAxk1Awqr"
      }
    },
    {
      "cell_type": "markdown",
      "source": [
        "**Examples of Implicit Casting:-**"
      ],
      "metadata": {
        "id": "qxJz9Zq-CEMQ"
      }
    },
    {
      "cell_type": "code",
      "source": [
        "imp = 4\n",
        "imp2 = 5.5\n",
        "store = imp + imp2 #python understand what data type to be stored as\n",
        "print(store)\n",
        "type(store) #it is stored in float"
      ],
      "metadata": {
        "colab": {
          "base_uri": "https://localhost:8080/"
        },
        "id": "SqusMqDcCidk",
        "outputId": "c7c3da7f-0c25-4c05-e983-3f5079123509"
      },
      "execution_count": null,
      "outputs": [
        {
          "output_type": "stream",
          "name": "stdout",
          "text": [
            "9.5\n"
          ]
        },
        {
          "output_type": "execute_result",
          "data": {
            "text/plain": [
              "float"
            ]
          },
          "metadata": {},
          "execution_count": 107
        }
      ]
    },
    {
      "cell_type": "markdown",
      "source": [
        "**Examples of Explicit Casting:-**"
      ],
      "metadata": {
        "id": "2VhHG3XqDZ3J"
      }
    },
    {
      "cell_type": "code",
      "source": [
        "numen = \"3\" # data stored in string but actually its a number stored in string.\n",
        "godl = 2\n",
        "soul = numen + godl # well get error because data is different"
      ],
      "metadata": {
        "colab": {
          "base_uri": "https://localhost:8080/",
          "height": 176
        },
        "id": "Lv3rSq-eBYeY",
        "outputId": "e44b1181-dc14-41c0-c039-47df3561f189"
      },
      "execution_count": null,
      "outputs": [
        {
          "output_type": "error",
          "ename": "TypeError",
          "evalue": "can only concatenate str (not \"int\") to str",
          "traceback": [
            "\u001b[0;31m---------------------------------------------------------------------------\u001b[0m",
            "\u001b[0;31mTypeError\u001b[0m                                 Traceback (most recent call last)",
            "\u001b[0;32m<ipython-input-120-9c438337af1b>\u001b[0m in \u001b[0;36m<cell line: 3>\u001b[0;34m()\u001b[0m\n\u001b[1;32m      1\u001b[0m \u001b[0mnumen\u001b[0m \u001b[0;34m=\u001b[0m \u001b[0;34m\"3\"\u001b[0m \u001b[0;31m# data stored in string but actually its a number stored in string.\u001b[0m\u001b[0;34m\u001b[0m\u001b[0;34m\u001b[0m\u001b[0m\n\u001b[1;32m      2\u001b[0m \u001b[0mgodl\u001b[0m \u001b[0;34m=\u001b[0m \u001b[0;36m2\u001b[0m\u001b[0;34m\u001b[0m\u001b[0;34m\u001b[0m\u001b[0m\n\u001b[0;32m----> 3\u001b[0;31m \u001b[0msoul\u001b[0m \u001b[0;34m=\u001b[0m \u001b[0mnumen\u001b[0m \u001b[0;34m+\u001b[0m \u001b[0mgodl\u001b[0m \u001b[0;31m# well get error because data is different\u001b[0m\u001b[0;34m\u001b[0m\u001b[0;34m\u001b[0m\u001b[0m\n\u001b[0m",
            "\u001b[0;31mTypeError\u001b[0m: can only concatenate str (not \"int\") to str"
          ]
        }
      ]
    },
    {
      "cell_type": "markdown",
      "source": [
        "**Now well type cast data numen**"
      ],
      "metadata": {
        "id": "eYKXFb2tG2WE"
      }
    },
    {
      "cell_type": "code",
      "source": [
        "numen = int(numen) # changed data type assigned to variable numen\n",
        "type(numen) # now numen variable is stored as int type\n"
      ],
      "metadata": {
        "colab": {
          "base_uri": "https://localhost:8080/"
        },
        "id": "J8PuEisjHDuW",
        "outputId": "d503780e-6de3-4c9b-b750-62498b63e7e5"
      },
      "execution_count": null,
      "outputs": [
        {
          "output_type": "execute_result",
          "data": {
            "text/plain": [
              "int"
            ]
          },
          "metadata": {},
          "execution_count": 126
        }
      ]
    },
    {
      "cell_type": "markdown",
      "source": [
        "Now lets see can we perform operation"
      ],
      "metadata": {
        "id": "4uQ6AJCFJe8A"
      }
    },
    {
      "cell_type": "code",
      "source": [
        "numen + 3 # now we have changed the type of nument to int so we can perform operation"
      ],
      "metadata": {
        "colab": {
          "base_uri": "https://localhost:8080/"
        },
        "id": "mLh1CfPgJbgg",
        "outputId": "691733a6-34a9-4e44-bec4-334b49bc8a0b"
      },
      "execution_count": null,
      "outputs": [
        {
          "output_type": "execute_result",
          "data": {
            "text/plain": [
              "6"
            ]
          },
          "metadata": {},
          "execution_count": 127
        }
      ]
    },
    {
      "cell_type": "markdown",
      "source": [
        "---------------------------------------------------------------------------"
      ],
      "metadata": {
        "id": "9dQaXT-eJ1g5"
      }
    },
    {
      "cell_type": "code",
      "source": [
        "# 6. How do conditional statements work in Python? Illustrate with examples?\n"
      ],
      "metadata": {
        "id": "BGaq388U1iPs"
      },
      "execution_count": null,
      "outputs": []
    },
    {
      "cell_type": "markdown",
      "source": [
        "**Conditional Statements:-** Conditional statements control the flow of program by executing the block of code based on specific conditions.\n",
        "Conditional statements are the statements which help us to take a certain decision to execute a decision block of code based on condition which is is specified if it is true.\n",
        "\n",
        "They are flow control mechanism that governs the order in which the statements and instructions are executed.\n",
        "we can use conditional statements to for getting a output only if the condition is either or false.\n",
        "\n",
        "**Type of Conditional Statements :-**\n",
        "\n",
        "1) if\n",
        "\n",
        "2) if-else\n",
        "\n",
        "3) if-elif(else-if)-else\n",
        "\n",
        "4) Nested-if\n",
        "\n",
        "**Examples of Conditional Staements:-**"
      ],
      "metadata": {
        "id": "FSuTTaDTKSs-"
      }
    },
    {
      "cell_type": "code",
      "source": [
        "#if Conditional statement\n",
        "age = 18\n",
        "if age >= 18: #condition on which we will take a decision\n",
        "    print(\"You are eligible to vote.\") # decision we will take or we get a result based on a condition.\n"
      ],
      "metadata": {
        "colab": {
          "base_uri": "https://localhost:8080/"
        },
        "id": "AtpzSdTaN09j",
        "outputId": "4df848ed-0e9c-4650-eadd-c752a842f97a"
      },
      "execution_count": null,
      "outputs": [
        {
          "output_type": "stream",
          "name": "stdout",
          "text": [
            "You are eligible to vote.\n"
          ]
        }
      ]
    },
    {
      "cell_type": "code",
      "source": [
        "#if-else Conditional Statement\n",
        "weather = \"sunny\"\n",
        "if weather == \"sunny\": #condition on which we will take a decision\n",
        "    print(\"It's a sunny day.\") # decision we will take or we get a result based on a condition.\n",
        "else:\n",
        "    print(\"It's not a sunny day.\")"
      ],
      "metadata": {
        "colab": {
          "base_uri": "https://localhost:8080/"
        },
        "id": "v25KcfGdO8F6",
        "outputId": "fa3bb49b-228f-455c-ce5c-36a51571341f"
      },
      "execution_count": null,
      "outputs": [
        {
          "output_type": "stream",
          "name": "stdout",
          "text": [
            "It's a sunny day.\n"
          ]
        }
      ]
    },
    {
      "cell_type": "code",
      "source": [
        "# if-elif-else Conditional Statement\n",
        "weather = str(input(\"enter the weather condition :- \"))\n",
        "if weather == \"rainy\": #condition on which we will take a decision\n",
        "    print(\"Dont Play\") # decision we will take based on condtion\n",
        "elif weather == \"foggy\":\n",
        "    print(\"Go for walk\")\n",
        "else:\n",
        "    print(\"Hurray Go To Play\")"
      ],
      "metadata": {
        "colab": {
          "base_uri": "https://localhost:8080/"
        },
        "id": "dUQUmNkiPO8Z",
        "outputId": "30093abc-a4d0-47f9-8f68-b0494e437389"
      },
      "execution_count": null,
      "outputs": [
        {
          "output_type": "stream",
          "name": "stdout",
          "text": [
            "enter the weather condition :- rainy\n",
            "Dont Play\n"
          ]
        }
      ]
    },
    {
      "cell_type": "code",
      "source": [
        "#nested-if Conditional statement\n",
        "age = int(input())\n",
        "citizen = str(input())\n",
        "if age >= 18:\n",
        "    if citizen==\"yes\":\n",
        "        print(\"You are eligible to vote.\")\n",
        "    else:\n",
        "        print(\"You need to be a citizen to vote.\")\n",
        "else:\n",
        "    print(\"You are not eligible to vote.\")\n",
        "\n",
        "\n"
      ],
      "metadata": {
        "id": "sMj7_IuJP_Jo",
        "colab": {
          "base_uri": "https://localhost:8080/"
        },
        "outputId": "2c0d94cf-5a72-4c0e-ee1c-bd38e0f9c057"
      },
      "execution_count": null,
      "outputs": [
        {
          "output_type": "stream",
          "name": "stdout",
          "text": [
            "1\n",
            "yes\n",
            "You are not eligible to vote.\n"
          ]
        }
      ]
    },
    {
      "cell_type": "markdown",
      "source": [
        "---------------------------------------------------------------------------\n"
      ],
      "metadata": {
        "id": "HgO7xFMTU_Ia"
      }
    },
    {
      "cell_type": "code",
      "source": [
        "# 7.Describe the different types of loops in Python and their use cases with examples?"
      ],
      "metadata": {
        "id": "Usy3-Mdh1p22"
      },
      "execution_count": null,
      "outputs": []
    },
    {
      "cell_type": "markdown",
      "source": [
        "**Loops :-** Loop allows us to execute a block of code repeteadly.It will keep repeating the loop till the condition keep becoming true  once the condition becomes turns false the loops get stopped automatically.\n",
        "\n",
        "We can also use control flow break structure and continue in loops.\n",
        "Here break will stop/terminate the loop based on a condition given is not met and continue will skip a conditon when occured and and again move ahead to repeat the loop.\n",
        "\n",
        "**Two types of loops :-**\n",
        "\n",
        "1) while loop\n",
        "\n",
        "2) for loop"
      ],
      "metadata": {
        "id": "VPzn5fwxVYqx"
      }
    },
    {
      "cell_type": "markdown",
      "source": [
        "**While Loop Examples :-**"
      ],
      "metadata": {
        "id": "YibJYO_jkIjk"
      }
    },
    {
      "cell_type": "code",
      "source": [
        "#to check the number less than 5\n",
        "count = 1\n",
        "while count < 5: #while loop will be repeated\n",
        "    print(count)\n",
        "    count += 1 # we will keep updating the data to see iterate in loop and end at condition beccoming false.\n"
      ],
      "metadata": {
        "id": "4Ap9H5TG10cm",
        "colab": {
          "base_uri": "https://localhost:8080/"
        },
        "outputId": "b1e7458a-f0e3-43fb-af76-7e75c81711ae"
      },
      "execution_count": null,
      "outputs": [
        {
          "output_type": "stream",
          "name": "stdout",
          "text": [
            "1\n",
            "2\n",
            "3\n",
            "4\n"
          ]
        }
      ]
    },
    {
      "cell_type": "code",
      "source": [
        "#to check the number less than 5\n",
        "count = 1\n",
        "while count < 5: #while loop will be repeated\n",
        "    print(count)\n",
        "    count += 1 # we will keep updating the data to see iterate in loop and end at condition beccoming false.\n",
        "else:\n",
        "  print(\"List Ended\") #decision when a loop is over"
      ],
      "metadata": {
        "colab": {
          "base_uri": "https://localhost:8080/"
        },
        "id": "ycC9b7WBalMl",
        "outputId": "00c58eb4-3846-4e26-98f5-d58d0df3676e"
      },
      "execution_count": null,
      "outputs": [
        {
          "output_type": "stream",
          "name": "stdout",
          "text": [
            "1\n",
            "2\n",
            "3\n",
            "4\n",
            "List Ended\n"
          ]
        }
      ]
    },
    {
      "cell_type": "code",
      "source": [
        "#to check the number less than 5 and terminating a loop at a condition\n",
        "count = 1\n",
        "while count <= 5: #while loop will be repeated\n",
        "    print(count)\n",
        "    count += 1 # we will keep updating the data to see iterate in loop and end at condition beccoming false.\n",
        "    if count == 3:\n",
        "      print(count)\n",
        "      break\n",
        "else: #else part will be not execute in\n",
        "  print(\"Only This Much\")"
      ],
      "metadata": {
        "colab": {
          "base_uri": "https://localhost:8080/"
        },
        "id": "gbjhbUZkcASG",
        "outputId": "ce18c605-9c17-4547-9415-3c843bb5c8a3"
      },
      "execution_count": null,
      "outputs": [
        {
          "output_type": "stream",
          "name": "stdout",
          "text": [
            "1\n",
            "2\n",
            "3\n"
          ]
        }
      ]
    },
    {
      "cell_type": "code",
      "source": [
        "#to check the number less than 5 and continuing a loop after a condition\n",
        "count = 0\n",
        "while count <= 5: #while loop will be repeated\n",
        "  count = count + 1\n",
        "  if count == 3:\n",
        "    continue\n",
        "  print(count)\n",
        "\n",
        "else: #else part will not be skipped in continue\n",
        "  print(\"Only This Much\")"
      ],
      "metadata": {
        "colab": {
          "base_uri": "https://localhost:8080/"
        },
        "id": "8Z1BMKzwcxdf",
        "outputId": "7413f88f-be07-4018-af44-ea8cd519ac83"
      },
      "execution_count": null,
      "outputs": [
        {
          "output_type": "stream",
          "name": "stdout",
          "text": [
            "1\n",
            "2\n",
            "4\n",
            "5\n",
            "6\n",
            "Only This Much\n"
          ]
        }
      ]
    },
    {
      "cell_type": "markdown",
      "source": [
        "**For Loop Examples :-** for loop iterates on a sequence of data"
      ],
      "metadata": {
        "id": "JXao3-BKkR0C"
      }
    },
    {
      "cell_type": "code",
      "source": [
        "l = [1, 2, 3, 4, 5]\n",
        "for i in l: # i temp variable will access the eliment in list and hold it temporary for the condition check\n",
        "  if i < 5:# i will hold the value of list and check condition and keep repeating iteration till it doesnt become false\n",
        "    print(i)"
      ],
      "metadata": {
        "colab": {
          "base_uri": "https://localhost:8080/"
        },
        "id": "cnoIdq57eFO6",
        "outputId": "4cf7ce0f-432e-43b6-fb45-e354b2b20105"
      },
      "execution_count": null,
      "outputs": [
        {
          "output_type": "stream",
          "name": "stdout",
          "text": [
            "1\n",
            "2\n",
            "3\n",
            "4\n"
          ]
        }
      ]
    },
    {
      "cell_type": "code",
      "source": [
        "l = [1, 2, 3, 4, 5]\n",
        "for i in l:  # i temp variable will access the eliment in list and hold it temporary for the condition check\n",
        "  if i < 5: # i will hold the value of list and check condition and keep repeating iteration till it doesnt become false\n",
        "    print(i)\n",
        "else: # after the conditon if turned false and loop is ended this will be checked and print\n",
        "  print(\"List Ended\")"
      ],
      "metadata": {
        "colab": {
          "base_uri": "https://localhost:8080/"
        },
        "id": "XD6FnLvDlGxy",
        "outputId": "7bec5ceb-efc7-4caf-f301-2acad6685803"
      },
      "execution_count": null,
      "outputs": [
        {
          "output_type": "stream",
          "name": "stdout",
          "text": [
            "1\n",
            "2\n",
            "3\n",
            "4\n",
            "List Ended\n"
          ]
        }
      ]
    },
    {
      "cell_type": "code",
      "source": [
        "l = [1, 2, 3, 4, 5]\n",
        "for i in l:  # i temp variable will access the eliment in list and hold it temporary for the condition check\n",
        "  if i < 5: # i will hold the value of list eliment in it tempory\n",
        "    if i == 3:# value hold will be checked to break if meets it will execute break\n",
        "      break\n",
        "    print(i)\n",
        "else: #this part will not be executed\n",
        "  print(\"List Ended\")"
      ],
      "metadata": {
        "colab": {
          "base_uri": "https://localhost:8080/"
        },
        "id": "HZReoazRmQvv",
        "outputId": "9a7ba6ad-e31f-4d7b-84af-77671e5b575d"
      },
      "execution_count": null,
      "outputs": [
        {
          "output_type": "stream",
          "name": "stdout",
          "text": [
            "1\n",
            "2\n"
          ]
        }
      ]
    },
    {
      "cell_type": "code",
      "source": [
        "l = [1, 2, 3, 4, 5]\n",
        "for i in l: # i temp variable will access the eliment in list and hold it temporary for the condition check\n",
        "  if i < 5: # i will hold the value of list eliment in it tempory\n",
        "    if i == 3:# it will check this conditon to skip using continue\n",
        "      continue\n",
        "  print(i)\n",
        "else:\n",
        "  print(\"List Ended\")"
      ],
      "metadata": {
        "colab": {
          "base_uri": "https://localhost:8080/"
        },
        "id": "2VkhaOaPmbbP",
        "outputId": "a47ed6e4-52c6-4f1b-9a36-33e5d61ea9a4"
      },
      "execution_count": null,
      "outputs": [
        {
          "output_type": "stream",
          "name": "stdout",
          "text": [
            "1\n",
            "2\n",
            "4\n",
            "5\n",
            "List Ended\n"
          ]
        }
      ]
    },
    {
      "cell_type": "markdown",
      "source": [
        "---------------------------------------------------------------------------"
      ],
      "metadata": {
        "id": "SdWgCQDUqfyQ"
      }
    },
    {
      "cell_type": "code",
      "source": [],
      "metadata": {
        "id": "_lqzyJ0hm657"
      },
      "execution_count": null,
      "outputs": []
    }
  ]
}