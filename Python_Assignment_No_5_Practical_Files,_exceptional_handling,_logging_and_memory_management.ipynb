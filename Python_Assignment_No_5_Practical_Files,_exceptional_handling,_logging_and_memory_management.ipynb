{
  "cells": [
    {
      "cell_type": "markdown",
      "source": [
        "**1)How can you open a file for writing in Python and write a string to it?**\n",
        "\n",
        "**Ans:-**"
      ],
      "metadata": {
        "id": "m2FfhNtj4FAp"
      },
      "id": "m2FfhNtj4FAp"
    },
    {
      "cell_type": "code",
      "execution_count": 1,
      "id": "a72080e6",
      "metadata": {
        "id": "a72080e6"
      },
      "outputs": [],
      "source": [
        "with open('file.txt', 'w') as file:\n",
        "    file.write('Hello, world!')\n"
      ]
    },
    {
      "cell_type": "markdown",
      "source": [
        "**2) Write a Python program to read the contents of a file and print each line?**\n",
        "\n",
        "**Ans:-**"
      ],
      "metadata": {
        "id": "azYcYjnT4Njo"
      },
      "id": "azYcYjnT4Njo"
    },
    {
      "cell_type": "code",
      "execution_count": 2,
      "id": "e93d52d9",
      "metadata": {
        "colab": {
          "base_uri": "https://localhost:8080/"
        },
        "id": "e93d52d9",
        "outputId": "2f747e42-c4a8-4b81-f9d9-4204ed8b8d6b"
      },
      "outputs": [
        {
          "output_type": "stream",
          "name": "stdout",
          "text": [
            "Hello, world!\n"
          ]
        }
      ],
      "source": [
        "with open('file.txt', 'r') as file:\n",
        "    for line in file:\n",
        "        print(line)\n"
      ]
    },
    {
      "cell_type": "markdown",
      "source": [
        "**3)  How would you handle a case where the file doesn't exist while trying to open it for reading?**\n",
        "\n",
        "**Ans:-**"
      ],
      "metadata": {
        "id": "Q08wRnc24fMp"
      },
      "id": "Q08wRnc24fMp"
    },
    {
      "cell_type": "code",
      "execution_count": 3,
      "id": "87771520",
      "metadata": {
        "id": "87771520"
      },
      "outputs": [],
      "source": [
        "\n",
        "\n",
        "try:\n",
        "    with open('file.txt', 'r') as file:\n",
        "        content = file.read()\n",
        "except FileNotFoundError:\n",
        "    print('The file does not exist.')\n"
      ]
    },
    {
      "cell_type": "markdown",
      "source": [
        "**4) Write a Python script that reads from one file and writes its content to another file?**\n",
        "\n",
        "**Ans:-**"
      ],
      "metadata": {
        "id": "qRxGKe754pLF"
      },
      "id": "qRxGKe754pLF"
    },
    {
      "cell_type": "code",
      "execution_count": 4,
      "id": "374cd583",
      "metadata": {
        "colab": {
          "base_uri": "https://localhost:8080/",
          "height": 211
        },
        "id": "374cd583",
        "outputId": "3b1e9e64-bb37-45f8-c419-9ed3102dc088"
      },
      "outputs": [
        {
          "output_type": "error",
          "ename": "FileNotFoundError",
          "evalue": "[Errno 2] No such file or directory: 'source.txt'",
          "traceback": [
            "\u001b[0;31m---------------------------------------------------------------------------\u001b[0m",
            "\u001b[0;31mFileNotFoundError\u001b[0m                         Traceback (most recent call last)",
            "\u001b[0;32m<ipython-input-4-4153ed437857>\u001b[0m in \u001b[0;36m<cell line: 1>\u001b[0;34m()\u001b[0m\n\u001b[0;32m----> 1\u001b[0;31m \u001b[0;32mwith\u001b[0m \u001b[0mopen\u001b[0m\u001b[0;34m(\u001b[0m\u001b[0;34m'source.txt'\u001b[0m\u001b[0;34m,\u001b[0m \u001b[0;34m'r'\u001b[0m\u001b[0;34m)\u001b[0m \u001b[0;32mas\u001b[0m \u001b[0msource_file\u001b[0m\u001b[0;34m:\u001b[0m\u001b[0;34m\u001b[0m\u001b[0;34m\u001b[0m\u001b[0m\n\u001b[0m\u001b[1;32m      2\u001b[0m     \u001b[0mcontent\u001b[0m \u001b[0;34m=\u001b[0m \u001b[0msource_file\u001b[0m\u001b[0;34m.\u001b[0m\u001b[0mread\u001b[0m\u001b[0;34m(\u001b[0m\u001b[0;34m)\u001b[0m\u001b[0;34m\u001b[0m\u001b[0;34m\u001b[0m\u001b[0m\n\u001b[1;32m      3\u001b[0m \u001b[0;34m\u001b[0m\u001b[0m\n\u001b[1;32m      4\u001b[0m \u001b[0;32mwith\u001b[0m \u001b[0mopen\u001b[0m\u001b[0;34m(\u001b[0m\u001b[0;34m'destination.txt'\u001b[0m\u001b[0;34m,\u001b[0m \u001b[0;34m'w'\u001b[0m\u001b[0;34m)\u001b[0m \u001b[0;32mas\u001b[0m \u001b[0mdest_file\u001b[0m\u001b[0;34m:\u001b[0m\u001b[0;34m\u001b[0m\u001b[0;34m\u001b[0m\u001b[0m\n\u001b[1;32m      5\u001b[0m     \u001b[0mdest_file\u001b[0m\u001b[0;34m.\u001b[0m\u001b[0mwrite\u001b[0m\u001b[0;34m(\u001b[0m\u001b[0mcontent\u001b[0m\u001b[0;34m)\u001b[0m\u001b[0;34m\u001b[0m\u001b[0;34m\u001b[0m\u001b[0m\n",
            "\u001b[0;31mFileNotFoundError\u001b[0m: [Errno 2] No such file or directory: 'source.txt'"
          ]
        }
      ],
      "source": [
        "with open('source.txt', 'r') as source_file:\n",
        "    content = source_file.read()\n",
        "\n",
        "with open('destination.txt', 'w') as dest_file:\n",
        "    dest_file.write(content)\n"
      ]
    },
    {
      "cell_type": "markdown",
      "source": [
        "**5) How would you catch and handle division by zero error in Python?**\n",
        "\n",
        "**Ans:-**"
      ],
      "metadata": {
        "id": "h22gPgRr4xBg"
      },
      "id": "h22gPgRr4xBg"
    },
    {
      "cell_type": "code",
      "execution_count": 5,
      "id": "8fa4785b",
      "metadata": {
        "colab": {
          "base_uri": "https://localhost:8080/"
        },
        "id": "8fa4785b",
        "outputId": "ceeb196d-2751-4754-dcfc-51c0a931c947"
      },
      "outputs": [
        {
          "output_type": "stream",
          "name": "stdout",
          "text": [
            "Cannot divide by zero.\n"
          ]
        }
      ],
      "source": [
        "try:\n",
        "    result = 10 / 0\n",
        "except ZeroDivisionError:\n",
        "    print('Cannot divide by zero.')\n"
      ]
    },
    {
      "cell_type": "markdown",
      "source": [
        "**6) Write a Python program that logs an error message to a log file when a division by zero exception occurs?**\n",
        "\n",
        "**Ans:-**"
      ],
      "metadata": {
        "id": "s2FZJzG048Qr"
      },
      "id": "s2FZJzG048Qr"
    },
    {
      "cell_type": "code",
      "execution_count": 6,
      "id": "397d98d9",
      "metadata": {
        "colab": {
          "base_uri": "https://localhost:8080/"
        },
        "id": "397d98d9",
        "outputId": "fff2779c-770a-482f-cffe-c638e89f0827"
      },
      "outputs": [
        {
          "output_type": "stream",
          "name": "stderr",
          "text": [
            "ERROR:root:Error: division by zero\n"
          ]
        }
      ],
      "source": [
        "import logging\n",
        "\n",
        "logging.basicConfig(filename='error.log', level=logging.ERROR)\n",
        "\n",
        "try:\n",
        "    result = 10 / 0\n",
        "except ZeroDivisionError as e:\n",
        "    logging.error(f'Error: {e}')\n"
      ]
    },
    {
      "cell_type": "markdown",
      "source": [
        "**7) How do you log information at different levels (INFO, ERROR, WARNING) in Python using the logging module?**\n",
        "\n",
        "**Ans:-**"
      ],
      "metadata": {
        "id": "M2MvzoCh5F3q"
      },
      "id": "M2MvzoCh5F3q"
    },
    {
      "cell_type": "code",
      "execution_count": 7,
      "id": "320c9435",
      "metadata": {
        "colab": {
          "base_uri": "https://localhost:8080/"
        },
        "id": "320c9435",
        "outputId": "6276e0cb-f027-4508-e988-121b97da2fad"
      },
      "outputs": [
        {
          "output_type": "stream",
          "name": "stderr",
          "text": [
            "WARNING:root:This is a warning message.\n",
            "ERROR:root:This is an error message.\n"
          ]
        }
      ],
      "source": [
        "\n",
        "\n",
        "import logging\n",
        "\n",
        "logging.basicConfig(level=logging.DEBUG)\n",
        "\n",
        "logging.info('This is an info message.')\n",
        "logging.warning('This is a warning message.')\n",
        "logging.error('This is an error message.')\n"
      ]
    },
    {
      "cell_type": "markdown",
      "source": [
        "**8) Write a program to handle a file opening error using exception handling?**\n",
        "\n",
        "**Ans:-**"
      ],
      "metadata": {
        "id": "y5Q_eTPq5SvR"
      },
      "id": "y5Q_eTPq5SvR"
    },
    {
      "cell_type": "code",
      "execution_count": 8,
      "id": "1439ef07",
      "metadata": {
        "id": "1439ef07"
      },
      "outputs": [],
      "source": [
        "\n",
        "try:\n",
        "    with open('file.txt', 'r') as file:\n",
        "        content = file.read()\n",
        "except IOError:\n",
        "    print('Error opening the file.')\n"
      ]
    },
    {
      "cell_type": "markdown",
      "source": [
        "**9) How can you read a file line by line and store its content in a list in Python?**\n",
        "\n",
        "**Ans:-**"
      ],
      "metadata": {
        "id": "ZYt3Nm1A5cGK"
      },
      "id": "ZYt3Nm1A5cGK"
    },
    {
      "cell_type": "code",
      "execution_count": 9,
      "id": "e7371391",
      "metadata": {
        "colab": {
          "base_uri": "https://localhost:8080/"
        },
        "id": "e7371391",
        "outputId": "3339914a-503f-4efa-bd1a-1c3225cd8384"
      },
      "outputs": [
        {
          "output_type": "stream",
          "name": "stdout",
          "text": [
            "['Hello, world!']\n"
          ]
        }
      ],
      "source": [
        "with open('file.txt', 'r') as file:\n",
        "    lines = file.readlines()\n",
        "\n",
        "print(lines)\n"
      ]
    },
    {
      "cell_type": "markdown",
      "source": [
        "**10) How can you append data to an existing file in Python?**\n",
        "\n",
        "**Ans:-**"
      ],
      "metadata": {
        "id": "MbC7K4H25m6F"
      },
      "id": "MbC7K4H25m6F"
    },
    {
      "cell_type": "code",
      "execution_count": 10,
      "id": "74912752",
      "metadata": {
        "id": "74912752"
      },
      "outputs": [],
      "source": [
        "with open('file.txt', 'a') as file:\n",
        "    file.write('Appending new data.\\n')"
      ]
    },
    {
      "cell_type": "markdown",
      "source": [
        "**11) Write a Python program that uses a try-except block to handle an error when attempting to access a dictionary key that doesn't exist?**\n",
        "\n",
        "**Ans:-**\n"
      ],
      "metadata": {
        "id": "t6C_oi7M5yR2"
      },
      "id": "t6C_oi7M5yR2"
    },
    {
      "cell_type": "code",
      "execution_count": 11,
      "id": "a755aa02",
      "metadata": {
        "colab": {
          "base_uri": "https://localhost:8080/"
        },
        "id": "a755aa02",
        "outputId": "e5f2ff52-f866-45db-841e-2fbb6c7cd2fb"
      },
      "outputs": [
        {
          "output_type": "stream",
          "name": "stdout",
          "text": [
            "Key not found.\n"
          ]
        }
      ],
      "source": [
        "\n",
        "my_dict = {'a': 1, 'b': 2}\n",
        "\n",
        "try:\n",
        "    value = my_dict['c']\n",
        "except KeyError:\n",
        "    print('Key not found.')\n"
      ]
    },
    {
      "cell_type": "markdown",
      "source": [
        "**12)Write a program that demonstrates using multiple except blocks to handle different types of exceptions?**\n",
        "\n",
        "**Ans:-**"
      ],
      "metadata": {
        "id": "4SVJ4yw359kM"
      },
      "id": "4SVJ4yw359kM"
    },
    {
      "cell_type": "code",
      "execution_count": 12,
      "id": "dbee62e9",
      "metadata": {
        "colab": {
          "base_uri": "https://localhost:8080/"
        },
        "id": "dbee62e9",
        "outputId": "d037b9d2-d8e6-4bd5-d9da-8f0e700edd15"
      },
      "outputs": [
        {
          "output_type": "stream",
          "name": "stdout",
          "text": [
            "Cannot divide by zero.\n"
          ]
        }
      ],
      "source": [
        "try:\n",
        "    result = 10 / 0\n",
        "    my_dict = {'a': 1}\n",
        "    value = my_dict['b']\n",
        "except ZeroDivisionError:\n",
        "    print('Cannot divide by zero.')\n",
        "except KeyError:\n",
        "    print('Key not found.')"
      ]
    },
    {
      "cell_type": "markdown",
      "source": [
        "**13) How would you check if a file exists before attempting to read it in Python?**\n",
        "\n",
        "**Ans:-**"
      ],
      "metadata": {
        "id": "VEw1kMMj6Gmc"
      },
      "id": "VEw1kMMj6Gmc"
    },
    {
      "cell_type": "code",
      "execution_count": 13,
      "id": "3da6898a",
      "metadata": {
        "id": "3da6898a"
      },
      "outputs": [],
      "source": [
        "import os\n",
        "\n",
        "if os.path.exists('file.txt'):\n",
        "    with open('file.txt', 'r') as file:\n",
        "        content = file.read()\n",
        "else:\n",
        "    print('File does not exist.')\n"
      ]
    },
    {
      "cell_type": "markdown",
      "source": [
        "**14) Write a program that uses the logging module to log both informational and error messages?**\n",
        "\n",
        "**Ans:-**"
      ],
      "metadata": {
        "id": "YGj_1_oQ6QF_"
      },
      "id": "YGj_1_oQ6QF_"
    },
    {
      "cell_type": "code",
      "execution_count": 14,
      "id": "6094ef1c",
      "metadata": {
        "colab": {
          "base_uri": "https://localhost:8080/"
        },
        "id": "6094ef1c",
        "outputId": "2f806bab-154a-4eb2-8332-4c12861a4881"
      },
      "outputs": [
        {
          "output_type": "stream",
          "name": "stderr",
          "text": [
            "ERROR:root:This is an error message.\n"
          ]
        }
      ],
      "source": [
        "\n",
        "import logging\n",
        "\n",
        "logging.basicConfig(level=logging.DEBUG)\n",
        "\n",
        "logging.info('This is an informational message.')\n",
        "logging.error('This is an error message.')\n"
      ]
    },
    {
      "cell_type": "markdown",
      "source": [
        "**15)Write a Python program that prints the content of a file and handles the case when the file is empty?**\n",
        "\n",
        "**Ans:-**"
      ],
      "metadata": {
        "id": "HOMp63ei6YcE"
      },
      "id": "HOMp63ei6YcE"
    },
    {
      "cell_type": "code",
      "execution_count": 15,
      "id": "f1b1493b",
      "metadata": {
        "colab": {
          "base_uri": "https://localhost:8080/"
        },
        "id": "f1b1493b",
        "outputId": "152cf392-ede3-437b-9267-317cc87962c2"
      },
      "outputs": [
        {
          "output_type": "stream",
          "name": "stdout",
          "text": [
            "Hello, world!Appending new data.\n",
            "\n"
          ]
        }
      ],
      "source": [
        "\n",
        "try:\n",
        "    with open('file.txt', 'r') as file:\n",
        "        content = file.read()\n",
        "        if content:\n",
        "            print(content)\n",
        "        else:\n",
        "            print('The file is empty.')\n",
        "except FileNotFoundError:\n",
        "    print('The file does not exist.')\n"
      ]
    },
    {
      "cell_type": "markdown",
      "source": [
        "**16) Demonstrate how to use memory profiling to check the memory usage of a small program?**\n",
        "\n",
        "**Ans:-**"
      ],
      "metadata": {
        "id": "BMW8pXOr6f7K"
      },
      "id": "BMW8pXOr6f7K"
    },
    {
      "cell_type": "code",
      "execution_count": 16,
      "id": "d04ad981",
      "metadata": {
        "colab": {
          "base_uri": "https://localhost:8080/",
          "height": 384
        },
        "id": "d04ad981",
        "outputId": "c474698a-659b-43f9-81f2-3d197bb6eb3d"
      },
      "outputs": [
        {
          "output_type": "error",
          "ename": "ModuleNotFoundError",
          "evalue": "No module named 'memory_profiler'",
          "traceback": [
            "\u001b[0;31m---------------------------------------------------------------------------\u001b[0m",
            "\u001b[0;31mModuleNotFoundError\u001b[0m                       Traceback (most recent call last)",
            "\u001b[0;32m<ipython-input-16-fc6f75a73948>\u001b[0m in \u001b[0;36m<cell line: 1>\u001b[0;34m()\u001b[0m\n\u001b[0;32m----> 1\u001b[0;31m \u001b[0;32mfrom\u001b[0m \u001b[0mmemory_profiler\u001b[0m \u001b[0;32mimport\u001b[0m \u001b[0mprofile\u001b[0m\u001b[0;34m\u001b[0m\u001b[0;34m\u001b[0m\u001b[0m\n\u001b[0m\u001b[1;32m      2\u001b[0m \u001b[0;34m\u001b[0m\u001b[0m\n\u001b[1;32m      3\u001b[0m \u001b[0;34m@\u001b[0m\u001b[0mprofile\u001b[0m\u001b[0;34m\u001b[0m\u001b[0;34m\u001b[0m\u001b[0m\n\u001b[1;32m      4\u001b[0m \u001b[0;32mdef\u001b[0m \u001b[0mmy_function\u001b[0m\u001b[0;34m(\u001b[0m\u001b[0;34m)\u001b[0m\u001b[0;34m:\u001b[0m\u001b[0;34m\u001b[0m\u001b[0;34m\u001b[0m\u001b[0m\n\u001b[1;32m      5\u001b[0m     \u001b[0ma\u001b[0m \u001b[0;34m=\u001b[0m \u001b[0;34m[\u001b[0m\u001b[0mi\u001b[0m \u001b[0;32mfor\u001b[0m \u001b[0mi\u001b[0m \u001b[0;32min\u001b[0m \u001b[0mrange\u001b[0m\u001b[0;34m(\u001b[0m\u001b[0;36m10000\u001b[0m\u001b[0;34m)\u001b[0m\u001b[0;34m]\u001b[0m\u001b[0;34m\u001b[0m\u001b[0;34m\u001b[0m\u001b[0m\n",
            "\u001b[0;31mModuleNotFoundError\u001b[0m: No module named 'memory_profiler'",
            "",
            "\u001b[0;31m---------------------------------------------------------------------------\u001b[0;32m\nNOTE: If your import is failing due to a missing package, you can\nmanually install dependencies using either !pip or !apt.\n\nTo view examples of installing some common dependencies, click the\n\"Open Examples\" button below.\n\u001b[0;31m---------------------------------------------------------------------------\u001b[0m\n"
          ],
          "errorDetails": {
            "actions": [
              {
                "action": "open_url",
                "actionText": "Open Examples",
                "url": "/notebooks/snippets/importing_libraries.ipynb"
              }
            ]
          }
        }
      ],
      "source": [
        "from memory_profiler import profile\n",
        "\n",
        "@profile\n",
        "def my_function():\n",
        "    a = [i for i in range(10000)]\n",
        "    return a\n",
        "\n",
        "my_function()\n"
      ]
    },
    {
      "cell_type": "markdown",
      "source": [
        "**17)Write a Python program to create and write a list of numbers to a file, one number per line?**\n",
        "\n",
        "**Ans:-**"
      ],
      "metadata": {
        "id": "PN6d_8-h6sRS"
      },
      "id": "PN6d_8-h6sRS"
    },
    {
      "cell_type": "code",
      "execution_count": 17,
      "id": "3ac2e5c1",
      "metadata": {
        "id": "3ac2e5c1"
      },
      "outputs": [],
      "source": [
        "\n",
        "numbers = [1, 2, 3, 4, 5]\n",
        "\n",
        "with open('numbers.txt', 'w') as file:\n",
        "    for number in numbers:\n",
        "        file.write(f'{number}\\n')\n"
      ]
    },
    {
      "cell_type": "markdown",
      "source": [
        "**18) How would you implement a basic logging setup that logs to a file with rotation after 1MB?**\n",
        "\n",
        "**Ans:-**"
      ],
      "metadata": {
        "id": "aVBdArde61zq"
      },
      "id": "aVBdArde61zq"
    },
    {
      "cell_type": "code",
      "execution_count": 18,
      "id": "f71261c2",
      "metadata": {
        "id": "f71261c2"
      },
      "outputs": [],
      "source": [
        "\n",
        "import logging\n",
        "from logging.handlers import RotatingFileHandler\n",
        "\n",
        "handler = RotatingFileHandler('log.txt', maxBytes=1e6, backupCount=3)\n",
        "logging.basicConfig(handlers=[handler], level=logging.INFO)\n",
        "\n",
        "logging.info('This is a log message.')\n"
      ]
    },
    {
      "cell_type": "markdown",
      "source": [
        "**19)Write a program that handles both IndexError and KeyError using a try-except block?**\n",
        "\n",
        "**Ans:-**"
      ],
      "metadata": {
        "id": "wwTIKUJB6-Ff"
      },
      "id": "wwTIKUJB6-Ff"
    },
    {
      "cell_type": "code",
      "execution_count": null,
      "id": "c996a30d",
      "metadata": {
        "id": "c996a30d"
      },
      "outputs": [],
      "source": [
        "\n",
        "my_list = [1, 2, 3]\n",
        "my_dict = {'a': 1}\n",
        "\n",
        "try:\n",
        "    print(my_list[5])\n",
        "except IndexError:\n",
        "    print('Index out of range.')\n",
        "\n",
        "try:\n",
        "    print(my_dict['b'])\n",
        "except KeyError:\n",
        "    print('Key not found.')\n"
      ]
    },
    {
      "cell_type": "markdown",
      "source": [
        "**20)How would you open a file and read its contents using a context manager in Python?**\n",
        "\n",
        "**Ans:-**"
      ],
      "metadata": {
        "id": "A0r9JTlb7E7c"
      },
      "id": "A0r9JTlb7E7c"
    },
    {
      "cell_type": "code",
      "execution_count": 19,
      "id": "23588ff1",
      "metadata": {
        "colab": {
          "base_uri": "https://localhost:8080/"
        },
        "id": "23588ff1",
        "outputId": "64793cb6-19fe-4c4a-d96c-da194596dea8"
      },
      "outputs": [
        {
          "output_type": "stream",
          "name": "stdout",
          "text": [
            "Hello, world!Appending new data.\n",
            "\n"
          ]
        }
      ],
      "source": [
        "\n",
        "with open('file.txt', 'r') as file:\n",
        "    content = file.read()\n",
        "    print(content)\n"
      ]
    },
    {
      "cell_type": "markdown",
      "source": [
        "**21)Write a Python program that reads a file and prints the number of occurrences of a specific word?**\n",
        "\n",
        "**Ans:-**"
      ],
      "metadata": {
        "id": "fCYVEV247Lnx"
      },
      "id": "fCYVEV247Lnx"
    },
    {
      "cell_type": "code",
      "execution_count": 20,
      "id": "fc8cab7a",
      "metadata": {
        "colab": {
          "base_uri": "https://localhost:8080/"
        },
        "id": "fc8cab7a",
        "outputId": "f45341cd-27bc-4bca-95e9-78ad72f773b1"
      },
      "outputs": [
        {
          "output_type": "stream",
          "name": "stdout",
          "text": [
            "The word Python occurs 0 times.\n"
          ]
        }
      ],
      "source": [
        "\n",
        "word = 'Python'\n",
        "count = 0\n",
        "\n",
        "with open('file.txt', 'r') as file:\n",
        "    for line in file:\n",
        "        count += line.lower().split().count(word.lower())\n",
        "\n",
        "print(f'The word {word} occurs {count} times.')\n"
      ]
    },
    {
      "cell_type": "markdown",
      "source": [
        "** 22)How can you check if a file is empty before attempting to read its contents?**\n",
        "\n",
        "**Ans:-**"
      ],
      "metadata": {
        "id": "9SISXj-Q7TuP"
      },
      "id": "9SISXj-Q7TuP"
    },
    {
      "cell_type": "code",
      "execution_count": 21,
      "id": "ad9b3796",
      "metadata": {
        "id": "ad9b3796"
      },
      "outputs": [],
      "source": [
        "\n",
        "import os\n",
        "\n",
        "if os.path.getsize('file.txt') > 0:\n",
        "    with open('file.txt', 'r') as file:\n",
        "        content = file.read()\n",
        "else:\n",
        "    print('The file is empty.')\n"
      ]
    },
    {
      "cell_type": "markdown",
      "source": [
        "**23)Write a Python program that writes to a log file when an error occurs during file handling?**\n",
        "\n",
        "**Ans:-**"
      ],
      "metadata": {
        "id": "38vza6Y47bJ2"
      },
      "id": "38vza6Y47bJ2"
    },
    {
      "cell_type": "code",
      "execution_count": 22,
      "id": "1db9d066",
      "metadata": {
        "colab": {
          "base_uri": "https://localhost:8080/"
        },
        "id": "1db9d066",
        "outputId": "5bd3d831-86fe-4756-c6ec-ad0f9fc9774d"
      },
      "outputs": [
        {
          "output_type": "stream",
          "name": "stderr",
          "text": [
            "ERROR:root:File error: [Errno 2] No such file or directory: 'non_existing_file.txt'\n"
          ]
        }
      ],
      "source": [
        "\n",
        "import logging\n",
        "\n",
        "logging.basicConfig(filename='file_error.log', level=logging.ERROR)\n",
        "\n",
        "try:\n",
        "    with open('non_existing_file.txt', 'r') as file:\n",
        "        content = file.read()\n",
        "except FileNotFoundError as e:\n",
        "    logging.error(f'File error: {e}')\n"
      ]
    },
    {
      "cell_type": "code",
      "source": [],
      "metadata": {
        "id": "xWDzNaVO7gAy"
      },
      "id": "xWDzNaVO7gAy",
      "execution_count": null,
      "outputs": []
    }
  ],
  "metadata": {
    "colab": {
      "provenance": []
    },
    "language_info": {
      "name": "python"
    },
    "kernelspec": {
      "name": "python3",
      "display_name": "Python 3"
    }
  },
  "nbformat": 4,
  "nbformat_minor": 5
}