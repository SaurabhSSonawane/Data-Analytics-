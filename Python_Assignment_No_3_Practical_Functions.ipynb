{
  "nbformat": 4,
  "nbformat_minor": 0,
  "metadata": {
    "colab": {
      "provenance": []
    },
    "kernelspec": {
      "name": "python3",
      "display_name": "Python 3"
    },
    "language_info": {
      "name": "python"
    }
  },
  "cells": [
    {
      "cell_type": "markdown",
      "source": [
        "**1. Write a Python function that takes a list of numbers as input and returns the sum of all even numbers in\n",
        "the list?**\n",
        "\n",
        "**Ans:-**"
      ],
      "metadata": {
        "id": "esWdKDqqUg3d"
      }
    },
    {
      "cell_type": "code",
      "execution_count": null,
      "metadata": {
        "colab": {
          "base_uri": "https://localhost:8080/"
        },
        "id": "qgrY9tHFUU2f",
        "outputId": "cf4570f3-cd25-4b29-d4ee-4f08a6cd530b"
      },
      "outputs": [
        {
          "output_type": "stream",
          "name": "stdout",
          "text": [
            "12\n"
          ]
        }
      ],
      "source": [
        "def sum_even_numbers(numbers):\n",
        "    total = 0\n",
        "    # Iterate through the list and add even numbers to the sum\n",
        "    for num in numbers:\n",
        "        if num % 2 == 0:  # Check if the number is even\n",
        "            total += num\n",
        "    return total\n",
        "\n",
        "# use case\n",
        "numbers = [1, 2, 3, 4, 5, 6]\n",
        "result = sum_even_numbers(numbers)\n",
        "print(result)"
      ]
    },
    {
      "cell_type": "markdown",
      "source": [
        "---------------------------------------------------------------------------"
      ],
      "metadata": {
        "id": "X6ZKUihwVg-T"
      }
    },
    {
      "cell_type": "markdown",
      "source": [
        "---------------------------------------------------------------------------"
      ],
      "metadata": {
        "id": "Iqx6Tby9VjPs"
      }
    },
    {
      "cell_type": "markdown",
      "source": [
        "**2. Create a Python function that accepts a string and returns the reverse of that string?**\n",
        "\n",
        "**Ans:-**"
      ],
      "metadata": {
        "id": "d7VSKU7gVgsR"
      }
    },
    {
      "cell_type": "code",
      "source": [
        "#python function that accepts a string and returns the reverse of that string\n",
        "def reverse_string(s):\n",
        "    return s[::-1]\n",
        "\n",
        "result = reverse_string(\"hello\")\n",
        "print(result)\n"
      ],
      "metadata": {
        "colab": {
          "base_uri": "https://localhost:8080/"
        },
        "id": "wio0m_AjVOGg",
        "outputId": "52f10c08-f2f5-407f-b7a3-a52ffce2917e"
      },
      "execution_count": null,
      "outputs": [
        {
          "output_type": "stream",
          "name": "stdout",
          "text": [
            "olleh\n"
          ]
        }
      ]
    },
    {
      "cell_type": "markdown",
      "source": [
        "---------------------------------------------------------------------------"
      ],
      "metadata": {
        "id": "4CsJcG3SWOTV"
      }
    },
    {
      "cell_type": "markdown",
      "source": [
        "---------------------------------------------------------------------------"
      ],
      "metadata": {
        "id": "u8Pg59JLWOEE"
      }
    },
    {
      "cell_type": "markdown",
      "source": [
        "**3. Implement a Python function that takes a list of integers and returns a new list containing the squares of\n",
        "each number?**\n",
        "\n",
        "**Ans:-**"
      ],
      "metadata": {
        "id": "jwODz-26WWb0"
      }
    },
    {
      "cell_type": "code",
      "source": [
        "def square_numbers(nums):\n",
        "    return [num ** 2 for num in nums]\n",
        "\n",
        "numbers = [1, 2, 3, 4, 5]\n",
        "squared_numbers = square_numbers(numbers)\n",
        "print(squared_numbers)"
      ],
      "metadata": {
        "colab": {
          "base_uri": "https://localhost:8080/"
        },
        "id": "4Rcd2c3fWA2W",
        "outputId": "fa6944e2-8b3e-4f58-aac2-d6b9c8608dbf"
      },
      "execution_count": null,
      "outputs": [
        {
          "output_type": "stream",
          "name": "stdout",
          "text": [
            "[1, 4, 9, 16, 25]\n"
          ]
        }
      ]
    },
    {
      "cell_type": "markdown",
      "source": [
        "---------------------------------------------------------------------------"
      ],
      "metadata": {
        "id": "oIKfEmSrWlA1"
      }
    },
    {
      "cell_type": "markdown",
      "source": [
        "---------------------------------------------------------------------------"
      ],
      "metadata": {
        "id": "qlHOV6OEWk90"
      }
    },
    {
      "cell_type": "markdown",
      "source": [
        "**4. Write a Python function that checks if a given number is prime or not from 1 to 200?**\n",
        "\n",
        "**Ans:-**"
      ],
      "metadata": {
        "id": "iX752A0BWprU"
      }
    },
    {
      "cell_type": "code",
      "source": [
        "def is_prime(n):\n",
        "    if n <= 1:\n",
        "        return False  # Numbers less than or equal to 1 are not prime\n",
        "    for i in range(2, int(n ** 0.5) + 1):\n",
        "        if n % i == 0:\n",
        "            return False  # n is divisible by some number other than 1 and itself\n",
        "    return True  # n is prime\n",
        "\n",
        "# Check prime numbers from 1 to 200\n",
        "for number in range(1, 201):\n",
        "    if is_prime(number):\n",
        "        print(number, \"is a prime number\")\n"
      ],
      "metadata": {
        "colab": {
          "base_uri": "https://localhost:8080/"
        },
        "id": "ya35GgGeWiWb",
        "outputId": "ec5448c8-4d13-4542-adb6-35616f0e236b"
      },
      "execution_count": null,
      "outputs": [
        {
          "output_type": "stream",
          "name": "stdout",
          "text": [
            "2 is a prime number\n",
            "3 is a prime number\n",
            "5 is a prime number\n",
            "7 is a prime number\n",
            "11 is a prime number\n",
            "13 is a prime number\n",
            "17 is a prime number\n",
            "19 is a prime number\n",
            "23 is a prime number\n",
            "29 is a prime number\n",
            "31 is a prime number\n",
            "37 is a prime number\n",
            "41 is a prime number\n",
            "43 is a prime number\n",
            "47 is a prime number\n",
            "53 is a prime number\n",
            "59 is a prime number\n",
            "61 is a prime number\n",
            "67 is a prime number\n",
            "71 is a prime number\n",
            "73 is a prime number\n",
            "79 is a prime number\n",
            "83 is a prime number\n",
            "89 is a prime number\n",
            "97 is a prime number\n",
            "101 is a prime number\n",
            "103 is a prime number\n",
            "107 is a prime number\n",
            "109 is a prime number\n",
            "113 is a prime number\n",
            "127 is a prime number\n",
            "131 is a prime number\n",
            "137 is a prime number\n",
            "139 is a prime number\n",
            "149 is a prime number\n",
            "151 is a prime number\n",
            "157 is a prime number\n",
            "163 is a prime number\n",
            "167 is a prime number\n",
            "173 is a prime number\n",
            "179 is a prime number\n",
            "181 is a prime number\n",
            "191 is a prime number\n",
            "193 is a prime number\n",
            "197 is a prime number\n",
            "199 is a prime number\n"
          ]
        }
      ]
    },
    {
      "cell_type": "markdown",
      "source": [
        "---------------------------------------------------------------------------"
      ],
      "metadata": {
        "id": "g_z16sR0W-9M"
      }
    },
    {
      "cell_type": "markdown",
      "source": [
        "---------------------------------------------------------------------------"
      ],
      "metadata": {
        "id": "q2OsGTo3W-wM"
      }
    },
    {
      "cell_type": "markdown",
      "source": [
        "**5. Create an iterator class in Python that generates the Fibonacci sequence up to a specified number of\n",
        "terms?**\n",
        "\n",
        "**Ans:-**"
      ],
      "metadata": {
        "id": "fnjQFq7-XDNV"
      }
    },
    {
      "cell_type": "code",
      "source": [
        "class FibonacciIterator:\n",
        "    def __init__(self, n):\n",
        "        \"\"\"Initialize the Fibonacci iterator with a specified number of terms (n).\"\"\"\n",
        "        self.n = n  # Total number of terms to generate\n",
        "        self.a, self.b = 0, 1  # Starting values of the Fibonacci sequence\n",
        "        self.count = 0  # Counter to keep track of the number of terms generated\n",
        "\n",
        "    def __iter__(self):\n",
        "        \"\"\"Return the iterator object itself.\"\"\"\n",
        "        return self\n",
        "\n",
        "    def __next__(self):\n",
        "        \"\"\"Return the next Fibonacci number in the sequence.\"\"\"\n",
        "        if self.count >= self.n:\n",
        "            raise StopIteration  # Stop the iteration once the specified number of terms is reached\n",
        "        self.count += 1\n",
        "        # Return the current Fibonacci number\n",
        "        current = self.a\n",
        "        self.a, self.b = self.b, self.a + self.b  # Update the Fibonacci numbers\n",
        "        return current\n",
        "\n",
        "# Example usage:\n",
        "fib = FibonacciIterator(10)  # Create an iterator for the first 10 Fibonacci numbers\n",
        "for num in fib:\n",
        "    print(num)\n"
      ],
      "metadata": {
        "colab": {
          "base_uri": "https://localhost:8080/"
        },
        "id": "vLI_xF1aW2DD",
        "outputId": "c5766291-c53f-4ee0-aec7-485d06aa2a59"
      },
      "execution_count": null,
      "outputs": [
        {
          "output_type": "stream",
          "name": "stdout",
          "text": [
            "0\n",
            "1\n",
            "1\n",
            "2\n",
            "3\n",
            "5\n",
            "8\n",
            "13\n",
            "21\n",
            "34\n"
          ]
        }
      ]
    },
    {
      "cell_type": "markdown",
      "source": [
        "---------------------------------------------------------------------------"
      ],
      "metadata": {
        "id": "wRDMDghkXTzf"
      }
    },
    {
      "cell_type": "markdown",
      "source": [
        "---------------------------------------------------------------------------\n"
      ],
      "metadata": {
        "id": "TOCRCdipXWYd"
      }
    },
    {
      "cell_type": "markdown",
      "source": [
        "**6. Write a generator function in Python that yields the powers of 2 up to a given exponent?**\n",
        "\n",
        "**Ans:-**"
      ],
      "metadata": {
        "id": "g-kNvd3oXXom"
      }
    },
    {
      "cell_type": "code",
      "source": [
        "def powers_of_two(exponent):\n",
        "    for i in range(exponent + 1):\n",
        "        yield 2 ** i\n",
        "\n",
        "\n",
        "for power in powers_of_two(5):\n",
        "    print(power)\n"
      ],
      "metadata": {
        "colab": {
          "base_uri": "https://localhost:8080/"
        },
        "id": "aFmSDt_HXPqT",
        "outputId": "10b389d4-3a67-4689-c1d7-1bd65d5adb1c"
      },
      "execution_count": null,
      "outputs": [
        {
          "output_type": "stream",
          "name": "stdout",
          "text": [
            "1\n",
            "2\n",
            "4\n",
            "8\n",
            "16\n",
            "32\n"
          ]
        }
      ]
    },
    {
      "cell_type": "markdown",
      "source": [
        "---------------------------------------------------------------------------"
      ],
      "metadata": {
        "id": "SvCpZcWIXnNG"
      }
    },
    {
      "cell_type": "markdown",
      "source": [
        "---------------------------------------------------------------------------"
      ],
      "metadata": {
        "id": "Otrf_tA7XnDC"
      }
    },
    {
      "cell_type": "markdown",
      "source": [
        "**7. Implement a generator function that reads a file line by line and yields each line as a string?**\n",
        "\n",
        "**Ans:-**"
      ],
      "metadata": {
        "id": "YkcbQjRnXral"
      }
    },
    {
      "cell_type": "code",
      "source": [
        "def read_file_line_by_line(file_path):\n",
        "    # Open the file using the 'with' statement to ensure proper closure\n",
        "    with open(\"D:\\Windows Virus\\myfile.txt\", 'r') as file:\n",
        "        # Iterate through the file line by line\n",
        "      for line in file:\n",
        "            # Yield each line, stripping leading/trailing whitespace (like newlines)\n",
        "            yield line.strip()\n",
        "\n",
        "# Provide the correct file path to your file\n",
        "file_path = r\"D:\\myfile.txt\"\n",
        "\n",
        "# Use the generator function to read and print each line of the file\n",
        "for line in read_file_line_by_line(file_path):\n",
        "    print(line)\n"
      ],
      "metadata": {
        "colab": {
          "base_uri": "https://localhost:8080/",
          "height": 315
        },
        "id": "0F6K0uZ9csm8",
        "outputId": "8746bdff-721a-4659-9ea1-dce187b158ca"
      },
      "execution_count": 1,
      "outputs": [
        {
          "output_type": "error",
          "ename": "FileNotFoundError",
          "evalue": "[Errno 2] No such file or directory: 'D:\\\\Windows Virus\\\\myfile.txt'",
          "traceback": [
            "\u001b[0;31m---------------------------------------------------------------------------\u001b[0m",
            "\u001b[0;31mFileNotFoundError\u001b[0m                         Traceback (most recent call last)",
            "\u001b[0;32m<ipython-input-1-77e82dac3e83>\u001b[0m in \u001b[0;36m<cell line: 13>\u001b[0;34m()\u001b[0m\n\u001b[1;32m     11\u001b[0m \u001b[0;34m\u001b[0m\u001b[0m\n\u001b[1;32m     12\u001b[0m \u001b[0;31m# Use the generator function to read and print each line of the file\u001b[0m\u001b[0;34m\u001b[0m\u001b[0;34m\u001b[0m\u001b[0m\n\u001b[0;32m---> 13\u001b[0;31m \u001b[0;32mfor\u001b[0m \u001b[0mline\u001b[0m \u001b[0;32min\u001b[0m \u001b[0mread_file_line_by_line\u001b[0m\u001b[0;34m(\u001b[0m\u001b[0mfile_path\u001b[0m\u001b[0;34m)\u001b[0m\u001b[0;34m:\u001b[0m\u001b[0;34m\u001b[0m\u001b[0;34m\u001b[0m\u001b[0m\n\u001b[0m\u001b[1;32m     14\u001b[0m     \u001b[0mprint\u001b[0m\u001b[0;34m(\u001b[0m\u001b[0mline\u001b[0m\u001b[0;34m)\u001b[0m\u001b[0;34m\u001b[0m\u001b[0;34m\u001b[0m\u001b[0m\n",
            "\u001b[0;32m<ipython-input-1-77e82dac3e83>\u001b[0m in \u001b[0;36mread_file_line_by_line\u001b[0;34m(file_path)\u001b[0m\n\u001b[1;32m      1\u001b[0m \u001b[0;32mdef\u001b[0m \u001b[0mread_file_line_by_line\u001b[0m\u001b[0;34m(\u001b[0m\u001b[0mfile_path\u001b[0m\u001b[0;34m)\u001b[0m\u001b[0;34m:\u001b[0m\u001b[0;34m\u001b[0m\u001b[0;34m\u001b[0m\u001b[0m\n\u001b[1;32m      2\u001b[0m     \u001b[0;31m# Open the file using the 'with' statement to ensure proper closure\u001b[0m\u001b[0;34m\u001b[0m\u001b[0;34m\u001b[0m\u001b[0m\n\u001b[0;32m----> 3\u001b[0;31m     \u001b[0;32mwith\u001b[0m \u001b[0mopen\u001b[0m\u001b[0;34m(\u001b[0m\u001b[0;34m\"D:\\Windows Virus\\myfile.txt\"\u001b[0m\u001b[0;34m,\u001b[0m \u001b[0;34m'r'\u001b[0m\u001b[0;34m)\u001b[0m \u001b[0;32mas\u001b[0m \u001b[0mfile\u001b[0m\u001b[0;34m:\u001b[0m\u001b[0;34m\u001b[0m\u001b[0;34m\u001b[0m\u001b[0m\n\u001b[0m\u001b[1;32m      4\u001b[0m         \u001b[0;31m# Iterate through the file line by line\u001b[0m\u001b[0;34m\u001b[0m\u001b[0;34m\u001b[0m\u001b[0m\n\u001b[1;32m      5\u001b[0m       \u001b[0;32mfor\u001b[0m \u001b[0mline\u001b[0m \u001b[0;32min\u001b[0m \u001b[0mfile\u001b[0m\u001b[0;34m:\u001b[0m\u001b[0;34m\u001b[0m\u001b[0;34m\u001b[0m\u001b[0m\n",
            "\u001b[0;31mFileNotFoundError\u001b[0m: [Errno 2] No such file or directory: 'D:\\\\Windows Virus\\\\myfile.txt'"
          ]
        }
      ]
    },
    {
      "cell_type": "markdown",
      "source": [
        "---------------------------------------------------------------------------"
      ],
      "metadata": {
        "id": "zkIG1HqEc9DG"
      }
    },
    {
      "cell_type": "markdown",
      "source": [
        "---------------------------------------------------------------------------"
      ],
      "metadata": {
        "id": "oVD2lf1mc89k"
      }
    },
    {
      "cell_type": "markdown",
      "source": [
        "**8. Use a lambda function in Python to sort a list of tuples based on the second element of each tuple?**\n",
        "\n",
        "**Ans:-**"
      ],
      "metadata": {
        "id": "Lox_R3aBdC60"
      }
    },
    {
      "cell_type": "code",
      "source": [
        "# List of tuples\n",
        "tuples = [(1, 3), (2, 1), (4, 2), (5, 4)]\n",
        "\n",
        "# Sort using lambda function based on the second element of each tuple\n",
        "sorted_tuples = sorted(tuples, key=lambda x: x[1])\n",
        "\n",
        "print(sorted_tuples)\n"
      ],
      "metadata": {
        "colab": {
          "base_uri": "https://localhost:8080/"
        },
        "id": "xQRVzyEgdBXE",
        "outputId": "0700edaf-8100-41f2-bbf2-41c60c8c71b8"
      },
      "execution_count": null,
      "outputs": [
        {
          "output_type": "stream",
          "name": "stdout",
          "text": [
            "[(2, 1), (4, 2), (1, 3), (5, 4)]\n"
          ]
        }
      ]
    },
    {
      "cell_type": "markdown",
      "source": [
        "---------------------------------------------------------------------------"
      ],
      "metadata": {
        "id": "5t2iGHs3dXBC"
      }
    },
    {
      "cell_type": "markdown",
      "source": [
        "---------------------------------------------------------------------------"
      ],
      "metadata": {
        "id": "vWlLOiYvdW7E"
      }
    },
    {
      "cell_type": "markdown",
      "source": [
        "**9. Write a Python program that uses `map()` to convert a list of temperatures from Celsius to Fahrenheit?**\n",
        "\n",
        "Ans:-"
      ],
      "metadata": {
        "id": "lzfp72jzdcH0"
      }
    },
    {
      "cell_type": "code",
      "source": [
        "# List of temperatures in Celsius\n",
        "celsius_temperatures = [0, 20, 25, 30, 40]\n",
        "\n",
        "# Function to convert Celsius to Fahrenheit\n",
        "def celsius_to_fahrenheit(celsius):\n",
        "    return (celsius * 9/5) + 32\n",
        "\n",
        "# Using map to apply the conversion function to each element in the list\n",
        "fahrenheit_temperatures = list(map(celsius_to_fahrenheit, celsius_temperatures))\n",
        "\n",
        "print(fahrenheit_temperatures)\n"
      ],
      "metadata": {
        "colab": {
          "base_uri": "https://localhost:8080/"
        },
        "id": "5rHG6xApdURu",
        "outputId": "aec59237-d73a-441a-c960-403e1260ae87"
      },
      "execution_count": null,
      "outputs": [
        {
          "output_type": "stream",
          "name": "stdout",
          "text": [
            "[32.0, 68.0, 77.0, 86.0, 104.0]\n"
          ]
        }
      ]
    },
    {
      "cell_type": "markdown",
      "source": [
        "---------------------------------------------------------------------------"
      ],
      "metadata": {
        "id": "qYrQJj30dnVu"
      }
    },
    {
      "cell_type": "markdown",
      "source": [
        "---------------------------------------------------------------------------"
      ],
      "metadata": {
        "id": "FffFuMvPdn8F"
      }
    },
    {
      "cell_type": "markdown",
      "source": [
        "**10. Create a Python program that uses `filter()` to remove all the vowels from a given string?**\n",
        "\n",
        "Ans:-\n"
      ],
      "metadata": {
        "id": "fWrxzibPduUW"
      }
    },
    {
      "cell_type": "code",
      "source": [
        "# Function to check if a character is a vowel\n",
        "def is_not_vowel(char):\n",
        "    vowels = \"aeiouAEIOU\"\n",
        "    return char not in vowels\n",
        "\n",
        "# Input string\n",
        "input_string = \"Hello, World!\"\n",
        "\n",
        "# Using filter to remove vowels from the string\n",
        "filtered_string = ''.join(filter(is_not_vowel, input_string))\n",
        "\n",
        "print(filtered_string)\n"
      ],
      "metadata": {
        "colab": {
          "base_uri": "https://localhost:8080/"
        },
        "id": "3qNKdQrwdmQ4",
        "outputId": "f8bff197-5399-45d0-d713-7d297809fb4a"
      },
      "execution_count": null,
      "outputs": [
        {
          "output_type": "stream",
          "name": "stdout",
          "text": [
            "Hll, Wrld!\n"
          ]
        }
      ]
    },
    {
      "cell_type": "markdown",
      "source": [],
      "metadata": {
        "id": "Baw9yvxOeInm"
      }
    },
    {
      "cell_type": "markdown",
      "source": [
        "**11) Imagine an accounting routine used in a book shop. It works on a list with sublists, which look like this:\n",
        "\n",
        "\n",
        "\n",
        "\n",
        "\n",
        "\n",
        "\n",
        "Write a Python program, which returns a list with 2-tuples. Each tuple consists of the order number and the\n",
        "product of the price per item and the quantity. The product should be increased by 10,- € if the value of the\n",
        "order is smaller than 100,00 €.\n",
        "\n",
        "Write a Python program using lambda and map.**\n",
        "\n",
        "Ans:-"
      ],
      "metadata": {
        "id": "kVSJqvnXeJMN"
      }
    },
    {
      "cell_type": "code",
      "source": [
        "# List of orders: [order_number, price_per_item, quantity]\n",
        "orders = [\n",
        "    [34587, 40.95, 4],   # Order 34587: price 40.95€, quantity 4\n",
        "    [98762, 56.80, 5],   # Order 98762: price 56.80€, quantity 5\n",
        "    [77226, 32.95, 3],   # Order 77226: price 32.95€, quantity 3\n",
        "    [88112, 24.99, 3],   # Order 88112: price 24.99€, quantity 3\n",
        "]\n",
        "\n",
        "# Function to calculate the total and apply the additional charge if needed\n",
        "def calculate_order_value(order):\n",
        "    order_number, price, quantity = order\n",
        "    total = price * quantity\n",
        "    if total < 100:\n",
        "        total += 10  # Adding 10€ if total is less than 100€\n",
        "    return (order_number, total)\n",
        "\n",
        "# Using map to process the orders and generate the result\n",
        "result = list(map(calculate_order_value, orders))\n",
        "\n",
        "print(result)\n",
        "\n"
      ],
      "metadata": {
        "colab": {
          "base_uri": "https://localhost:8080/"
        },
        "id": "bwB29xTVd5l6",
        "outputId": "67381f54-513f-4fad-f4db-e18d21ee24da"
      },
      "execution_count": null,
      "outputs": [
        {
          "output_type": "stream",
          "name": "stdout",
          "text": [
            "[(34587, 163.8), (98762, 284.0), (77226, 108.85000000000001), (88112, 84.97)]\n"
          ]
        }
      ]
    },
    {
      "cell_type": "code",
      "source": [
        "# List of orders: [order_number, price_per_item, quantity]\n",
        "orders = [\n",
        "    [34587, 40.95, 4],   # Order 34587: price 40.95€, quantity 4\n",
        "    [98762, 56.80, 5],   # Order 98762: price 56.80€, quantity 5\n",
        "    [77226, 32.95, 3],   # Order 77226: price 32.95€, quantity 3\n",
        "    [88112, 24.99, 3],   # Order 88112: price 24.99€, quantity 3\n",
        "]\n",
        "\n",
        "# Using lambda and map to calculate the result\n",
        "result = list(map(lambda order: (order[0], order[1] * order[2] + 10 if order[1] * order[2] < 100 else order[1] * order[2]), orders))\n",
        "\n",
        "print(result)\n"
      ],
      "metadata": {
        "colab": {
          "base_uri": "https://localhost:8080/"
        },
        "id": "yEZMrh8EfF0L",
        "outputId": "b239e61f-91cb-4066-d538-fa0a2a66a48b"
      },
      "execution_count": null,
      "outputs": [
        {
          "output_type": "stream",
          "name": "stdout",
          "text": [
            "[(34587, 163.8), (98762, 284.0), (77226, 108.85000000000001), (88112, 84.97)]\n"
          ]
        }
      ]
    },
    {
      "cell_type": "code",
      "source": [],
      "metadata": {
        "id": "PMQo3lvmfoaS"
      },
      "execution_count": null,
      "outputs": []
    }
  ]
}