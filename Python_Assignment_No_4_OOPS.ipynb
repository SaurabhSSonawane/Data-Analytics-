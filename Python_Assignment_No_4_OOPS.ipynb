{
  "nbformat": 4,
  "nbformat_minor": 0,
  "metadata": {
    "colab": {
      "provenance": []
    },
    "kernelspec": {
      "name": "python3",
      "display_name": "Python 3"
    },
    "language_info": {
      "name": "python"
    }
  },
  "cells": [
    {
      "cell_type": "markdown",
      "source": [
        "**1) What are the five key concepts of Object-Oriented Programming (OOP)?**\n",
        "\n",
        "**Ans:-** **Introduction:-** Object-Oriented Programming (OOP) is a programming paradigm that organizes code into objects. These objects are instances of classes, and the main goal of OOP is to make software easier to manage, reuse, and scale. OOP is based on a few fundamental concepts.\n",
        "\n",
        "Five key concepts of OOP in simple terms:\n",
        "\n",
        "**1. Classes and Objects:-**\n",
        "**Class:** A class is like a blueprint for creating objects. It defines properties (also called attributes) and methods (functions) that objects created from the class will have.\n",
        "\n",
        "**Object:** An object is an instance of a class. It has its own set of data and behaviors defined by the class.\n",
        "\n",
        "**Example:-**"
      ],
      "metadata": {
        "id": "Q-YMz7NtnHit"
      }
    },
    {
      "cell_type": "code",
      "source": [
        "class Car:\n",
        "    def __init__(self, color, model, year):\n",
        "        self.color = color\n",
        "        self.model = model\n",
        "        self.year = year\n",
        "\n",
        "    def drive(self):\n",
        "        print(\"The car is driving\")\n",
        "\n",
        "    def stop(self):\n",
        "        print(\"The car has stopped\")\n"
      ],
      "metadata": {
        "id": "CQxirYVJn6mU"
      },
      "execution_count": 1,
      "outputs": []
    },
    {
      "cell_type": "code",
      "execution_count": 2,
      "metadata": {
        "colab": {
          "base_uri": "https://localhost:8080/"
        },
        "id": "QytV1Psemlgk",
        "outputId": "448d7dde-9c0e-4845-ce01-658ec2d327bc"
      },
      "outputs": [
        {
          "output_type": "stream",
          "name": "stdout",
          "text": [
            "The car is driving\n"
          ]
        }
      ],
      "source": [
        "my_car = Car(\"Red\", \"Toyota\", 2020)\n",
        "my_car.drive()  # Output: The car is driving\n"
      ]
    },
    {
      "cell_type": "markdown",
      "source": [
        "**2. Encapsulation:-** Encapsulation is the concept of bundling the data (variables) and the methods (functions) that operate on the data into a single unit called a class. It also means controlling access to the data by hiding some parts of the object (called private attributes) and exposing only what is necessary (called public attributes).\n",
        "\n",
        "**Example:-**"
      ],
      "metadata": {
        "id": "AUI1zW-JoRow"
      }
    },
    {
      "cell_type": "code",
      "source": [
        "class Car:\n",
        "    def __init__(self, color, model, year):\n",
        "        self.color = color\n",
        "        self.model = model\n",
        "        self.year = year\n",
        "        self.__speed = 0  # private variable\n",
        "\n",
        "    def accelerate(self):\n",
        "        self.__speed += 10\n",
        "        print(f\"Speed is now {self.__speed} km/h\")\n",
        "\n",
        "    def get_speed(self):\n",
        "        return self.__speed\n"
      ],
      "metadata": {
        "id": "Z3tzrrqfoAzS"
      },
      "execution_count": 3,
      "outputs": []
    },
    {
      "cell_type": "markdown",
      "source": [
        "**3. Inheritance:-** Inheritance allows one class (child class) to inherit the properties and methods of another class (parent class). This helps in code reuse and establishing a relationship between different classes.\n",
        "\n",
        "**Example:-**"
      ],
      "metadata": {
        "id": "tG2Sbse_ogL6"
      }
    },
    {
      "cell_type": "code",
      "source": [
        "# Base class (Parent class)\n",
        "class Vehicle:\n",
        "    def __init__(self, brand):\n",
        "        self.brand = brand\n",
        "\n",
        "    def move(self):\n",
        "        print(\"The vehicle is moving\")\n",
        "\n",
        "# Child class (Car) inherits from Vehicle\n",
        "class Car(Vehicle):\n",
        "    def __init__(self, brand, doors):\n",
        "        super().__init__(brand)  # Get the brand from the Vehicle class\n",
        "        self.doors = doors\n",
        "\n",
        "    def move(self):  # Overriding the move method for car\n",
        "        print(f\"The {self.brand} car is driving\")\n",
        "\n",
        "# Child class (Bike) inherits from Vehicle\n",
        "class Bike(Vehicle):\n",
        "    def __init__(self, brand):\n",
        "        super().__init__(brand)  # Get the brand from the Vehicle class\n",
        "\n",
        "    def move(self):  # Overriding the move method for bike\n",
        "        print(f\"The {self.brand} bike is riding\")\n",
        "\n",
        "# Create objects of Car and Bike\n",
        "car = Car(\"Toyota\", 4)\n",
        "bike = Bike(\"Yamaha\")\n",
        "\n",
        "# Call the move method\n",
        "car.move()  # Output: The Toyota car is driving\n",
        "bike.move()  # Output: The Yamaha bike is riding\n"
      ],
      "metadata": {
        "colab": {
          "base_uri": "https://localhost:8080/"
        },
        "id": "EW93FGjvqCZD",
        "outputId": "ae0bf82d-cd90-4553-93f5-92acbaea5afd"
      },
      "execution_count": 16,
      "outputs": [
        {
          "output_type": "stream",
          "name": "stdout",
          "text": [
            "The Toyota car is driving\n",
            "The Yamaha bike is riding\n"
          ]
        }
      ]
    },
    {
      "cell_type": "markdown",
      "source": [
        "**4. Polymorphism:-** Polymorphism means \"many shapes.\" It allows methods to have the same name but behave differently based on the object that is calling them. There are two types of polymorphism: method overriding (in subclasses) and method overloading (multiple methods with the same name but different parameters)."
      ],
      "metadata": {
        "id": "R0zK-1xno-j8"
      }
    },
    {
      "cell_type": "code",
      "source": [
        "class Car:\n",
        "    def drive(self):\n",
        "        print(\"The car is driving\")\n",
        "\n",
        "class ElectricCar(Car):\n",
        "    def drive(self):\n",
        "        print(\"The electric car is driving silently\")\n"
      ],
      "metadata": {
        "id": "iCLSaeM_paBu"
      },
      "execution_count": 12,
      "outputs": []
    },
    {
      "cell_type": "code",
      "source": [
        "my_car = Car()\n",
        "my_car.drive()  # Output: The car is driving\n",
        "\n",
        "my_electric_car = ElectricCar()\n",
        "my_electric_car.drive()  # Output: The electric car is driving silently\n"
      ],
      "metadata": {
        "colab": {
          "base_uri": "https://localhost:8080/"
        },
        "id": "GV2GUSAWpcV0",
        "outputId": "57a9aa3f-c273-4979-f64b-ed348eb3feac"
      },
      "execution_count": 13,
      "outputs": [
        {
          "output_type": "stream",
          "name": "stdout",
          "text": [
            "The car is driving\n",
            "The electric car is driving silently\n"
          ]
        }
      ]
    },
    {
      "cell_type": "markdown",
      "source": [
        "**5. Abstraction:-** Abstraction is the concept of hiding the complex implementation details and showing only the necessary information to the user. This is often done using abstract classes and interfaces in OOP."
      ],
      "metadata": {
        "id": "vKMJJVclpisj"
      }
    },
    {
      "cell_type": "code",
      "source": [
        "from abc import ABC, abstractmethod\n",
        "\n",
        "class Shape(ABC):\n",
        "    @abstractmethod\n",
        "    def area(self):\n",
        "        pass\n",
        "\n",
        "class Circle(Shape):\n",
        "    def __init__(self, radius):\n",
        "        self.radius = radius\n",
        "\n",
        "    def area(self):\n",
        "        return 3.14 * self.radius * self.radius\n",
        "\n",
        "class Rectangle(Shape):\n",
        "    def __init__(self, length, width):\n",
        "        self.length = length\n",
        "        self.width = width\n",
        "\n",
        "    def area(self):\n",
        "        return self.length * self.width\n"
      ],
      "metadata": {
        "id": "aEEhqsPuprBt"
      },
      "execution_count": 14,
      "outputs": []
    },
    {
      "cell_type": "code",
      "source": [
        "circle = Circle(5)\n",
        "print(circle.area())  # Output: 78.5\n",
        "\n",
        "rectangle = Rectangle(10, 5)\n",
        "print(rectangle.area())  # Output: 50\n"
      ],
      "metadata": {
        "colab": {
          "base_uri": "https://localhost:8080/"
        },
        "id": "ards_BFGptk8",
        "outputId": "c6fa8b7f-7786-46e2-8791-0126ecef0138"
      },
      "execution_count": 15,
      "outputs": [
        {
          "output_type": "stream",
          "name": "stdout",
          "text": [
            "78.5\n",
            "50\n"
          ]
        }
      ]
    },
    {
      "cell_type": "markdown",
      "source": [
        "---------------------------------------------------------------------------"
      ],
      "metadata": {
        "id": "V6FxDaPwqFUD"
      }
    },
    {
      "cell_type": "markdown",
      "source": [
        "\n",
        "---------------------------------------------------------------------------\n"
      ],
      "metadata": {
        "id": "ay5WWmWSqH1c"
      }
    },
    {
      "cell_type": "markdown",
      "source": [
        "**2) Write a Python class for a `Car` with attributes for `make`, `model`, and `year`. Include a method to display\n",
        "the car's information?**\n",
        "\n",
        "**Ans:-**"
      ],
      "metadata": {
        "id": "oPAD5WWRqSD6"
      }
    },
    {
      "cell_type": "code",
      "source": [
        "class Car:\n",
        "    def __init__(self, make, model, year):\n",
        "        # Initialize the attributes of the Car class\n",
        "        self.make = make\n",
        "        self.model = model\n",
        "        self.year = year\n",
        "\n",
        "    def display_info(self):\n",
        "        # Method to display the car's information\n",
        "        print(f\"Car Information: {self.year} {self.make} {self.model}\")\n",
        "\n",
        "# Example usage:\n",
        "car1 = Car(\"Nisan\", \"Micra\", 2020)\n",
        "car1.display_info()\n"
      ],
      "metadata": {
        "colab": {
          "base_uri": "https://localhost:8080/"
        },
        "id": "2iKz3jEEqNF9",
        "outputId": "9ca638dc-b220-4250-e809-7692e41d1db0"
      },
      "execution_count": 18,
      "outputs": [
        {
          "output_type": "stream",
          "name": "stdout",
          "text": [
            "Car Information: 2020 Nisan Micra\n"
          ]
        }
      ]
    },
    {
      "cell_type": "markdown",
      "source": [
        "---------------------------------------------------------------------------"
      ],
      "metadata": {
        "id": "eFJN7usDquEG"
      }
    },
    {
      "cell_type": "markdown",
      "source": [
        "---------------------------------------------------------------------------"
      ],
      "metadata": {
        "id": "VhiO5VWqqtl0"
      }
    },
    {
      "cell_type": "markdown",
      "source": [
        "**3) Explain the difference between instance methods and class methods. Provide an example of each?**\n",
        "\n",
        "**Ans:-** In object-oriented programming, instance methods and class methods are two types of methods that differ in how they are associated with the class and its instances.\n",
        "\n",
        "**Instance Methods:**\n",
        "**Definition:** Instance methods are bound to an instance of the class. They operate on individual objects created from the class, meaning they can access and modify the object's attributes.\n",
        "\n",
        "**Access:** Instance methods must have at least one parameter, usually named self, which refers to the instance of the class that is calling the method.\n",
        "\n",
        "**Usage:** They are typically used to perform actions related to the specific data contained in the instance.\n",
        "\n",
        "**Example:**"
      ],
      "metadata": {
        "id": "ZTnAvxWXq7Lj"
      }
    },
    {
      "cell_type": "code",
      "source": [
        "class Dog:\n",
        "    def __init__(self, name, age):\n",
        "        self.name = name\n",
        "        self.age = age\n",
        "\n",
        "    def bark(self):\n",
        "        print(f\"{self.name} says woof!\")\n",
        "\n",
        "    def birthday(self):\n",
        "        self.age += 1\n",
        "        print(f\"Happy birthday, {self.name}! Now {self.age} years old.\")\n",
        "\n",
        "# Creating an instance of Dog\n",
        "my_dog = Dog(\"Buddy\", 3)\n",
        "my_dog.bark()  # Calls the instance method `bark`\n",
        "my_dog.birthday()  # Calls the instance method `birthday`\n"
      ],
      "metadata": {
        "colab": {
          "base_uri": "https://localhost:8080/"
        },
        "id": "kS5omU6arSmL",
        "outputId": "d8b8c4a7-11ef-416d-fc2b-9e68b9926892"
      },
      "execution_count": 19,
      "outputs": [
        {
          "output_type": "stream",
          "name": "stdout",
          "text": [
            "Buddy says woof!\n",
            "Happy birthday, Buddy! Now 4 years old.\n"
          ]
        }
      ]
    },
    {
      "cell_type": "markdown",
      "source": [
        "**Class Methods:**\n",
        "**Definition:** Class methods are bound to the class itself rather than an instance of the class. They can be called on the class directly, or on instances, but they cannot access or modify instance-specific data.\n",
        "\n",
        "**Access:** Class methods receive a reference to the class as their first argument, usually named cls.\n",
        "\n",
        "**Usage:** They are typically used for actions that affect the class itself rather than individual instances.\n",
        "\n",
        "**Example:**"
      ],
      "metadata": {
        "id": "KFCRjEXirb7r"
      }
    },
    {
      "cell_type": "code",
      "source": [
        "class Dog:\n",
        "    species = \"Canis familiaris\"  # A class attribute\n",
        "\n",
        "    def __init__(self, name, age):\n",
        "        self.name = name\n",
        "        self.age = age\n",
        "\n",
        "    @classmethod\n",
        "    def species_info(cls):\n",
        "        print(f\"All dogs belong to the species: {cls.species}\")\n",
        "\n",
        "# Calling the class method\n",
        "Dog.species_info()  # Calls the class method `species_info`\n"
      ],
      "metadata": {
        "colab": {
          "base_uri": "https://localhost:8080/"
        },
        "id": "-7wuILVeqic_",
        "outputId": "0d0cd8e1-d16b-4d64-9884-853f80436cad"
      },
      "execution_count": 20,
      "outputs": [
        {
          "output_type": "stream",
          "name": "stdout",
          "text": [
            "All dogs belong to the species: Canis familiaris\n"
          ]
        }
      ]
    },
    {
      "cell_type": "markdown",
      "source": [
        "---------------------------------------------------------------------------"
      ],
      "metadata": {
        "id": "1MX7MLsUrzQ7"
      }
    },
    {
      "cell_type": "markdown",
      "source": [
        "---------------------------------------------------------------------------"
      ],
      "metadata": {
        "id": "a9MCzmoor1fr"
      }
    },
    {
      "cell_type": "markdown",
      "source": [
        "**4) How does Python implement method overloading? Give an example?**\n",
        "\n",
        "**Ans:-** In Python, method overloading (the ability to define multiple methods with the same name but different parameters) is not directly supported like in other languages such as Java or C++. However, Python can achieve method overloading using default arguments, variable-length arguments (*args and **kwargs), or by checking the type or number of arguments inside the method.\n",
        "\n",
        "**Example using default arguments:-**"
      ],
      "metadata": {
        "id": "-sQeCihTr6hj"
      }
    },
    {
      "cell_type": "code",
      "source": [
        "class Printer:\n",
        "    def print_message(self, message=\"Hello, World!\"):\n",
        "        print(message)\n",
        "\n",
        "# Creating an instance of Printer\n",
        "printer = Printer()\n",
        "\n",
        "# Calling method with no argument\n",
        "printer.print_message()  # Output: Hello, World!\n",
        "\n",
        "# Calling method with a custom message\n",
        "printer.print_message(\"Hello, Python!\")  # Output: Hello, Python!\n"
      ],
      "metadata": {
        "colab": {
          "base_uri": "https://localhost:8080/"
        },
        "id": "a2S3ddcEr_fI",
        "outputId": "48031094-4484-4c15-8e9c-46fdf230d897"
      },
      "execution_count": 21,
      "outputs": [
        {
          "output_type": "stream",
          "name": "stdout",
          "text": [
            "Hello, World!\n",
            "Hello, Python!\n"
          ]
        }
      ]
    },
    {
      "cell_type": "markdown",
      "source": [
        "\n",
        "Example using variable-length arguments (*args):\n",
        "\n"
      ],
      "metadata": {
        "id": "yznV190jsKEj"
      }
    },
    {
      "cell_type": "code",
      "source": [
        "class Calculator:\n",
        "    def add(self, *args):\n",
        "        return sum(args)\n",
        "\n",
        "# Creating an instance of Calculator\n",
        "calc = Calculator()\n",
        "\n",
        "# Calling method with different number of arguments\n",
        "print(calc.add(1, 2))  # Output: 3\n",
        "print(calc.add(1, 2, 3, 4))  # Output: 10\n"
      ],
      "metadata": {
        "colab": {
          "base_uri": "https://localhost:8080/"
        },
        "id": "rXEjxI6lsHNl",
        "outputId": "4ecc15c0-8411-47a2-c5dd-31314947f2ee"
      },
      "execution_count": 22,
      "outputs": [
        {
          "output_type": "stream",
          "name": "stdout",
          "text": [
            "3\n",
            "10\n"
          ]
        }
      ]
    },
    {
      "cell_type": "markdown",
      "source": [
        "Example using **kwargs for keyword arguments:-"
      ],
      "metadata": {
        "id": "3H1DCAOfsTJs"
      }
    },
    {
      "cell_type": "code",
      "source": [
        "class Greeting:\n",
        "    def greet(self, **kwargs):\n",
        "        if 'name' in kwargs:\n",
        "            print(f\"Hello, {kwargs['name']}!\")\n",
        "        else:\n",
        "            print(\"Hello, Stranger!\")\n",
        "\n",
        "# Creating an instance of Greeting\n",
        "greeting = Greeting()\n",
        "\n",
        "# Calling method with different keyword arguments\n",
        "greeting.greet(name=\"Alice\")  # Output: Hello, Alice!\n",
        "greeting.greet()  # Output: Hello, Stranger!\n"
      ],
      "metadata": {
        "colab": {
          "base_uri": "https://localhost:8080/"
        },
        "id": "jGZOOKtSsPEb",
        "outputId": "f361e57c-7666-4f42-9765-0ba42b7a350b"
      },
      "execution_count": 23,
      "outputs": [
        {
          "output_type": "stream",
          "name": "stdout",
          "text": [
            "Hello, Alice!\n",
            "Hello, Stranger!\n"
          ]
        }
      ]
    },
    {
      "cell_type": "markdown",
      "source": [
        "---------------------------------------------------------------------------"
      ],
      "metadata": {
        "id": "rGrr3vnssZ2l"
      }
    },
    {
      "cell_type": "markdown",
      "source": [
        "---------------------------------------------------------------------------"
      ],
      "metadata": {
        "id": "yiyVcpGnsZs8"
      }
    },
    {
      "cell_type": "markdown",
      "source": [
        "**5) What are the three types of access modifiers in Python? How are they denoted?**\n",
        "\n",
        "**Ans:-** In Python, there are three types of access modifiers that determine the accessibility of class attributes and methods:\n",
        "\n",
        "**1)Public:**\n",
        "\n",
        "**Denoted by:** No underscore before the attribute or method name.\n",
        "\n",
        "**Description:** Public members can be accessed from anywhere, both inside and outside the class."
      ],
      "metadata": {
        "id": "-tMv5zyIsf36"
      }
    },
    {
      "cell_type": "code",
      "source": [
        "class MyClass:\n",
        "    def __init__(self):\n",
        "        self.public_var = 5\n",
        "obj = MyClass()\n",
        "print(obj.public_var)  # Accessing public variable\n"
      ],
      "metadata": {
        "colab": {
          "base_uri": "https://localhost:8080/"
        },
        "id": "M_TBfIwusXhS",
        "outputId": "2de7c81e-ada7-45c3-c2ab-5cda06fb91d9"
      },
      "execution_count": 24,
      "outputs": [
        {
          "output_type": "stream",
          "name": "stdout",
          "text": [
            "5\n"
          ]
        }
      ]
    },
    {
      "cell_type": "markdown",
      "source": [
        "**2)Protected:**\n",
        "\n",
        "**Denoted by:** A single underscore before the attribute or method name (e.g., _protected_var).\n",
        "\n",
        "**Description:** Protected members are intended to be accessed only within the class and its subclasses. It is a convention, and still accessible outside, but it's meant to indicate that they are for internal use."
      ],
      "metadata": {
        "id": "_Yz7Y2zRsuSe"
      }
    },
    {
      "cell_type": "code",
      "source": [
        "class MyClass:\n",
        "    def __init__(self):\n",
        "        self._protected_var = 10\n",
        "obj = MyClass()\n",
        "print(obj._protected_var)  # It's accessible, but not recommended\n"
      ],
      "metadata": {
        "colab": {
          "base_uri": "https://localhost:8080/"
        },
        "id": "aB6VPhjdstgb",
        "outputId": "f1e6005c-a397-4275-bd8a-16ac18374c9a"
      },
      "execution_count": 25,
      "outputs": [
        {
          "output_type": "stream",
          "name": "stdout",
          "text": [
            "10\n"
          ]
        }
      ]
    },
    {
      "cell_type": "markdown",
      "source": [
        "**3)Private:**\n",
        "\n",
        "**Denoted by:** Two underscores before the attribute or method name (e.g., __private_var).\n",
        "\n",
        "**Description:**Private members are intended to be accessed only within the class. Python name-mangles private variables, which makes it harder (but not impossible) to access them from outside the class."
      ],
      "metadata": {
        "id": "iiT-A1Bxs16x"
      }
    },
    {
      "cell_type": "code",
      "source": [
        "class MyClass:\n",
        "    def __init__(self):\n",
        "        self.__private_var = 20\n",
        "obj = MyClass()\n",
        "# print(obj.__private_var)  # This will raise an AttributeError\n"
      ],
      "metadata": {
        "id": "HxOHmO1zsz6E"
      },
      "execution_count": 26,
      "outputs": []
    },
    {
      "cell_type": "markdown",
      "source": [
        "---------------------------------------------------------------------------"
      ],
      "metadata": {
        "id": "tTKUQ61NtS2-"
      }
    },
    {
      "cell_type": "markdown",
      "source": [
        "---------------------------------------------------------------------------"
      ],
      "metadata": {
        "id": "ujR22b-KtUyk"
      }
    },
    {
      "cell_type": "markdown",
      "source": [
        "**6) Describe the five types of inheritance in Python. Provide a simple example of multiple inheritance?**\n",
        "\n",
        "**Ans:-** In Python, inheritance is a mechanism that allows a class to derive or inherit attributes and methods from another class. Python supports five types of inheritance:\n",
        "\n",
        "**1. Single Inheritance:-** Single inheritance is when a class (child class) inherits from one base class (parent class). It allows the child class to reuse code from the parent class.\n",
        "\n",
        "**Example:**"
      ],
      "metadata": {
        "id": "qmwWQUizteC7"
      }
    },
    {
      "cell_type": "code",
      "source": [
        "class Animal:\n",
        "    def sound(self):\n",
        "        print(\"Animal sound\")\n",
        "\n",
        "class Dog(Animal):\n",
        "    def bark(self):\n",
        "        print(\"Bark\")\n",
        "\n",
        "dog = Dog()\n",
        "dog.sound()  # Inherited from Animal\n",
        "dog.bark()   # Defined in Dog\n"
      ],
      "metadata": {
        "colab": {
          "base_uri": "https://localhost:8080/"
        },
        "id": "2Q61RIX3tReS",
        "outputId": "53a6b785-2112-4af3-8c68-a327941ac3e5"
      },
      "execution_count": 27,
      "outputs": [
        {
          "output_type": "stream",
          "name": "stdout",
          "text": [
            "Animal sound\n",
            "Bark\n"
          ]
        }
      ]
    },
    {
      "cell_type": "markdown",
      "source": [
        "**2. Multiple Inheritance\n",
        "Multiple inheritance is when a class (child class) inherits from more than one parent class. This allows the child class to combine functionalities from multiple classes.**\n",
        "\n",
        "**Example:**"
      ],
      "metadata": {
        "id": "aAzy5WF4t0jL"
      }
    },
    {
      "cell_type": "code",
      "source": [
        "class Animal:\n",
        "    def sound(self):\n",
        "        print(\"Animal sound\")\n",
        "\n",
        "class Mammal:\n",
        "    def breathe(self):\n",
        "        print(\"Breathing air\")\n",
        "\n",
        "class Dog(Animal, Mammal):\n",
        "    def bark(self):\n",
        "        print(\"Bark\")\n",
        "\n",
        "dog = Dog()\n",
        "dog.sound()  # Inherited from Animal\n",
        "dog.breathe()  # Inherited from Mammal\n",
        "dog.bark()  # Defined in Dog\n"
      ],
      "metadata": {
        "colab": {
          "base_uri": "https://localhost:8080/"
        },
        "id": "kmwMY-evtzi6",
        "outputId": "6764f00a-ccb0-4702-f14f-c4441a3ef551"
      },
      "execution_count": 28,
      "outputs": [
        {
          "output_type": "stream",
          "name": "stdout",
          "text": [
            "Animal sound\n",
            "Breathing air\n",
            "Bark\n"
          ]
        }
      ]
    },
    {
      "cell_type": "markdown",
      "source": [
        "**3. Multilevel Inheritance:-** Multilevel inheritance occurs when a class inherits from a class, which is itself derived from another class. This forms a chain of inheritance.\n",
        "\n",
        "**Example:**"
      ],
      "metadata": {
        "id": "gZJtIulht-G0"
      }
    },
    {
      "cell_type": "code",
      "source": [
        "class Animal:\n",
        "    def sound(self):\n",
        "        print(\"Animal sound\")\n",
        "\n",
        "class Dog(Animal):\n",
        "    def bark(self):\n",
        "        print(\"Bark\")\n",
        "\n",
        "class Puppy(Dog):\n",
        "    def play(self):\n",
        "        print(\"Playing\")\n",
        "\n",
        "puppy = Puppy()\n",
        "puppy.sound()  # Inherited from Animal\n",
        "puppy.bark()   # Inherited from Dog\n",
        "puppy.play()   # Defined in Puppy\n"
      ],
      "metadata": {
        "colab": {
          "base_uri": "https://localhost:8080/"
        },
        "id": "KdpMxIytt8IM",
        "outputId": "7710bc3f-3003-4e9a-8d42-ec29d4e37573"
      },
      "execution_count": 29,
      "outputs": [
        {
          "output_type": "stream",
          "name": "stdout",
          "text": [
            "Animal sound\n",
            "Bark\n",
            "Playing\n"
          ]
        }
      ]
    },
    {
      "cell_type": "markdown",
      "source": [
        "**4. Hierarchical Inheritance\n",
        "In hierarchical inheritance, multiple classes inherit from a single parent class. This allows different child classes to use the functionality of one parent class.**\n",
        "\n",
        "**Example:**\n",
        "\n",
        "\n"
      ],
      "metadata": {
        "id": "i3-2hPQiuG2z"
      }
    },
    {
      "cell_type": "code",
      "source": [
        "class Animal:\n",
        "    def sound(self):\n",
        "        print(\"Animal sound\")\n",
        "\n",
        "class Dog(Animal):\n",
        "    def bark(self):\n",
        "        print(\"Bark\")\n",
        "\n",
        "class Cat(Animal):\n",
        "    def meow(self):\n",
        "        print(\"Meow\")\n",
        "\n",
        "dog = Dog()\n",
        "cat = Cat()\n",
        "\n",
        "dog.sound()  # Inherited from Animal\n",
        "cat.sound()  # Inherited from Animal\n"
      ],
      "metadata": {
        "colab": {
          "base_uri": "https://localhost:8080/"
        },
        "id": "q5OWxt37uGGL",
        "outputId": "094044a6-d784-426b-cbcd-dee594f7c670"
      },
      "execution_count": 30,
      "outputs": [
        {
          "output_type": "stream",
          "name": "stdout",
          "text": [
            "Animal sound\n",
            "Animal sound\n"
          ]
        }
      ]
    },
    {
      "cell_type": "markdown",
      "source": [
        "**5. Hybrid Inheritance**\n",
        "Hybrid inheritance is a combination of two or more types of inheritance (usually multiple and multilevel). It can be complex and might lead to ambiguity issues, so it should be used cautiously.\n",
        "\n",
        "**Example:**"
      ],
      "metadata": {
        "id": "b5gAFEUhuRA0"
      }
    },
    {
      "cell_type": "code",
      "source": [
        "class Animal:\n",
        "    def sound(self):\n",
        "        print(\"Animal sound\")\n",
        "\n",
        "class Mammal(Animal):\n",
        "    def breathe(self):\n",
        "        print(\"Breathing air\")\n",
        "\n",
        "class Dog(Mammal, Animal):\n",
        "    def bark(self):\n",
        "        print(\"Bark\")\n",
        "\n",
        "dog = Dog()\n",
        "dog.sound()  # Inherited from Animal\n",
        "dog.breathe()  # Inherited from Mammal\n",
        "dog.bark()  # Defined in Dog\n"
      ],
      "metadata": {
        "colab": {
          "base_uri": "https://localhost:8080/"
        },
        "id": "fsg7IMAwuPjr",
        "outputId": "d256f7c0-6ebf-48f6-9aed-0197c5cdde30"
      },
      "execution_count": 31,
      "outputs": [
        {
          "output_type": "stream",
          "name": "stdout",
          "text": [
            "Animal sound\n",
            "Breathing air\n",
            "Bark\n"
          ]
        }
      ]
    },
    {
      "cell_type": "markdown",
      "source": [
        "---------------------------------------------------------------------------"
      ],
      "metadata": {
        "id": "n43nXSGruWsK"
      }
    },
    {
      "cell_type": "markdown",
      "source": [
        "---------------------------------------------------------------------------"
      ],
      "metadata": {
        "id": "HG9n2ifguZyr"
      }
    },
    {
      "cell_type": "markdown",
      "source": [
        "**7) What is the Method Resolution Order (MRO) in Python? How can you retrieve it programmatically?**\n",
        "\n",
        "**Ans:-** In Python, the Method Resolution Order (MRO) refers to the order in which methods are inherited from classes in the case of multiple inheritance. It defines the sequence in which base classes are searched when calling a method. Python uses an algorithm called C3 Linearization to determine this order.\n",
        "\n",
        "**Key Points:**\n",
        "MRO and Multiple Inheritance: In cases where a class inherits from more than one class, Python needs to determine the correct order to resolve methods and attributes.\n",
        "\n",
        "**C3 Linearization:** This algorithm ensures that classes are checked in a way that respects the inheritance hierarchy, prioritizing the classes that are higher up in the chain.\n",
        "\n",
        "**Example of Multiple Inheritance:**"
      ],
      "metadata": {
        "id": "ZsUtQUToufSE"
      }
    },
    {
      "cell_type": "code",
      "source": [
        "class A:\n",
        "    def hello(self):\n",
        "        print(\"Hello from A\")\n",
        "\n",
        "class B(A):\n",
        "    def hello(self):\n",
        "        print(\"Hello from B\")\n",
        "\n",
        "class C(A):\n",
        "    def hello(self):\n",
        "        print(\"Hello from C\")\n",
        "\n",
        "class D(B, C):\n",
        "    pass\n",
        "\n",
        "d = D()\n",
        "d.hello()  # Output: \"Hello from B\"\n"
      ],
      "metadata": {
        "colab": {
          "base_uri": "https://localhost:8080/"
        },
        "id": "RRKjhHz1uZcb",
        "outputId": "e31c80ed-92bc-4416-8d47-4773ff992020"
      },
      "execution_count": 32,
      "outputs": [
        {
          "output_type": "stream",
          "name": "stdout",
          "text": [
            "Hello from B\n"
          ]
        }
      ]
    },
    {
      "cell_type": "code",
      "source": [
        "print(D.mro())  # Prints a list of classes in MRO order\n",
        "\n"
      ],
      "metadata": {
        "colab": {
          "base_uri": "https://localhost:8080/"
        },
        "id": "qywQuQYqvHoF",
        "outputId": "2497fad8-56f4-43c1-eb40-6f40e1093717"
      },
      "execution_count": 34,
      "outputs": [
        {
          "output_type": "stream",
          "name": "stdout",
          "text": [
            "[<class '__main__.D'>, <class '__main__.B'>, <class '__main__.C'>, <class '__main__.A'>, <class 'object'>]\n"
          ]
        }
      ]
    },
    {
      "cell_type": "markdown",
      "source": [
        "---------------------------------------------------------------------------"
      ],
      "metadata": {
        "id": "JmOY3bGIvBQz"
      }
    },
    {
      "cell_type": "markdown",
      "source": [
        "---------------------------------------------------------------------------"
      ],
      "metadata": {
        "id": "I6nERdyyuWir"
      }
    },
    {
      "cell_type": "markdown",
      "source": [
        "**8) Create an abstract base class `Shape` with an abstract method `area()`. Then create two subclasses\n",
        "`Circle` and `Rectangle` that implement the `area()` method?**\n",
        "\n",
        "**Ans:-**"
      ],
      "metadata": {
        "id": "nsQtJEI5vZSC"
      }
    },
    {
      "cell_type": "code",
      "source": [
        "from abc import ABC, abstractmethod\n",
        "import math\n",
        "\n",
        "# Abstract base class\n",
        "class Shape(ABC):\n",
        "    @abstractmethod\n",
        "    def area(self):\n",
        "        pass\n",
        "\n",
        "# Circle class inheriting from Shape\n",
        "class Circle(Shape):\n",
        "    def __init__(self, radius):\n",
        "        self.radius = radius\n",
        "\n",
        "    def area(self):\n",
        "        return math.pi * self.radius ** 2\n",
        "\n",
        "# Rectangle class inheriting from Shape\n",
        "class Rectangle(Shape):\n",
        "    def __init__(self, width, height):\n",
        "        self.width = width\n",
        "        self.height = height\n",
        "\n",
        "    def area(self):\n",
        "        return self.width * self.height\n",
        "\n",
        "# Example usage\n",
        "circle = Circle(5)\n",
        "rectangle = Rectangle(4, 6)\n",
        "\n",
        "print(f\"Area of Circle: {circle.area()}\")\n",
        "print(f\"Area of Rectangle: {rectangle.area()}\")\n"
      ],
      "metadata": {
        "colab": {
          "base_uri": "https://localhost:8080/"
        },
        "id": "WWJtViRkvZBz",
        "outputId": "fe66cd26-fd0a-4a03-8f0c-bcfc3520e833"
      },
      "execution_count": 35,
      "outputs": [
        {
          "output_type": "stream",
          "name": "stdout",
          "text": [
            "Area of Circle: 78.53981633974483\n",
            "Area of Rectangle: 24\n"
          ]
        }
      ]
    },
    {
      "cell_type": "markdown",
      "source": [
        "---------------------------------------------------------------------------"
      ],
      "metadata": {
        "id": "6Bf1qV-kvlzC"
      }
    },
    {
      "cell_type": "markdown",
      "source": [
        "---------------------------------------------------------------------------"
      ],
      "metadata": {
        "id": "ytKYdRefvlpT"
      }
    },
    {
      "cell_type": "markdown",
      "source": [
        " **9) Demonstrate polymorphism by creating a function that can work with different shape objects to calculate\n",
        "and print their areas?**\n",
        "\n",
        "**Ans:-** Polymorphism in object-oriented programming allows different classes to implement the same method in a way that suits their own class. In this example, we can create different shapes, each with its own implementation of a calculate_area method."
      ],
      "metadata": {
        "id": "NUQ24oNrvv_s"
      }
    },
    {
      "cell_type": "code",
      "source": [
        "class Shape:\n",
        "    def calculate_area(self):\n",
        "        pass\n",
        "\n",
        "class Circle(Shape):\n",
        "    def __init__(self, radius):\n",
        "        self.radius = radius\n",
        "\n",
        "    def calculate_area(self):\n",
        "        return 3.14 * self.radius ** 2\n",
        "\n",
        "class Rectangle(Shape):\n",
        "    def __init__(self, width, height):\n",
        "        self.width = width\n",
        "        self.height = height\n",
        "\n",
        "    def calculate_area(self):\n",
        "        return self.width * self.height\n",
        "\n",
        "class Triangle(Shape):\n",
        "    def __init__(self, base, height):\n",
        "        self.base = base\n",
        "        self.height = height\n",
        "\n",
        "    def calculate_area(self):\n",
        "        return 0.5 * self.base * self.height\n",
        "\n",
        "# Function to print area of any shape\n",
        "def print_area(shape: Shape):\n",
        "    print(f\"Area: {shape.calculate_area()}\")\n",
        "\n",
        "# Create objects of different shapes\n",
        "circle = Circle(5)\n",
        "rectangle = Rectangle(4, 6)\n",
        "triangle = Triangle(4, 8)\n",
        "\n",
        "# Demonstrate polymorphism\n",
        "print_area(circle)        # Works with Circle object\n",
        "print_area(rectangle)     # Works with Rectangle object\n",
        "print_area(triangle)      # Works with Triangle object\n"
      ],
      "metadata": {
        "colab": {
          "base_uri": "https://localhost:8080/"
        },
        "id": "1GQoiKs3uVcR",
        "outputId": "53c2ad55-43c8-4583-f64e-064883bf73a2"
      },
      "execution_count": 36,
      "outputs": [
        {
          "output_type": "stream",
          "name": "stdout",
          "text": [
            "Area: 78.5\n",
            "Area: 24\n",
            "Area: 16.0\n"
          ]
        }
      ]
    },
    {
      "cell_type": "markdown",
      "source": [
        "---------------------------------------------------------------------------"
      ],
      "metadata": {
        "id": "hSdzae_av_zh"
      }
    },
    {
      "cell_type": "markdown",
      "source": [
        "---------------------------------------------------------------------------"
      ],
      "metadata": {
        "id": "J01IN9cmv_tT"
      }
    },
    {
      "cell_type": "markdown",
      "source": [
        "**10) Implement encapsulation in a `BankAccount` class with private attributes for `balance` and\n",
        "`account_number`. Include methods for deposit, withdrawal, and balance inquiry?**\n",
        "\n",
        "**Ans:-**"
      ],
      "metadata": {
        "id": "jq5z7uVbwEhK"
      }
    },
    {
      "cell_type": "code",
      "source": [
        "class BankAccount:\n",
        "    def __init__(self, account_number, balance=0):\n",
        "        # Private attributes\n",
        "        self.__account_number = account_number\n",
        "        self.__balance = balance\n",
        "\n",
        "    # Public method to deposit money\n",
        "    def deposit(self, amount):\n",
        "        if amount > 0:\n",
        "            self.__balance += amount\n",
        "            print(f\"Deposited {amount}. New balance is {self.__balance}.\")\n",
        "        else:\n",
        "            print(\"Deposit amount must be positive.\")\n",
        "\n",
        "    # Public method to withdraw money\n",
        "    def withdraw(self, amount):\n",
        "        if amount > 0 and amount <= self.__balance:\n",
        "            self.__balance -= amount\n",
        "            print(f\"Withdrew {amount}. New balance is {self.__balance}.\")\n",
        "        else:\n",
        "            print(\"Insufficient funds or invalid withdrawal amount.\")\n",
        "\n",
        "    # Public method to check the balance\n",
        "    def get_balance(self):\n",
        "        return self.__balance\n",
        "\n",
        "    # Public method to get account number (if needed)\n",
        "    def get_account_number(self):\n",
        "        return self.__account_number\n",
        "\n",
        "# Example of using the BankAccount class\n",
        "account = BankAccount(account_number=\"123456\", balance=1000)\n",
        "account.deposit(500)\n",
        "account.withdraw(200)\n",
        "print(f\"Current balance: {account.get_balance()}\")\n"
      ],
      "metadata": {
        "colab": {
          "base_uri": "https://localhost:8080/"
        },
        "id": "orjp4myvv7iS",
        "outputId": "6fea6d04-b222-450d-e321-5e812800a812"
      },
      "execution_count": 37,
      "outputs": [
        {
          "output_type": "stream",
          "name": "stdout",
          "text": [
            "Deposited 500. New balance is 1500.\n",
            "Withdrew 200. New balance is 1300.\n",
            "Current balance: 1300\n"
          ]
        }
      ]
    },
    {
      "cell_type": "markdown",
      "source": [
        "---------------------------------------------------------------------------"
      ],
      "metadata": {
        "id": "r649gJpGwQ0d"
      }
    },
    {
      "cell_type": "markdown",
      "source": [
        "---------------------------------------------------------------------------"
      ],
      "metadata": {
        "id": "JZJ7VyV5wRzL"
      }
    },
    {
      "cell_type": "markdown",
      "source": [
        " **11) Write a class that overrides the `__str__` and `__add__` magic methods. What will these methods allow\n",
        "you to do?**\n",
        "\n",
        "**Ans:-**"
      ],
      "metadata": {
        "id": "9QG5pNqXwYHr"
      }
    },
    {
      "cell_type": "code",
      "source": [
        "class CustomClass:\n",
        "    def __init__(self, value):\n",
        "        self.value = value\n",
        "\n",
        "    # Override the __str__ method to customize the string representation of the object\n",
        "    def __str__(self):\n",
        "        return f\"CustomClass with value: {self.value}\"\n",
        "\n",
        "    # Override the __add__ method to define custom behavior for the + operator\n",
        "    def __add__(self, other):\n",
        "        if isinstance(other, CustomClass):\n",
        "            return CustomClass(self.value + other.value)\n",
        "        return NotImplemented\n",
        "\n",
        "# Create two objects of CustomClass\n",
        "obj1 = CustomClass(5)\n",
        "obj2 = CustomClass(10)\n",
        "\n",
        "# Use the overridden __str__ method (called automatically when you print the object)\n",
        "print(obj1)  # Output: CustomClass with value: 5\n",
        "\n",
        "# Use the overridden __add__ method (called automatically when you use +)\n",
        "obj3 = obj1 + obj2\n",
        "print(obj3)  # Output: CustomClass with value: 15\n"
      ],
      "metadata": {
        "id": "y9FaBroCwNvL"
      },
      "execution_count": null,
      "outputs": []
    },
    {
      "cell_type": "markdown",
      "source": [
        "**What these methods allow you to do:**\n",
        "\n",
        "__str__ allows you to define how an object should be represented as a string, which is particularly useful for debugging, logging, and printing objects.\n",
        "\n",
        "__add__ allows you to define the behavior of the + operator for your class, enabling you to customize object addition (e.g., adding attributes or combining objects in a specific way)."
      ],
      "metadata": {
        "id": "cOeMYebywkiW"
      }
    },
    {
      "cell_type": "markdown",
      "source": [
        "---------------------------------------------------------------------------"
      ],
      "metadata": {
        "id": "rb7anaPowpFi"
      }
    },
    {
      "cell_type": "markdown",
      "source": [
        "---------------------------------------------------------------------------"
      ],
      "metadata": {
        "id": "SoiWcguHwrfK"
      }
    },
    {
      "cell_type": "markdown",
      "source": [
        "**12) Create a decorator that measures and prints the execution time of a function?**\n",
        "\n",
        "**Ans:-**"
      ],
      "metadata": {
        "id": "IHO3aor6wxEa"
      }
    },
    {
      "cell_type": "code",
      "source": [
        "import time\n",
        "\n",
        "def measure_execution_time(func):\n",
        "    def wrapper(*args, **kwargs):\n",
        "        start_time = time.time()  # Record the start time\n",
        "        result = func(*args, **kwargs)  # Call the function\n",
        "        end_time = time.time()  # Record the end time\n",
        "        execution_time = end_time - start_time  # Calculate execution time\n",
        "        print(f\"Execution time of {func.__name__}: {execution_time:.4f} seconds\")\n",
        "        return result\n",
        "    return wrapper\n",
        "\n",
        "# Example usage\n",
        "@measure_execution_time\n",
        "def some_function():\n",
        "    time.sleep(2)  # Simulating a delay\n",
        "\n",
        "some_function()\n"
      ],
      "metadata": {
        "colab": {
          "base_uri": "https://localhost:8080/"
        },
        "id": "-oCRBdH5wnuG",
        "outputId": "53fe32ed-12d2-4bc0-f4f6-cd5791f37d15"
      },
      "execution_count": 38,
      "outputs": [
        {
          "output_type": "stream",
          "name": "stdout",
          "text": [
            "Execution time of some_function: 2.0021 seconds\n"
          ]
        }
      ]
    },
    {
      "cell_type": "markdown",
      "source": [
        "---------------------------------------------------------------------------"
      ],
      "metadata": {
        "id": "F8auTN90w67Y"
      }
    },
    {
      "cell_type": "markdown",
      "source": [
        "---------------------------------------------------------------------------"
      ],
      "metadata": {
        "id": "cykqLTUzw62Z"
      }
    },
    {
      "cell_type": "markdown",
      "source": [
        "**13) Explain the concept of the Diamond Problem in multiple inheritance. How does Python resolve it?**\n",
        "\n",
        "**Ans:-** The Diamond Problem in multiple inheritance refers to a situation in object-oriented programming where a class inherits from two classes that both inherit from a common base class, forming a diamond-like structure. This can create ambiguity in method resolution, especially if the base class method is overridden in the intermediate classes.\n",
        "\n",
        "The Problem:\n",
        "When D calls a method that is defined in class A, it might be unclear whether the method should come from B or C, since both B and C inherit from A. If both B and C have overridden the method, which method should D inherit?\n",
        "\n",
        "How Python Resolves the Diamond Problem:\n",
        "Python uses a method resolution order (MRO) to avoid ambiguity in multiple inheritance. The MRO defines the order in which classes are considered when searching for a method or attribute. Python uses the C3 Linearization algorithm to calculate this order.\n",
        "\n",
        "Key Points:\n",
        "MRO determines the order in which base classes are searched.\n",
        "C3 Linearization ensures a consistent and predictable method resolution.\n",
        "Python's MRO resolves the Diamond Problem by specifying the exact path through the class hierarchy."
      ],
      "metadata": {
        "id": "IcC9KcRvxEcv"
      }
    },
    {
      "cell_type": "markdown",
      "source": [
        "---------------------------------------------------------------------------"
      ],
      "metadata": {
        "id": "cLcH_ZP7x0nj"
      }
    },
    {
      "cell_type": "markdown",
      "source": [
        "---------------------------------------------------------------------------"
      ],
      "metadata": {
        "id": "Xmfd0yAFxzm7"
      }
    },
    {
      "cell_type": "markdown",
      "source": [
        "**14) Write a class method that keeps track of the number of instances created from a class?**\n",
        "\n",
        "**Ans:-**"
      ],
      "metadata": {
        "id": "OTSMMw4Jx6RO"
      }
    },
    {
      "cell_type": "code",
      "source": [
        "class MyClass:\n",
        "    instance_count = 0  # Class variable to keep track of instances\n",
        "\n",
        "    def __init__(self):\n",
        "        MyClass.instance_count += 1  # Increment the counter each time an instance is created\n",
        "\n",
        "    @classmethod\n",
        "    def get_instance_count(cls):\n",
        "        return cls.instance_count  # Return the current count of instances\n",
        "\n",
        "# Example usage\n",
        "obj1 = MyClass()\n",
        "obj2 = MyClass()\n",
        "obj3 = MyClass()\n",
        "\n",
        "print(MyClass.get_instance_count())  # Output: 3\n"
      ],
      "metadata": {
        "colab": {
          "base_uri": "https://localhost:8080/"
        },
        "id": "b2K44-wLxUjv",
        "outputId": "fdc31aa5-3762-4199-85e5-73b0eae22ae1"
      },
      "execution_count": 43,
      "outputs": [
        {
          "output_type": "stream",
          "name": "stdout",
          "text": [
            "3\n"
          ]
        }
      ]
    },
    {
      "cell_type": "markdown",
      "source": [
        "---------------------------------------------------------------------------"
      ],
      "metadata": {
        "id": "7tJ1gr6nyEMX"
      }
    },
    {
      "cell_type": "markdown",
      "source": [
        "---------------------------------------------------------------------------"
      ],
      "metadata": {
        "id": "nguqxFBOyGSP"
      }
    },
    {
      "cell_type": "markdown",
      "source": [
        "**15) Implement a static method in a class that checks if a given year is a leap year?**\n",
        "\n",
        "**Ans:-**"
      ],
      "metadata": {
        "id": "s__kW4mWyEFT"
      }
    },
    {
      "cell_type": "code",
      "source": [
        "class Year:\n",
        "    @staticmethod\n",
        "    def is_leap_year(year):\n",
        "        # A leap year is divisible by 4, but not divisible by 100, unless divisible by 400\n",
        "        if (year % 4 == 0 and year % 100 != 0) or (year % 400 == 0):\n",
        "            return True\n",
        "        else:\n",
        "            return False\n",
        "\n",
        "# Example usage:\n",
        "year = 2024\n",
        "print(f\"{year} is a leap year: {Year.is_leap_year(year)}\")\n"
      ],
      "metadata": {
        "colab": {
          "base_uri": "https://localhost:8080/"
        },
        "id": "U-9WujaTyDLH",
        "outputId": "d742968d-45e8-4afe-e037-55e3ae39e466"
      },
      "execution_count": 44,
      "outputs": [
        {
          "output_type": "stream",
          "name": "stdout",
          "text": [
            "2024 is a leap year: True\n"
          ]
        }
      ]
    },
    {
      "cell_type": "code",
      "source": [],
      "metadata": {
        "id": "vcjAKnA-ySpB"
      },
      "execution_count": null,
      "outputs": []
    }
  ]
}