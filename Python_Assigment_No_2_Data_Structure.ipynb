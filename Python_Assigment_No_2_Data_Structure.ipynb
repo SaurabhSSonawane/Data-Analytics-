{
  "nbformat": 4,
  "nbformat_minor": 0,
  "metadata": {
    "colab": {
      "provenance": []
    },
    "kernelspec": {
      "name": "python3",
      "display_name": "Python 3"
    },
    "language_info": {
      "name": "python"
    }
  },
  "cells": [
    {
      "cell_type": "markdown",
      "source": [
        "**1) Discuss string slicing and provide examples?**\n",
        "\n",
        "**Ans :-** Definition :- **String** is a a  sequence of a characters together which can be either name,words,statement,etc.This string charaacters consist of single charaters which makes a complete string.This each single character is a single unit of text which is useful to represent and manipulate tectual data.Each character is represented with a numerical value so the computer system understand what is the character used in a string.\n",
        "\n"
      ],
      "metadata": {
        "id": "k1HlEkiVFrUA"
      }
    },
    {
      "cell_type": "code",
      "source": [
        "# Example :- String character stored with a numeric value\n",
        "\n",
        "char = \"b\" # defined a char variable which points to a charater data type\n",
        "ord(char)  #ord() function is used to know the numeric value which represents the charaters used in variable\n",
        "print(ord(char))"
      ],
      "metadata": {
        "colab": {
          "base_uri": "https://localhost:8080/"
        },
        "id": "ip4otZi4HyxY",
        "outputId": "d45e960f-0699-4f10-8376-ff119b5c6f9e"
      },
      "execution_count": null,
      "outputs": [
        {
          "output_type": "stream",
          "name": "stdout",
          "text": [
            "98\n"
          ]
        }
      ]
    },
    {
      "cell_type": "markdown",
      "source": [
        "**String Slicing :-** String slicing is a used if we want to extract any part or portion of  string of charaters by using its range of indices where each character is stored with a index number. So Strings in Python are based on indexed,thefirst character will be having an index starting from 0 and go ahead in right to left order, sting also has a reverse order from the last character having an index of -1 reverse indexing till reverse behind. Slicing allows us to extract substrings.\n",
        "\n",
        "**Syntax:- ** string[start:end:step]\n",
        "\n",
        "**start**: It is the index of the first character to start to include from.\n",
        "\n",
        "**end:** It is the index of the character to stop to include from.\n",
        "\n",
        "**step:** It is Optional it is the step size for slicing. to extract by skinpping ahead by a value defined\n",
        "\n",
        " **Examples of String Slicing:-**\n"
      ],
      "metadata": {
        "id": "is-SuT4ZJ_D9"
      }
    },
    {
      "cell_type": "code",
      "source": [
        "## a) Access the element using index number\n",
        "name = \"saurabh\" # A variable defined which is storing string data\n",
        "name[0]  # element of a string is accessed using its index number\n",
        "name[1]\n",
        "name[2]\n",
        "name[3]\n",
        "name[4]\n",
        "name[5]\n",
        "name[6]\n",
        "print(name[0],name[1],name[2],name[3],name[4],name[5],name[6])\n"
      ],
      "metadata": {
        "colab": {
          "base_uri": "https://localhost:8080/"
        },
        "id": "skUwzUuwM6pc",
        "outputId": "7668f45b-03d9-470f-e4fc-b6d6b9a3fea6"
      },
      "execution_count": null,
      "outputs": [
        {
          "output_type": "stream",
          "name": "stdout",
          "text": [
            "s a u r a b h\n"
          ]
        }
      ]
    },
    {
      "cell_type": "markdown",
      "source": [
        "**Now Another example :-** Using string slicing to extract a part of string."
      ],
      "metadata": {
        "id": "VYEvTOiEOxhl"
      }
    },
    {
      "cell_type": "code",
      "source": [
        "## Example b) To extract a string part\n",
        "string1 = \"I am a good student\"  # To access a part of string we'll use the concept of indexing and also in string spaces will also have a index.\n",
        "string1[0:4] # used string slicing concept  to extract a part from a starting point and a stop point using index form.\n",
        "string1[7:19]\n",
        "print(string1[0:4])\n",
        "print(string1[7:19])"
      ],
      "metadata": {
        "colab": {
          "base_uri": "https://localhost:8080/"
        },
        "id": "XFKjPGEUNw1p",
        "outputId": "acf161e9-edd6-4d73-a92a-88bdef72541f"
      },
      "execution_count": null,
      "outputs": [
        {
          "output_type": "stream",
          "name": "stdout",
          "text": [
            "I am\n",
            "good student\n"
          ]
        }
      ]
    },
    {
      "cell_type": "code",
      "source": [
        "## Example c) If we want to access all elements\n",
        "string2 = \"My name is saurabh\"\n",
        "string2[0:]# we have used here just starting index to start to add from we have not used exlusive or step here because we want all\n",
        "print(string2[0:])"
      ],
      "metadata": {
        "id": "oW2m7WrwO8fo",
        "colab": {
          "base_uri": "https://localhost:8080/"
        },
        "outputId": "18674471-ceca-433e-8020-844b70e1ec73"
      },
      "execution_count": null,
      "outputs": [
        {
          "output_type": "stream",
          "name": "stdout",
          "text": [
            "My name is saurabh\n"
          ]
        }
      ]
    },
    {
      "cell_type": "code",
      "source": [
        "## Example d) we can also use negative indexing to extract a part\n",
        "string3 = \"HelloWorld\"\n",
        "string3[:-3] # Even with having a exclusive point to exclude data from we'll get elements excluding"
      ],
      "metadata": {
        "colab": {
          "base_uri": "https://localhost:8080/",
          "height": 35
        },
        "id": "fVQDAASvaWpL",
        "outputId": "5a612c20-ea64-4d44-a321-cdf7d7bbccb5"
      },
      "execution_count": null,
      "outputs": [
        {
          "output_type": "execute_result",
          "data": {
            "text/plain": [
              "'HelloWo'"
            ],
            "application/vnd.google.colaboratory.intrinsic+json": {
              "type": "string"
            }
          },
          "metadata": {},
          "execution_count": 36
        }
      ]
    },
    {
      "cell_type": "code",
      "source": [
        "## Example e) If we want last three characters using -tive index\n",
        "string4 = \"HelloPanchgani\"\n",
        "string4[-3:]\n",
        "print(string4[-3:])\n"
      ],
      "metadata": {
        "colab": {
          "base_uri": "https://localhost:8080/"
        },
        "id": "FHwtvTtRb6w1",
        "outputId": "a3419f99-4000-4da1-8510-8482c8e09550"
      },
      "execution_count": null,
      "outputs": [
        {
          "output_type": "stream",
          "name": "stdout",
          "text": [
            "ani\n"
          ]
        }
      ]
    },
    {
      "cell_type": "code",
      "source": [
        "## Example f) If we want to extract using step also\n",
        "string5 = \"HelloPwskills\"\n",
        "string5[0:6:2]\n",
        "print(string5[0:6:2])"
      ],
      "metadata": {
        "colab": {
          "base_uri": "https://localhost:8080/"
        },
        "id": "SGS1W2Aocq40",
        "outputId": "bf6ade3d-e2ac-4be0-aba5-9bd438628ef2"
      },
      "execution_count": null,
      "outputs": [
        {
          "output_type": "stream",
          "name": "stdout",
          "text": [
            "Hlo\n"
          ]
        }
      ]
    },
    {
      "cell_type": "markdown",
      "source": [
        "---------------------------------------------------------------------------"
      ],
      "metadata": {
        "id": "33oZtxs1eR5A"
      }
    },
    {
      "cell_type": "markdown",
      "source": [
        "**2) Explain the key features of lists in Python?**\n",
        "\n",
        "**Ans:-** Lists in python are ordered collection of items which are mutable in python nature.Lists are collection of multiple different data items which  can be of any data type.List a like a bag which can store any items in it and they are in ordered form.List are heterogenius and can store any type of data in them.\n",
        "List are collections of items stored inside [] square brackets\n",
        "\n",
        "Example:-"
      ],
      "metadata": {
        "id": "54hLgB53epNC"
      }
    },
    {
      "cell_type": "code",
      "source": [
        "list_of_items = [] #square brackets is used to  define a list which stores different items in it\n",
        "type(list_of_items) #see type of data stored is list\n",
        "print(type(list_of_items))"
      ],
      "metadata": {
        "colab": {
          "base_uri": "https://localhost:8080/"
        },
        "id": "rstWMg94gpvj",
        "outputId": "d6e52e7b-a35a-4e74-d424-a43e73af95bb"
      },
      "execution_count": null,
      "outputs": [
        {
          "output_type": "stream",
          "name": "stdout",
          "text": [
            "<class 'list'>\n"
          ]
        }
      ]
    },
    {
      "cell_type": "markdown",
      "source": [
        "**Key Features of Lists in pyhton:-**\n",
        "\n",
        "\n",
        "\n",
        "1.   **List are ordered collection :-** List are ordered in proper list as defined having a proper fixed order which can be access using index.\n",
        "Every defined items are stored in proper order which are defined by user and they are stored with a order of index.\n",
        "2.   **List are mutable:-** Elements stored in a list can be modified with new element, added, or removed as we want. We can access the eliment of list using a index number, and accessing elements we can assign new , add new, remove any elemnt we want.\n",
        "\n",
        "\n",
        "3.  **Lists are Heterogeneous in python:-** Lists can store diffrent colection of data items of various different data types.List contains any data type colections its heterogenous in python nature.\n",
        "4.   **Lists are dynamic:-** Lists can add numerous data in it also can remove as mmuch as data we want.\n",
        "\n",
        "\n",
        "\n",
        "\n",
        "5.   **List supports Methods:** Lists support various built-in methods like append(), extend(), and insert() etc.\n",
        "\n",
        "\n",
        "\n",
        "**Examples:-**\n",
        "\n"
      ],
      "metadata": {
        "id": "LDlAfgPmhAjV"
      }
    },
    {
      "cell_type": "code",
      "source": [
        "##  Ordered collection of heterogenous list\n",
        "heterogenous = [\"saurabh\", 1, 2, 3, 2.3, 2.5, 3+5j]\n",
        "print(heterogenous)"
      ],
      "metadata": {
        "colab": {
          "base_uri": "https://localhost:8080/"
        },
        "id": "SaJ0Wz1_khcN",
        "outputId": "16ee1d19-c7bb-43f2-a213-2bd3197206f6"
      },
      "execution_count": null,
      "outputs": [
        {
          "output_type": "stream",
          "name": "stdout",
          "text": [
            "['saurabh', 1, 2, 3, 2.3, 2.5, (3+5j)]\n"
          ]
        }
      ]
    },
    {
      "cell_type": "code",
      "source": [
        "## a) Accessing elements of Ordered collection of heterogenous list\n",
        "heterogenous = [\"saurabh\", 1, 2, 3, 2.3, 2.5, 3+5j]\n",
        "heterogenous[0] # access the elements of list data structure\n",
        "heterogenous[1]\n",
        "heterogenous[2]\n",
        "heterogenous[3]\n",
        "heterogenous[4]\n",
        "heterogenous[5]\n",
        "heterogenous[6]\n",
        "print(heterogenous[0],heterogenous[1],heterogenous[2],heterogenous[3],heterogenous[4],heterogenous[5],heterogenous[6])"
      ],
      "metadata": {
        "colab": {
          "base_uri": "https://localhost:8080/"
        },
        "id": "GjHUopRid__o",
        "outputId": "8b2c33cd-3838-4018-cc18-667516b6005a"
      },
      "execution_count": null,
      "outputs": [
        {
          "output_type": "stream",
          "name": "stdout",
          "text": [
            "saurabh 1 2 3 2.3 2.5 (3+5j)\n"
          ]
        }
      ]
    },
    {
      "cell_type": "code",
      "source": [
        "## b) Slicing in list\n",
        "heterogenous[0:5:2] # Slicing using start:exlusive:step\n",
        "print(heterogenous[0:5:2])\n",
        "heterogenous[0:5:]# Slicing using start:exlusive\n",
        "print(heterogenous[0:5:])\n",
        "heterogenous[0:] # Slicing using start:\n",
        "print(heterogenous[0:])"
      ],
      "metadata": {
        "colab": {
          "base_uri": "https://localhost:8080/"
        },
        "id": "dJXFi268lkNv",
        "outputId": "369dbb24-1373-443e-e07a-175e56f228fc"
      },
      "execution_count": null,
      "outputs": [
        {
          "output_type": "stream",
          "name": "stdout",
          "text": [
            "['saurabh', 2, 2.3]\n",
            "['saurabh', 1, 2, 3, 2.3]\n",
            "['saurabh', 1, 2, 3, 2.3, 2.5, (3+5j)]\n"
          ]
        }
      ]
    },
    {
      "cell_type": "code",
      "source": [
        "## c) Modifying a list\n",
        "vegetables1 = [\"brinjal\", \"tomato\", \"methi\", \"cabbage\", \"carrot\", \"ladyfinger\", \"shimlapepper\"]\n",
        "print(vegetables1)\n"
      ],
      "metadata": {
        "colab": {
          "base_uri": "https://localhost:8080/"
        },
        "id": "AxUlb3YLmNHZ",
        "outputId": "02a5442a-e4de-44a4-b470-d9e8671b740e"
      },
      "execution_count": null,
      "outputs": [
        {
          "output_type": "stream",
          "name": "stdout",
          "text": [
            "['brinjal', 'tomato', 'methi', 'cabbage', 'carrot', 'ladyfinger', 'shimlapepper']\n"
          ]
        }
      ]
    },
    {
      "cell_type": "code",
      "source": [
        "vegetables1[3]= \"capsicum\" # Modifying a list\n",
        "print(vegetables1)"
      ],
      "metadata": {
        "colab": {
          "base_uri": "https://localhost:8080/"
        },
        "id": "I_jbFlY4nz0V",
        "outputId": "2b814e45-7e4c-4d74-dd71-e34b465595ce"
      },
      "execution_count": null,
      "outputs": [
        {
          "output_type": "stream",
          "name": "stdout",
          "text": [
            "['brinjal', 'tomato', 'methi', 'capsicum', 'carrot', 'ladyfinger', 'shimlapepper']\n"
          ]
        }
      ]
    },
    {
      "cell_type": "code",
      "source": [
        "## d) Adding a element using append method\n",
        "vegetables1.append(\"banana\") # Adding a element using append method\n",
        "print(vegetables1)\n"
      ],
      "metadata": {
        "colab": {
          "base_uri": "https://localhost:8080/"
        },
        "id": "vxHSg-P8oLe5",
        "outputId": "990d06a8-98fc-44c2-b6c6-64543ab6cf6b"
      },
      "execution_count": null,
      "outputs": [
        {
          "output_type": "stream",
          "name": "stdout",
          "text": [
            "['brinjal', 'tomato', 'methi', 'capsicum', 'carrot', 'ladyfinger', 'shimlapepper', 'banana']\n"
          ]
        }
      ]
    },
    {
      "cell_type": "code",
      "source": [
        "## e) Inserting a element at a before index\n",
        "name = [\"saurabh\", \"sanjay\", \"sonawane\", \"manda\"]\n",
        "print(name)\n",
        "name.insert(2, \"panchgani\")\n",
        "print(name)"
      ],
      "metadata": {
        "colab": {
          "base_uri": "https://localhost:8080/"
        },
        "id": "Kr7Khw2sov41",
        "outputId": "22c044e9-40c9-4f12-99b6-f7cc2642ceff"
      },
      "execution_count": null,
      "outputs": [
        {
          "output_type": "stream",
          "name": "stdout",
          "text": [
            "['saurabh', 'sanjay', 'sonawane', 'manda']\n",
            "['saurabh', 'sanjay', 'panchgani', 'sonawane', 'manda']\n"
          ]
        }
      ]
    },
    {
      "cell_type": "markdown",
      "source": [
        "---------------------------------------------------------------------------"
      ],
      "metadata": {
        "id": "7_1ztTlgpmTD"
      }
    },
    {
      "cell_type": "markdown",
      "source": [
        "**3)  Describe how to access, modify, and delete elements in a list with examples?**\n",
        "\n",
        "**Ans :-**\n",
        "**a) Accessing Elements:-** We can access elements by using its index number in orders how it is stored.\n",
        "\n",
        "\n",
        "\n"
      ],
      "metadata": {
        "id": "EkPYvZAspdcF"
      }
    },
    {
      "cell_type": "code",
      "source": [
        "## Acccessing Eliments of a list\n",
        "name = [\"saurabh\", \"sanjay\", \"sonawane\", \"manda\"]\n",
        "name[3] #element of list accessed\n",
        "print(name[3])\n",
        "\n",
        "\n",
        "game = [\"cricket\", \"football\", \"hockey\", \"badminton\"]\n",
        "game[2] #element of list accessed\n",
        "print(game[2])\n"
      ],
      "metadata": {
        "colab": {
          "base_uri": "https://localhost:8080/"
        },
        "id": "MXQ3UeU2qWOs",
        "outputId": "8bf96f4b-6ea1-4278-ab96-c36e406833ce"
      },
      "execution_count": null,
      "outputs": [
        {
          "output_type": "stream",
          "name": "stdout",
          "text": [
            "manda\n",
            "hockey\n"
          ]
        }
      ]
    },
    {
      "cell_type": "markdown",
      "source": [
        "**b) Modifying Elements :-**"
      ],
      "metadata": {
        "id": "5EWywIIgq3E1"
      }
    },
    {
      "cell_type": "code",
      "source": [
        "name = [\"ram\", \"sham\", \"nikam\"]\n",
        "print(name)\n",
        "name[2] = \"dham\" # accessed the element and modified with new element\n",
        "print(name)\n"
      ],
      "metadata": {
        "colab": {
          "base_uri": "https://localhost:8080/"
        },
        "id": "h9-GpSmnpGr6",
        "outputId": "d449a29d-0d84-48bf-8b1b-e6bb405acb8e"
      },
      "execution_count": null,
      "outputs": [
        {
          "output_type": "stream",
          "name": "stdout",
          "text": [
            "['ram', 'sham', 'nikam']\n",
            "['ram', 'sham', 'dham']\n"
          ]
        }
      ]
    },
    {
      "cell_type": "markdown",
      "source": [
        "**c) Deleting Elements :-**\n",
        "Python provides ways to delete elements.\n",
        "\n",
        "**del:-** Removes an item at a specific index.\n",
        "\n",
        "**remove():-** Removes the first occurrence of a specific value.\n",
        "\n",
        "**pop():-** Removes and returns an item at a specific index."
      ],
      "metadata": {
        "id": "WsAG0OparzZA"
      }
    },
    {
      "cell_type": "code",
      "source": [
        "# deleting element using del\n",
        "\n",
        "number = [1,2,3,4,5,6,7,8,9]\n",
        "print(number)\n",
        "del number[5] # deleted a element of a variable using the index of element\n",
        "print(number)\n"
      ],
      "metadata": {
        "colab": {
          "base_uri": "https://localhost:8080/"
        },
        "id": "bwLchBlzreZJ",
        "outputId": "513f6023-4ea3-4e98-f24a-bd8b9df244f0"
      },
      "execution_count": null,
      "outputs": [
        {
          "output_type": "stream",
          "name": "stdout",
          "text": [
            "[1, 2, 3, 4, 5, 6, 7, 8, 9]\n",
            "[1, 2, 3, 4, 5, 7, 8, 9]\n"
          ]
        }
      ]
    },
    {
      "cell_type": "code",
      "source": [
        "# deleting element using remove()\n",
        "date = [1,2,3,4,6,7,8,9]\n",
        "print(date)\n",
        "date.remove(6) # deleted a element of a variable using the value of element\n",
        "print(date)"
      ],
      "metadata": {
        "colab": {
          "base_uri": "https://localhost:8080/"
        },
        "id": "ZqJagIm3sQoV",
        "outputId": "7a00b00a-22a4-48a3-ef12-503d62cb2a91"
      },
      "execution_count": null,
      "outputs": [
        {
          "output_type": "stream",
          "name": "stdout",
          "text": [
            "[1, 2, 3, 4, 6, 7, 8, 9]\n",
            "[1, 2, 3, 4, 7, 8, 9]\n"
          ]
        }
      ]
    },
    {
      "cell_type": "code",
      "source": [
        "# deleting a element using pop()\n",
        "date = [1,2,3,4,6,7,8,9]\n",
        "print(date)\n",
        "date.pop(5) # deleted a element of a variable using the index of element\n",
        "print(date)"
      ],
      "metadata": {
        "colab": {
          "base_uri": "https://localhost:8080/"
        },
        "id": "wElXGHiZs0YM",
        "outputId": "19732b40-3031-4e32-b900-4ba9a71d3ba6"
      },
      "execution_count": null,
      "outputs": [
        {
          "output_type": "stream",
          "name": "stdout",
          "text": [
            "[1, 2, 3, 4, 6, 7, 8, 9]\n",
            "[1, 2, 3, 4, 6, 8, 9]\n"
          ]
        }
      ]
    },
    {
      "cell_type": "markdown",
      "source": [
        "---------------------------------------------------------------------------\n"
      ],
      "metadata": {
        "id": "kPMGrmKYtCLX"
      }
    },
    {
      "cell_type": "markdown",
      "source": [
        "**4) Compare and contrast tuples and lists with examples?**\n",
        "\n",
        "**Ans :-**\n",
        "\n",
        "a) **Tuples :-**  \n",
        "\n",
        "1) Tuples are immutable in nature. We cant use item assignment in tuples.\n",
        "\n",
        "2) Syntax of tuples () data elements are enclosed in parantheses.\n",
        "\n",
        "3) Tuples are used when we want data to be fixed which cannot be changed.\n",
        "\n",
        "4) Tuples are heterogenous can store any data and they are ordered collection of data.\n",
        "\n",
        "5) Tuples in Python can contain duplicate items.\n",
        "\n",
        "6) Elements can be accessed using index\n",
        "\n",
        "7) Tuples support slicing\n",
        "\n",
        "\n",
        "**Examples:-**\n",
        "\n",
        "\n",
        "\n",
        "\n",
        "\n"
      ],
      "metadata": {
        "id": "nAZsZ4BZtTSQ"
      }
    },
    {
      "cell_type": "code",
      "source": [
        "# Defined a tuple data structure\n",
        "new = (\"saurabh\", \"sanjay\", \"sonawane\", \"manda\")\n",
        "print(new)\n",
        "type(new)"
      ],
      "metadata": {
        "colab": {
          "base_uri": "https://localhost:8080/"
        },
        "id": "LTW6Rm9f4eVX",
        "outputId": "a070c5fa-a9cd-4e3c-c5e7-5686a4a2946d"
      },
      "execution_count": 91,
      "outputs": [
        {
          "output_type": "stream",
          "name": "stdout",
          "text": [
            "('saurabh', 'sanjay', 'sonawane', 'manda')\n"
          ]
        },
        {
          "output_type": "execute_result",
          "data": {
            "text/plain": [
              "tuple"
            ]
          },
          "metadata": {},
          "execution_count": 91
        }
      ]
    },
    {
      "cell_type": "code",
      "source": [
        "# Tuples are immutable in nature. We cant use data change/item assignment in tuples\n",
        "new = (\"saurabh\", \"sanjay\", \"sonawane\", \"manda\")\n",
        "new[1] = \"panchgani\" # We'll get error tuple is immutable\n"
      ],
      "metadata": {
        "colab": {
          "base_uri": "https://localhost:8080/",
          "height": 176
        },
        "id": "VPHyxSCW4Vkq",
        "outputId": "46ac0e31-438d-4298-8f38-7645046fdbfa"
      },
      "execution_count": 94,
      "outputs": [
        {
          "output_type": "error",
          "ename": "TypeError",
          "evalue": "'tuple' object does not support item assignment",
          "traceback": [
            "\u001b[0;31m---------------------------------------------------------------------------\u001b[0m",
            "\u001b[0;31mTypeError\u001b[0m                                 Traceback (most recent call last)",
            "\u001b[0;32m<ipython-input-94-4c34704a6e6f>\u001b[0m in \u001b[0;36m<cell line: 3>\u001b[0;34m()\u001b[0m\n\u001b[1;32m      1\u001b[0m \u001b[0;31m# Tuples are immutable in nature. We cant use data change/item assignment in tuples\u001b[0m\u001b[0;34m\u001b[0m\u001b[0;34m\u001b[0m\u001b[0m\n\u001b[1;32m      2\u001b[0m \u001b[0mnew\u001b[0m \u001b[0;34m=\u001b[0m \u001b[0;34m(\u001b[0m\u001b[0;34m\"saurabh\"\u001b[0m\u001b[0;34m,\u001b[0m \u001b[0;34m\"sanjay\"\u001b[0m\u001b[0;34m,\u001b[0m \u001b[0;34m\"sonawane\"\u001b[0m\u001b[0;34m,\u001b[0m \u001b[0;34m\"manda\"\u001b[0m\u001b[0;34m)\u001b[0m\u001b[0;34m\u001b[0m\u001b[0;34m\u001b[0m\u001b[0m\n\u001b[0;32m----> 3\u001b[0;31m \u001b[0mnew\u001b[0m\u001b[0;34m[\u001b[0m\u001b[0;36m1\u001b[0m\u001b[0;34m]\u001b[0m \u001b[0;34m=\u001b[0m \u001b[0;34m\"panchgani\"\u001b[0m \u001b[0;31m# We'll get error tuple is immutable\u001b[0m\u001b[0;34m\u001b[0m\u001b[0;34m\u001b[0m\u001b[0m\n\u001b[0m",
            "\u001b[0;31mTypeError\u001b[0m: 'tuple' object does not support item assignment"
          ]
        }
      ]
    },
    {
      "cell_type": "code",
      "source": [
        "# Tuples are heterogenous can store any data and they are ordered collection of data.\n",
        "data = (\"saurabh\", 1, 2, 3, 2.3, 2.5, 3+5j)\n",
        "print(data)"
      ],
      "metadata": {
        "id": "GzG5R64YtZKI",
        "colab": {
          "base_uri": "https://localhost:8080/"
        },
        "outputId": "78c9bdd5-93a6-419c-dfb1-b26f85376ad1"
      },
      "execution_count": 95,
      "outputs": [
        {
          "output_type": "stream",
          "name": "stdout",
          "text": [
            "('saurabh', 1, 2, 3, 2.3, 2.5, (3+5j))\n"
          ]
        }
      ]
    },
    {
      "cell_type": "code",
      "source": [
        "#Tuples in Python can contain duplicate items.\n",
        "duplicate = (\"saurabh\", \"saurabh\", \"sanjay\", \"sonawane\", \"manda\")\n",
        "print(duplicate)"
      ],
      "metadata": {
        "colab": {
          "base_uri": "https://localhost:8080/"
        },
        "id": "67kCxjS85Yll",
        "outputId": "1f282042-0b54-4e99-f287-fad2f3123a09"
      },
      "execution_count": 97,
      "outputs": [
        {
          "output_type": "stream",
          "name": "stdout",
          "text": [
            "('saurabh', 'saurabh', 'sanjay', 'sonawane', 'manda')\n"
          ]
        }
      ]
    },
    {
      "cell_type": "code",
      "source": [
        "#Elements can be accessed using index\n",
        "duplicate[4]\n",
        "print(duplicate[4])"
      ],
      "metadata": {
        "colab": {
          "base_uri": "https://localhost:8080/"
        },
        "id": "-QtbW7jB5h0W",
        "outputId": "ca6626dd-ef30-42c6-ad51-81390f6e1406"
      },
      "execution_count": 100,
      "outputs": [
        {
          "output_type": "stream",
          "name": "stdout",
          "text": [
            "manda\n"
          ]
        }
      ]
    },
    {
      "cell_type": "code",
      "source": [
        "# Tuples support slicing\n",
        "data2 = (\"saurabh\", \"sanjay\", \"sonawane\", \"manda\")\n",
        "data2[0::2]\n",
        "print(data2[0::2])"
      ],
      "metadata": {
        "colab": {
          "base_uri": "https://localhost:8080/"
        },
        "id": "Ob-GK2Bd5yVt",
        "outputId": "92e86707-deb4-48c8-89ee-e8fd1d5f3037"
      },
      "execution_count": 109,
      "outputs": [
        {
          "output_type": "stream",
          "name": "stdout",
          "text": [
            "('saurabh', 'sonawane')\n"
          ]
        }
      ]
    },
    {
      "cell_type": "markdown",
      "source": [
        "**b) Lists :-**\n",
        "\n",
        "1) Lists are mutable in nature. We can use item assignment in Lists.\n",
        "\n",
        "2) Syntax of List [] data elements are enclosed in square brackets.\n",
        "\n",
        "3) List are used when we want data to be mutable.\n",
        "\n",
        "4) List are heterogenous can store any data and they are ordered collection of data.\n",
        "\n",
        "5) List in Python can contain duplicate items.\n",
        "\n",
        "6) Elements can be accessed using index\n",
        "\n",
        "7) List support slicing\n",
        "\n",
        "**Examples:-**"
      ],
      "metadata": {
        "id": "xxVBvq7x6v6x"
      }
    },
    {
      "cell_type": "code",
      "source": [
        "# 1) Lists are mutable in nature. We can use item assignment in Lists.\n",
        "my_list = [10, 20, 30]\n",
        "my_list[1] = 99  # Changing the second element\n",
        "print(my_list)\n",
        "\n"
      ],
      "metadata": {
        "colab": {
          "base_uri": "https://localhost:8080/"
        },
        "id": "h29RzBr36DlG",
        "outputId": "e8eba670-44f2-472b-b04b-be3959c3b080"
      },
      "execution_count": 111,
      "outputs": [
        {
          "output_type": "stream",
          "name": "stdout",
          "text": [
            "[10, 99, 30]\n"
          ]
        }
      ]
    },
    {
      "cell_type": "code",
      "source": [
        "# Syntax of Lists [] data elements are enclosed in square brackets.\n",
        "mynewlist = [1, 2, 3, 4, 5]\n",
        "print(mynewlist)\n",
        "\n",
        "\n",
        "\n"
      ],
      "metadata": {
        "colab": {
          "base_uri": "https://localhost:8080/"
        },
        "id": "FTrNj0l07n-P",
        "outputId": "a447fd6f-c2bd-4ead-8348-d9d8271c118c"
      },
      "execution_count": 112,
      "outputs": [
        {
          "output_type": "stream",
          "name": "stdout",
          "text": [
            "[1, 2, 3, 4, 5]\n"
          ]
        }
      ]
    },
    {
      "cell_type": "code",
      "source": [
        "#  List are used when we want data to be mutable.\n",
        "fruits = [\"apple\", \"banana\", \"cherry\"]\n",
        "fruits.append(\"date\")  # Adding a new item\n",
        "print(fruits)\n",
        "\n"
      ],
      "metadata": {
        "colab": {
          "base_uri": "https://localhost:8080/"
        },
        "id": "OmUNPlBc8Isp",
        "outputId": "a7624752-fd53-437c-f71b-d0c8bc526681"
      },
      "execution_count": 113,
      "outputs": [
        {
          "output_type": "stream",
          "name": "stdout",
          "text": [
            "['apple', 'banana', 'cherry', 'date']\n"
          ]
        }
      ]
    },
    {
      "cell_type": "code",
      "source": [
        "# Lists are heterogeneous, can store any data, and are an ordered collection of data.\n",
        "heterogeneous_list = [42, \"hello\", 3.14, False]\n",
        "print(heterogeneous_list)\n",
        "\n"
      ],
      "metadata": {
        "colab": {
          "base_uri": "https://localhost:8080/"
        },
        "id": "UH8UYOLD8Ssp",
        "outputId": "2bb94bf7-0ab9-422a-c73c-3a2becda9122"
      },
      "execution_count": 115,
      "outputs": [
        {
          "output_type": "stream",
          "name": "stdout",
          "text": [
            "[42, 'hello', 3.14, False]\n"
          ]
        }
      ]
    },
    {
      "cell_type": "code",
      "source": [
        "# List in Python can contain duplicate items.\n",
        "duplicate_list = [1, 2, 2, 3, 3, 3]\n",
        "print(duplicate_list)\n",
        "\n"
      ],
      "metadata": {
        "colab": {
          "base_uri": "https://localhost:8080/"
        },
        "id": "iQvfekba8ZHK",
        "outputId": "0a266b01-7c29-4f2d-e46c-c9191bc5f66a"
      },
      "execution_count": 117,
      "outputs": [
        {
          "output_type": "stream",
          "name": "stdout",
          "text": [
            "[1, 2, 2, 3, 3, 3]\n"
          ]
        }
      ]
    },
    {
      "cell_type": "code",
      "source": [
        "#  Elements can be accessed using index\n",
        "colors = [\"red\", \"green\", \"blue\"]\n",
        "print(colors[0])  # Accessing the first element\n",
        "\n"
      ],
      "metadata": {
        "colab": {
          "base_uri": "https://localhost:8080/"
        },
        "id": "-OfBxU5S8dCb",
        "outputId": "7a7d5841-15ea-472b-f59c-7fc96587d715"
      },
      "execution_count": 118,
      "outputs": [
        {
          "output_type": "stream",
          "name": "stdout",
          "text": [
            "red\n"
          ]
        }
      ]
    },
    {
      "cell_type": "code",
      "source": [
        "# Lists support slicing.\n",
        "numbers = [10, 20, 30, 40, 50]\n",
        "print(numbers[1:4])  # Extracting elements from index 1 to 3\n",
        "\n"
      ],
      "metadata": {
        "colab": {
          "base_uri": "https://localhost:8080/"
        },
        "id": "sjP9C0PG8nYK",
        "outputId": "cae121ef-18e7-4f16-ba0e-3a083f1c5057"
      },
      "execution_count": 119,
      "outputs": [
        {
          "output_type": "stream",
          "name": "stdout",
          "text": [
            "[20, 30, 40]\n"
          ]
        }
      ]
    },
    {
      "cell_type": "markdown",
      "source": [
        "---------------------------------------------------------------------------"
      ],
      "metadata": {
        "id": "sNlYj8cU8yKM"
      }
    },
    {
      "cell_type": "markdown",
      "source": [
        "**5) Describe the key features of sets and provide examples of their use?**\n",
        "\n",
        "**Ans:-** **Definition :-** Sets are unordered and unique collection of elements.It doesn't allow duplicate elements.Sets are unordered, so indexing will not work.The basic principle of sets is to have unique elements.Sets elements are not subscriptable,not slicable. Elements can be added or removed.Set operations (e.g., unions, intersections) are optimized.\n",
        "\n",
        "**Syntax of Sets :-** {}\n",
        "\n",
        "**Key Features of sets :-**\n",
        "\n",
        "**1) Sets are Unordered:** No specific order of elements.\n",
        "\n",
        "**2) Unique:** Duplicate elements are automatically removed.\n",
        "\n",
        "**3) Mutable:** Elements can be added or removed.\n",
        "\n",
        "**4) Efficient:** Set operations (e.g., unions, intersections) are optimized.\n"
      ],
      "metadata": {
        "id": "3GWh4Swt84Qb"
      }
    },
    {
      "cell_type": "code",
      "source": [
        "s = {2}\n",
        "type(s)"
      ],
      "metadata": {
        "colab": {
          "base_uri": "https://localhost:8080/"
        },
        "id": "xEH_HnSE-5-c",
        "outputId": "26695aa5-39bb-42f9-ce80-a175b9af8173"
      },
      "execution_count": 124,
      "outputs": [
        {
          "output_type": "execute_result",
          "data": {
            "text/plain": [
              "set"
            ]
          },
          "metadata": {},
          "execution_count": 124
        }
      ]
    },
    {
      "cell_type": "code",
      "source": [
        "a = {1,2,3,4,5,6,7,8}\n",
        "type(a)"
      ],
      "metadata": {
        "colab": {
          "base_uri": "https://localhost:8080/"
        },
        "id": "xcW6n3My8-Rf",
        "outputId": "a150d8ee-b331-420b-8ac9-12e830e7160b"
      },
      "execution_count": 126,
      "outputs": [
        {
          "output_type": "execute_result",
          "data": {
            "text/plain": [
              "set"
            ]
          },
          "metadata": {},
          "execution_count": 126
        }
      ]
    },
    {
      "cell_type": "code",
      "source": [
        "# Set is collection of unique elements but unordered.\n",
        "jb = {1,2,3,1,2,3,4,6,7,8,9,4,5,6,7,8} # Duplicate elements are ignored\n",
        "print(jb)"
      ],
      "metadata": {
        "colab": {
          "base_uri": "https://localhost:8080/"
        },
        "id": "dqbL-jms_bQM",
        "outputId": "c53025ec-2970-44ea-8091-439847af988b"
      },
      "execution_count": 128,
      "outputs": [
        {
          "output_type": "stream",
          "name": "stdout",
          "text": [
            "{1, 2, 3, 4, 5, 6, 7, 8, 9}\n"
          ]
        }
      ]
    },
    {
      "cell_type": "code",
      "source": [
        "#converting list into set\n",
        "x = [1,2,3,4,1,2,3,4,5,6,7,5,6,7,8]\n",
        "x"
      ],
      "metadata": {
        "colab": {
          "base_uri": "https://localhost:8080/"
        },
        "id": "bl3YVHqI_pFy",
        "outputId": "8d061d16-5e43-4efb-fc43-eb7b97e13861"
      },
      "execution_count": 133,
      "outputs": [
        {
          "output_type": "execute_result",
          "data": {
            "text/plain": [
              "[1, 2, 3, 4, 1, 2, 3, 4, 5, 6, 7, 5, 6, 7, 8]"
            ]
          },
          "metadata": {},
          "execution_count": 133
        }
      ]
    },
    {
      "cell_type": "code",
      "source": [
        "o = set(x) #converting list into set\n",
        "o"
      ],
      "metadata": {
        "colab": {
          "base_uri": "https://localhost:8080/"
        },
        "id": "50I8zph3ALWe",
        "outputId": "4a18229d-a41c-495a-ca01-8e4eac400cd0"
      },
      "execution_count": 135,
      "outputs": [
        {
          "output_type": "execute_result",
          "data": {
            "text/plain": [
              "{1, 2, 3, 4, 5, 6, 7, 8}"
            ]
          },
          "metadata": {},
          "execution_count": 135
        }
      ]
    },
    {
      "cell_type": "code",
      "source": [
        "#tuple in data  in set\n",
        "md = {1,2,3,4,5,5,(\"saurabh\",\"saurabh\")}\n",
        "md"
      ],
      "metadata": {
        "colab": {
          "base_uri": "https://localhost:8080/"
        },
        "id": "1fVrW1ezAhZt",
        "outputId": "d513a4ab-aaf9-4434-d3c6-74f8dad55bd2"
      },
      "execution_count": 140,
      "outputs": [
        {
          "output_type": "execute_result",
          "data": {
            "text/plain": [
              "{('saurabh', 'saurabh'), 1, 2, 3, 4, 5}"
            ]
          },
          "metadata": {},
          "execution_count": 140
        }
      ]
    },
    {
      "cell_type": "code",
      "source": [
        "#mutable\n",
        "md.add(6)\n",
        "md"
      ],
      "metadata": {
        "colab": {
          "base_uri": "https://localhost:8080/"
        },
        "id": "7SUggCTwAvz_",
        "outputId": "0346f36f-58cc-4f11-8bff-0aab6a96b425"
      },
      "execution_count": 141,
      "outputs": [
        {
          "output_type": "execute_result",
          "data": {
            "text/plain": [
              "{('saurabh', 'saurabh'), 1, 2, 3, 4, 5, 6}"
            ]
          },
          "metadata": {},
          "execution_count": 141
        }
      ]
    },
    {
      "cell_type": "code",
      "source": [
        "#mutable\n",
        "md.remove(5)\n",
        "md\n"
      ],
      "metadata": {
        "colab": {
          "base_uri": "https://localhost:8080/"
        },
        "id": "zJ4AZX4JBOn0",
        "outputId": "9b267dbe-ca19-454f-a74a-3ed2af64c18f"
      },
      "execution_count": 142,
      "outputs": [
        {
          "output_type": "execute_result",
          "data": {
            "text/plain": [
              "{('saurabh', 'saurabh'), 1, 2, 3, 4, 6}"
            ]
          },
          "metadata": {},
          "execution_count": 142
        }
      ]
    },
    {
      "cell_type": "code",
      "source": [
        "#mutable\n",
        "md.update([10,11])\n",
        "md"
      ],
      "metadata": {
        "colab": {
          "base_uri": "https://localhost:8080/"
        },
        "id": "8zqLTXObBSN3",
        "outputId": "82bb6f8b-178d-4606-8811-bf6926dc0472"
      },
      "execution_count": 143,
      "outputs": [
        {
          "output_type": "execute_result",
          "data": {
            "text/plain": [
              "{('saurabh', 'saurabh'), 1, 10, 11, 2, 3, 4, 6}"
            ]
          },
          "metadata": {},
          "execution_count": 143
        }
      ]
    },
    {
      "cell_type": "markdown",
      "source": [
        "---------------------------------------------------------------------------"
      ],
      "metadata": {
        "id": "IV6qIJnfBYG-"
      }
    },
    {
      "cell_type": "markdown",
      "source": [
        "**6) Discuss the Use Cases of Tuples and Sets in Python Programming?**\n",
        "\n",
        "**Ans:-**\n",
        "**Use Cases of Tuples:-**\n",
        "\n",
        "1) Tuples are immutable in nature. We cant use item assignment in tuples.\n",
        "\n",
        "2) Syntax of tuples () data elements are enclosed in parantheses.\n",
        "\n",
        "3) Tuples are used when we want data to be fixed which cannot be changed.\n",
        "\n",
        "4) Tuples are heterogenous can store any data and they are ordered collection of data.\n",
        "\n",
        "5) Tuples in Python can contain duplicate items.\n",
        "\n",
        "6) Elements can be accessed using index\n",
        "\n",
        "7) Tuples support slicing\n",
        "\n",
        "**Example :-**\n"
      ],
      "metadata": {
        "id": "9lfOzCpQBa8g"
      }
    },
    {
      "cell_type": "code",
      "source": [
        "tuple1 = (1,2,3,4,5,6,7,8,9)\n",
        "for i in tuple1:\n",
        "  print(i)"
      ],
      "metadata": {
        "colab": {
          "base_uri": "https://localhost:8080/"
        },
        "id": "FwAcGmwJCG44",
        "outputId": "927102a4-798f-49d0-9d68-1e22e2c508e9"
      },
      "execution_count": 144,
      "outputs": [
        {
          "output_type": "stream",
          "name": "stdout",
          "text": [
            "1\n",
            "2\n",
            "3\n",
            "4\n",
            "5\n",
            "6\n",
            "7\n",
            "8\n",
            "9\n"
          ]
        }
      ]
    },
    {
      "cell_type": "code",
      "source": [
        "weekdays = (\"Monday\", \"Tuesday\", \"Wednesday\", \"Thursday\", \"Friday\")\n",
        "print(weekdays[0])\n",
        "\n"
      ],
      "metadata": {
        "colab": {
          "base_uri": "https://localhost:8080/"
        },
        "id": "Tjd9TEXPBX2i",
        "outputId": "8516c1fe-7053-4347-a9e6-a5187ed48034"
      },
      "execution_count": 145,
      "outputs": [
        {
          "output_type": "stream",
          "name": "stdout",
          "text": [
            "Monday\n"
          ]
        }
      ]
    },
    {
      "cell_type": "markdown",
      "source": [
        "**Use Cases of Sets:-**\n",
        "\n",
        "1) Sets are Unordered: No specific order of elements.\n",
        "\n",
        "2) Unique: Duplicate elements are automatically removed.\n",
        "\n",
        "3) Mutable: Elements can be added or removed.\n",
        "\n",
        "4) Efficient: Set operations (e.g., unions, intersections) are optimized."
      ],
      "metadata": {
        "id": "9KgxcSnZDk8v"
      }
    },
    {
      "cell_type": "code",
      "source": [
        "# Example: Removing duplicates\n",
        "nums = [1, 2, 2, 3, 4, 4]\n",
        "unique_nums = set(nums)\n",
        "print(unique_nums)\n"
      ],
      "metadata": {
        "colab": {
          "base_uri": "https://localhost:8080/"
        },
        "id": "o5_NIO7PBVhR",
        "outputId": "234bb2fd-6e4d-4753-c9d8-e80912ac4424"
      },
      "execution_count": 146,
      "outputs": [
        {
          "output_type": "stream",
          "name": "stdout",
          "text": [
            "{1, 2, 3, 4}\n"
          ]
        }
      ]
    },
    {
      "cell_type": "code",
      "source": [
        "fruits = {\"apple\", \"banana\", \"cherry\"}\n",
        "print(\"apple\" in fruits)\n",
        "print(\"grape\" in fruits)\n"
      ],
      "metadata": {
        "colab": {
          "base_uri": "https://localhost:8080/"
        },
        "id": "RkGaI7TdEAAI",
        "outputId": "2fcc9483-386f-480a-fd0c-c61b0c982847"
      },
      "execution_count": 147,
      "outputs": [
        {
          "output_type": "stream",
          "name": "stdout",
          "text": [
            "True\n",
            "False\n"
          ]
        }
      ]
    },
    {
      "cell_type": "code",
      "source": [
        "set1 = {1, 2, 3, 4}\n",
        "set2 = {3, 4, 5, 6}\n",
        "common = set1 & set2\n",
        "print(common)  # Output: {3, 4}\n"
      ],
      "metadata": {
        "colab": {
          "base_uri": "https://localhost:8080/"
        },
        "id": "SRzn4yQ7EQpc",
        "outputId": "d9a9e844-d0b4-4741-d8bd-b2fa19046e52"
      },
      "execution_count": 148,
      "outputs": [
        {
          "output_type": "stream",
          "name": "stdout",
          "text": [
            "{3, 4}\n"
          ]
        }
      ]
    },
    {
      "cell_type": "markdown",
      "source": [
        "**7) Describe how to add, modify, and delete items in a dictionary with examples?**\n",
        "\n",
        "**Ans:-**\n",
        "**a) How to add key value pairs in dictionary**"
      ],
      "metadata": {
        "id": "tJ2IKjgXEiSm"
      }
    },
    {
      "cell_type": "code",
      "source": [
        "# Adding the elements\n",
        "person = {\"name\": \"saurabh\", \"age\": 25}\n",
        "person[\"city\"] = \"panchgani\"\n",
        "print(person)\n"
      ],
      "metadata": {
        "colab": {
          "base_uri": "https://localhost:8080/"
        },
        "id": "W8L4ftj1FHyv",
        "outputId": "ebc8e833-b5d0-45af-d8c7-c677438deef2"
      },
      "execution_count": 150,
      "outputs": [
        {
          "output_type": "stream",
          "name": "stdout",
          "text": [
            "{'name': 'saurabh', 'age': 25, 'city': 'panchgani'}\n"
          ]
        }
      ]
    },
    {
      "cell_type": "markdown",
      "source": [
        "b) **How to Modify Items in Dictionary**"
      ],
      "metadata": {
        "id": "fGNxcY1kFWbP"
      }
    },
    {
      "cell_type": "code",
      "source": [
        "person1 = {\"name\": \"saurabh\", \"age\": 25}\n",
        "person1[\"city\"] = \"panchgani\"\n",
        "person1[\"age\"] = 26 # accessed the key and assigned a value\n",
        "print(person1)\n"
      ],
      "metadata": {
        "colab": {
          "base_uri": "https://localhost:8080/"
        },
        "id": "Wec2UpbuFdyo",
        "outputId": "e37bdb0f-6e70-4ec2-907c-0eae257137e9"
      },
      "execution_count": 154,
      "outputs": [
        {
          "output_type": "stream",
          "name": "stdout",
          "text": [
            "{'name': 'saurabh', 'age': 26, 'city': 'panchgani'}\n"
          ]
        }
      ]
    },
    {
      "cell_type": "markdown",
      "source": [
        "**c) Delete Items in Dictionary**"
      ],
      "metadata": {
        "id": "P1ojZiBDF32O"
      }
    },
    {
      "cell_type": "code",
      "source": [
        "name = {\"name\": \"saurabh\", \"age\": 25}\n",
        "del name[\"age\"] # Using del\n",
        "print(name)"
      ],
      "metadata": {
        "colab": {
          "base_uri": "https://localhost:8080/"
        },
        "id": "dAWFWzhlEhav",
        "outputId": "691e432e-0cf5-41b7-f295-3a84e53e9a3a"
      },
      "execution_count": 155,
      "outputs": [
        {
          "output_type": "stream",
          "name": "stdout",
          "text": [
            "{'name': 'saurabh'}\n"
          ]
        }
      ]
    },
    {
      "cell_type": "code",
      "source": [
        "# Using pop\n",
        "name3 = {\"name\": \"saurabh\", \"age\": 25}\n",
        "age = name3.pop(\"age\")\n",
        "print(name3)\n",
        "print(age)     # Output: 26"
      ],
      "metadata": {
        "colab": {
          "base_uri": "https://localhost:8080/"
        },
        "id": "3iiwAi-TEc6g",
        "outputId": "23a6ac99-84d9-4a40-90cf-e2afbe042c0f"
      },
      "execution_count": 160,
      "outputs": [
        {
          "output_type": "stream",
          "name": "stdout",
          "text": [
            "{'name': 'saurabh'}\n",
            "25\n"
          ]
        }
      ]
    },
    {
      "cell_type": "markdown",
      "source": [
        "---------------------------------------------------------------------------"
      ],
      "metadata": {
        "id": "jTnw2n5EHND0"
      }
    },
    {
      "cell_type": "markdown",
      "source": [
        "**8) Discuss the importance of dictionary keys being immutable and provide examples?**\n",
        "\n",
        "**Ans:-**\n",
        "\n",
        "In python programming, a dictionary is a collection of key-value pairs where each key is used to uniquely identify and access value assigned to key.\n",
        "\n",
        "**Importance of dictionary keys:-**\n",
        "\n",
        "Consistency and Reliability:\n",
        "Keys in a dictionary are needed to be the same when they are used. If they were changeble, it can be difficult to find or maintain associated values.Example, if a key changes after it has been added, the dictionary might lose track of its corresponding value.\n",
        "\n",
        "**Efficient Searching:**\n",
        "Dictionaries are optimized for fast lookups. They use a process called hashing to locate keys quickly. Immutable keys ensure that their hash values (used for searching) do not change, making lookups efficient.\n",
        "\n",
        "**Avoiding Errors:**\n",
        "Allowing mutable keys could lead to unexpected bugs or inconsistencies. For instance, if a list (mutable) were used as a key and then modified, the dictionary would behave unpredictably because the internal structure used to store keys might not recognize the changed key.\n",
        "\n",
        "**Examples:-**"
      ],
      "metadata": {
        "id": "AF1WbTq0HW0s"
      }
    },
    {
      "cell_type": "code",
      "source": [
        "dict = {\"name\": \"saurabh\", \"age\": 25}\n",
        "print(dict)\n"
      ],
      "metadata": {
        "colab": {
          "base_uri": "https://localhost:8080/"
        },
        "id": "fA74jcjqHS7l",
        "outputId": "a7eb2eae-4fdf-4e71-f199-d6297419c56b"
      },
      "execution_count": 168,
      "outputs": [
        {
          "output_type": "stream",
          "name": "stdout",
          "text": [
            "{'name': 'saurabh', 'age': 25}\n"
          ]
        }
      ]
    },
    {
      "cell_type": "code",
      "source": [
        "dict2 = {(1, 2): \"Pw\", (3, 4): \"Skills\"}\n",
        "print(my_dict)\n"
      ],
      "metadata": {
        "colab": {
          "base_uri": "https://localhost:8080/"
        },
        "id": "PIMRT5pdJXua",
        "outputId": "c9e2463e-06f6-4a39-a909-362fef4491de"
      },
      "execution_count": 175,
      "outputs": [
        {
          "output_type": "stream",
          "name": "stdout",
          "text": [
            "{(1, 2): 'Point', (3, 4): 'Another Point'}\n"
          ]
        }
      ]
    },
    {
      "cell_type": "code",
      "source": [],
      "metadata": {
        "id": "owTQJcq6JGGT"
      },
      "execution_count": 166,
      "outputs": []
    }
  ]
}