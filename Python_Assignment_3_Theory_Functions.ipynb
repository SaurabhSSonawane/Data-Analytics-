{
  "nbformat": 4,
  "nbformat_minor": 0,
  "metadata": {
    "colab": {
      "provenance": []
    },
    "kernelspec": {
      "name": "python3",
      "display_name": "Python 3"
    },
    "language_info": {
      "name": "python"
    }
  },
  "cells": [
    {
      "cell_type": "markdown",
      "source": [
        "**1. What is the difference between a function and a method in Python?**\n",
        "\n",
        "**Ans:-** **1) Function:-**\n",
        "A function is a block of code which is reusable  to perform a specific task. A function can take input arguments, process them, and optionally return a value.\n",
        "\n",
        "**2) Method-:**\n",
        "A method is a function that is defined within a class and is associated with an object. Methods can access and modify the data attributes of the object which they belong to, using the self keyword which refer the object.\n",
        "\n",
        "**Difference between Function and Method in Python:-**\n",
        "\n",
        "**a) Function:-**\n",
        "\n",
        "*   A function is a block of code which performs a specific task and which can be called anywhere in the program.\n",
        "*   It is defined using the def keyword and is not tied to any object.\n",
        "\n",
        "**b) Method:-**\n",
        "\n",
        "\n",
        "*   A method is similar to a function but is connected with an object. It operates on the data of the object it is called on.\n",
        "*   Methods are defined within a class.\n",
        "\n",
        "**Example Of Function and Method:-**\n",
        "\n",
        "\n"
      ],
      "metadata": {
        "id": "86yx_UOy6X6P"
      }
    },
    {
      "cell_type": "code",
      "execution_count": null,
      "metadata": {
        "id": "_1lQG6P15R53",
        "colab": {
          "base_uri": "https://localhost:8080/"
        },
        "outputId": "f91ce79b-285a-4bb7-cff3-0265c87045ea"
      },
      "outputs": [
        {
          "output_type": "stream",
          "name": "stdout",
          "text": [
            "8\n"
          ]
        }
      ],
      "source": [
        "#Example of Function\n",
        "def addition(a, b):\n",
        "    return a + b\n",
        "print(addition(3, 5))\n"
      ]
    },
    {
      "cell_type": "code",
      "source": [
        "#Example of Method\n",
        "class Person:\n",
        "    def greet(self):\n",
        "        return \"Hello!\"\n",
        "person = Person()\n",
        "print(person.greet())\n"
      ],
      "metadata": {
        "colab": {
          "base_uri": "https://localhost:8080/"
        },
        "id": "nfk5OojX9o0q",
        "outputId": "38d500e2-6a87-499f-a463-10dd6293a0c7"
      },
      "execution_count": null,
      "outputs": [
        {
          "output_type": "stream",
          "name": "stdout",
          "text": [
            "Hello!\n"
          ]
        }
      ]
    },
    {
      "cell_type": "markdown",
      "source": [
        "---------------------------------------------------------------------------"
      ],
      "metadata": {
        "id": "eodbWuI393Fg"
      }
    },
    {
      "cell_type": "markdown",
      "source": [
        "---------------------------------------------------------------------------\n"
      ],
      "metadata": {
        "id": "Mw_d0DiG962y"
      }
    },
    {
      "cell_type": "markdown",
      "source": [
        "**2. Explain the concept of function arguments and parameters in Python.**\n",
        "\n",
        "**Ans:-**  In Python,the function arguments and parameters are the terms which are used for handling input values when we are defining and calling functions.\n",
        "\n",
        "**Arguments:-**\n",
        "\n",
        "1) These are the values which are supplied to the function when the function is called.\n",
        "\n",
        "2) They are assigned to the corresponding parameters.\n",
        "\n",
        "3)Arguments are the actual things we put into those boxes when we call the function.\n",
        "\n",
        "**Parameters:-**\n",
        "\n",
        "1) These are the variables which are defined in a function.\n",
        "\n",
        "2) Parameters are like placeholders for the values that will be passed into the function.\n",
        "\n",
        "**Example of Arguments and Parameters:-**\n"
      ],
      "metadata": {
        "id": "wSAxRYWc-5YZ"
      }
    },
    {
      "cell_type": "code",
      "source": [
        "# Example of Arguments and Parameters\n",
        "def welcome(name):  # name is the parameter\n",
        "    print(\"Hello, \" + name)\n",
        "\n",
        "welcome(\"Saurabh\")  # Saurabh is the argument\n",
        "\n"
      ],
      "metadata": {
        "colab": {
          "base_uri": "https://localhost:8080/"
        },
        "id": "ugn5NvTS9qjP",
        "outputId": "6f548315-f5e8-4d32-a695-39859946fbd9"
      },
      "execution_count": null,
      "outputs": [
        {
          "output_type": "stream",
          "name": "stdout",
          "text": [
            "Hello, Saurabh\n"
          ]
        }
      ]
    },
    {
      "cell_type": "markdown",
      "source": [
        "---------------------------------------------------------------------------"
      ],
      "metadata": {
        "id": "XAk-rdWVCaq9"
      }
    },
    {
      "cell_type": "markdown",
      "source": [
        "---------------------------------------------------------------------------"
      ],
      "metadata": {
        "id": "vDZ77MfJCdBF"
      }
    },
    {
      "cell_type": "markdown",
      "source": [
        "**3. What are the different ways to define and call a function in Python?**\n",
        "\n",
        "**Ans:-** In Python, we can define and call a function in various ways.\n",
        "\n",
        "**a) Basic Function Definition:-**\n",
        "\n",
        "Defined a function is using the def keyword, followed by the function name, parentheses, and a colon. The function body is indented.\n",
        "\n",
        "\n"
      ],
      "metadata": {
        "id": "Ia9Qg_qQCv3e"
      }
    },
    {
      "cell_type": "code",
      "source": [
        "#example of Basic Function Defined\n",
        "def greeting():\n",
        "    print(\"Hello\")\n",
        "\n",
        "greeting()\n"
      ],
      "metadata": {
        "colab": {
          "base_uri": "https://localhost:8080/"
        },
        "id": "asIZdNMwCKzy",
        "outputId": "c785370a-82c6-4a74-ca16-13b25e6ca07f"
      },
      "execution_count": null,
      "outputs": [
        {
          "output_type": "stream",
          "name": "stdout",
          "text": [
            "Hello\n"
          ]
        }
      ]
    },
    {
      "cell_type": "markdown",
      "source": [
        "**b) Function with Parameters:-**\n",
        "\n",
        " Defined a function which takes parameters (arguments). These parameters allow us to pass values into the function.\n"
      ],
      "metadata": {
        "id": "Ta3lEVF0EBXY"
      }
    },
    {
      "cell_type": "code",
      "source": [
        "# Example of Function with Parameters\n",
        "def greet(name):\n",
        "    print(f\"Hello, {name}\")\n",
        "\n",
        "\n",
        "greet(\"saurabh\")\n",
        "greet(\"shubham\")\n"
      ],
      "metadata": {
        "colab": {
          "base_uri": "https://localhost:8080/"
        },
        "id": "QR5351viERe1",
        "outputId": "142054a7-49ae-4be6-bef3-63f0375b26dd"
      },
      "execution_count": null,
      "outputs": [
        {
          "output_type": "stream",
          "name": "stdout",
          "text": [
            "Hello, saurabh\n",
            "Hello, shubham\n"
          ]
        }
      ]
    },
    {
      "cell_type": "markdown",
      "source": [
        "**c) Function with a Return Value:-**\n",
        "\n",
        "Functions can return a value using the return statement."
      ],
      "metadata": {
        "id": "bZE0j_wSE1C9"
      }
    },
    {
      "cell_type": "code",
      "source": [
        "# Example of Functions using return statement.\n",
        "def add(a, b):\n",
        "    return a + b\n",
        "result = add(5, 3)\n",
        "print(result)"
      ],
      "metadata": {
        "colab": {
          "base_uri": "https://localhost:8080/"
        },
        "id": "2qwIS8TmD9_o",
        "outputId": "f0979ff9-b45d-409c-a0a7-12ad4b6f0f37"
      },
      "execution_count": null,
      "outputs": [
        {
          "output_type": "stream",
          "name": "stdout",
          "text": [
            "8\n"
          ]
        }
      ]
    },
    {
      "cell_type": "markdown",
      "source": [
        "**d) Lambda Functions:-**\n",
        "\n",
        "Lambda functions are small, anonymous functions defined using the lambda keyword."
      ],
      "metadata": {
        "id": "G8FjrDXMH779"
      }
    },
    {
      "cell_type": "code",
      "source": [
        "# Example Of Lambda Function\n",
        "multiply = lambda x, y: x * y\n",
        "result = multiply(4, 2)\n",
        "print(result)\n"
      ],
      "metadata": {
        "colab": {
          "base_uri": "https://localhost:8080/"
        },
        "id": "2Ts-z3NjHm0R",
        "outputId": "6846db19-33e5-44bc-d4b4-0baace8b542c"
      },
      "execution_count": null,
      "outputs": [
        {
          "output_type": "stream",
          "name": "stdout",
          "text": [
            "8\n"
          ]
        }
      ]
    },
    {
      "cell_type": "markdown",
      "source": [
        "**e) Function with Default Parameters:-**\n",
        "\n",
        "You can define default values for parameters. If no argument is passed for a parameter, the default value will be used."
      ],
      "metadata": {
        "id": "-OyxYgiQIUbm"
      }
    },
    {
      "cell_type": "code",
      "source": [
        "# Example of Function with Default Parameters\n",
        "def greet(name=\"Guest\"):\n",
        "    print(f\"Hello, {name}!\")\n",
        "greet()\n",
        "greet(\"Saurabh\")\n"
      ],
      "metadata": {
        "colab": {
          "base_uri": "https://localhost:8080/"
        },
        "id": "mdQIuaWkIIxM",
        "outputId": "abdf969f-0eb9-4f4d-f4b8-7aff9003be83"
      },
      "execution_count": null,
      "outputs": [
        {
          "output_type": "stream",
          "name": "stdout",
          "text": [
            "Hello, Guest!\n",
            "Hello, Saurabh!\n"
          ]
        }
      ]
    },
    {
      "cell_type": "markdown",
      "source": [
        "**f) Function with Variable-Length Arguments:-**\n",
        "\n",
        "Python allows you to pass a variable number of arguments to a function using args (for non-keyword arguments) and kwargs (for keyword arguments)."
      ],
      "metadata": {
        "id": "WYLF80FPIwGC"
      }
    },
    {
      "cell_type": "code",
      "source": [
        "# Example of Function with Variable-Length Arguments using args\n",
        "def add(*args):\n",
        "    return sum(args)\n",
        "print(add(1, 2, 3))\n"
      ],
      "metadata": {
        "colab": {
          "base_uri": "https://localhost:8080/"
        },
        "id": "8rNrR3ujIkIv",
        "outputId": "a433e83c-80cb-4847-fa11-c382c20480e7"
      },
      "execution_count": null,
      "outputs": [
        {
          "output_type": "stream",
          "name": "stdout",
          "text": [
            "6\n"
          ]
        }
      ]
    },
    {
      "cell_type": "code",
      "source": [
        "# Example of Function with Variable-Length Arguments using kwargs\n",
        "def greet(**kwargs):\n",
        "    for key, value in kwargs.items():\n",
        "        print(f\"{key}: {value}\")\n",
        "greet(name=\"Saurabh\", age=25)\n"
      ],
      "metadata": {
        "colab": {
          "base_uri": "https://localhost:8080/"
        },
        "id": "2MN_1O3-JBgl",
        "outputId": "c2eb6712-ae3e-4a3c-f8fe-72e28f92a1ef"
      },
      "execution_count": null,
      "outputs": [
        {
          "output_type": "stream",
          "name": "stdout",
          "text": [
            "name: Saurabh\n",
            "age: 25\n"
          ]
        }
      ]
    },
    {
      "cell_type": "markdown",
      "source": [
        "**f) Calling Functions with Keyword Arguments:-**\n",
        "\n",
        "You can call functions using named arguments, which is especially useful when the function has many parameters or some parameters have default values."
      ],
      "metadata": {
        "id": "YxQoHXX9JRlX"
      }
    },
    {
      "cell_type": "code",
      "source": [
        "#example of Calling Functions with Keyword Arguments\n",
        "def greet(name, age):\n",
        "    print(f\"Hello, {name}! You are {age} years old.\")\n",
        "greet(name=\"Bob\", age=30)\n"
      ],
      "metadata": {
        "colab": {
          "base_uri": "https://localhost:8080/"
        },
        "id": "gib6s8cdJKpT",
        "outputId": "e46bb2e0-92cb-45c6-a36f-55ff048cced9"
      },
      "execution_count": null,
      "outputs": [
        {
          "output_type": "stream",
          "name": "stdout",
          "text": [
            "Hello, Bob! You are 30 years old.\n"
          ]
        }
      ]
    },
    {
      "cell_type": "markdown",
      "source": [
        "---------------------------------------------------------------------------"
      ],
      "metadata": {
        "id": "2CJqR0t4Jnm3"
      }
    },
    {
      "cell_type": "markdown",
      "source": [
        "---------------------------------------------------------------------------"
      ],
      "metadata": {
        "id": "O0ewgEGFJnh2"
      }
    },
    {
      "cell_type": "markdown",
      "source": [
        "**4. What is the purpose of the `return` statement in a Python functexttion?**\n",
        "\n",
        "**Ans:-** The return statement in a Python function is used to send a result or value back to the caller. It terminates the function and optionally provides a value that can be used by the part of the program that called the function.\n",
        "\n",
        "**Purpose of the return Statement:-**\n",
        "\n",
        "**a)** Return a value: To provide the output of the function to the caller.\n",
        "\n",
        "**b)**Terminate the function: It immediately stops the execution of the function.\n",
        "\n",
        "**Example:-**"
      ],
      "metadata": {
        "id": "iqO2rIs_JtkA"
      }
    },
    {
      "cell_type": "code",
      "source": [
        "def add_numbers(a, b):\n",
        "    result = a + b\n",
        "    return result\n",
        "sum_result = add_numbers(3, 5)\n",
        "print(\"The sum is:\", sum_result)\n"
      ],
      "metadata": {
        "colab": {
          "base_uri": "https://localhost:8080/"
        },
        "id": "pJF6YkkiKY3I",
        "outputId": "e1d48f00-2af9-4827-e089-a9856793cf7b"
      },
      "execution_count": null,
      "outputs": [
        {
          "output_type": "stream",
          "name": "stdout",
          "text": [
            "The sum is: 8\n"
          ]
        }
      ]
    },
    {
      "cell_type": "markdown",
      "source": [
        "---------------------------------------------------------------------------"
      ],
      "metadata": {
        "id": "VQqk6CKfKwhP"
      }
    },
    {
      "cell_type": "markdown",
      "source": [
        "---------------------------------------------------------------------------"
      ],
      "metadata": {
        "id": "IDZEdxX8KxlI"
      }
    },
    {
      "cell_type": "markdown",
      "source": [
        "**5. What are iterators in Python and how do they differ from iterables?**\n",
        "\n",
        "**Ans:-** In Python, iterators and iterables are closely related concepts but have distinct roles:\n",
        "\n",
        "**Iterables:-**\n",
        "\n",
        "\n",
        "*   An iterable is any object capable of returning its elements one at a time.\n",
        "*   Examples of iterables include lists, tuples, strings, dictionaries, and sets.\n",
        "\n",
        "*  An iterable implements the __iter__() method, which returns an iterator.\n",
        "\n",
        "**Iterators:-**\n",
        "\n",
        "*   An iterator is an object that represents a stream of data.\n",
        "* It implements the __iter__() and __next__() methods:\n",
        "\n",
        "\n",
        "**Difference:-**\n",
        "\n",
        "\n",
        "\n",
        "*   Iterable: Can be converted into an iterator using iter().\n",
        "*  Iterator: Can be iterated directly using next().\n",
        "\n",
        "\n",
        "\n",
        "\n"
      ],
      "metadata": {
        "id": "M277iax_Kyvx"
      }
    },
    {
      "cell_type": "code",
      "source": [
        "# Example\n",
        "# Example of an iterable\n",
        "my_list = [1, 2, 3]  # A list is an iterable\n",
        "\n",
        "# Converting the iterable to an iterator\n",
        "my_iterator = iter(my_list)\n",
        "\n",
        "# Using the iterator\n",
        "print(next(my_iterator))  # Output: 1\n",
        "print(next(my_iterator))  # Output: 2\n",
        "print(next(my_iterator))  # Output: 3\n",
        "# If you call next() again, it will raise StopIteration.\n",
        "\n",
        "# Checking if an object is an iterator or an iterable\n",
        "print(hasattr(my_list, '__iter__'))  # True (my_list is iterable)\n",
        "print(hasattr(my_list, '__next__')) # False (my_list is not an iterator)\n",
        "print(hasattr(my_iterator, '__iter__'))  # True (iterators are also iterable)\n",
        "print(hasattr(my_iterator, '__next__')) # True (my_iterator is an iterator)\n"
      ],
      "metadata": {
        "colab": {
          "base_uri": "https://localhost:8080/"
        },
        "id": "EiS60u5KJd7v",
        "outputId": "3e0280f0-ea7b-40bc-8a56-ff73d00017e9"
      },
      "execution_count": null,
      "outputs": [
        {
          "output_type": "stream",
          "name": "stdout",
          "text": [
            "1\n",
            "2\n",
            "3\n",
            "True\n",
            "False\n",
            "True\n",
            "True\n"
          ]
        }
      ]
    },
    {
      "cell_type": "markdown",
      "source": [
        "**6. Explain the concept of generators in Python and how they are defined?**\n",
        "\n",
        "**Ans:-** Generators are a way to create iterators in Python in a simple, concise manner using functions. Unlike regular functions that return a single value and terminate, generators use the yield keyword to produce a sequence of values lazily—one at a time and only when requested.\n",
        "\n",
        "**Key Features of Generators:-**\n",
        "\n",
        "\n",
        "\n",
        "*   Memory Efficient: Since generators produce values on demand, they do not require memory to store the entire dataset at once.\n",
        "*   Maintain State: Generators maintain their state between calls, so execution resumes from where it left off.\n",
        "\n",
        "\n",
        "*   Simpler Code: Generators are easier to write and read compared to manually implementing an iterator class.\n",
        "\n",
        "\n",
        "A generator is defined like a normal function but uses the yield keyword to return values instead of return. When the generator function is called, it does not execute its body immediately. Instead, it returns a generator object, which can be iterated over to execute the function and yield values one at a time.\n",
        "\n",
        "\n",
        "\n"
      ],
      "metadata": {
        "id": "5W8PYIlOMOqy"
      }
    },
    {
      "cell_type": "code",
      "source": [
        "# Example\n",
        "def simple_generator():\n",
        "    yield 1\n",
        "    yield 2\n",
        "    yield 3\n",
        "# Using the generator\n",
        "gen = simple_generator()\n",
        "for value in gen:\n",
        "    print(value)\n"
      ],
      "metadata": {
        "colab": {
          "base_uri": "https://localhost:8080/"
        },
        "id": "zGn2lhnKMEjg",
        "outputId": "41d7bab3-7c31-4206-e513-fc650b1f2420"
      },
      "execution_count": null,
      "outputs": [
        {
          "output_type": "stream",
          "name": "stdout",
          "text": [
            "1\n",
            "2\n",
            "3\n"
          ]
        }
      ]
    },
    {
      "cell_type": "markdown",
      "source": [
        "---------------------------------------------------------------------------"
      ],
      "metadata": {
        "id": "pOfWm7l6NFyq"
      }
    },
    {
      "cell_type": "markdown",
      "source": [
        "---------------------------------------------------------------------------"
      ],
      "metadata": {
        "id": "wa3PDJheNFk7"
      }
    },
    {
      "cell_type": "markdown",
      "source": [
        "**7. What are the advantages of using generators over regular functions?**\n",
        "\n",
        "**Ans:-** Generators in Python offer several advantages over regular functions, particularly when dealing with large data sets, infinite sequences, or when memory efficiency is a concern. Below are the key advantages of using generators:\n",
        "\n",
        "**Advantages of Generators:-**\n",
        "\n",
        "**a) Memory Efficiency**\n",
        "Generators produce items one at a time and do not store the entire result in memory. This makes them ideal for handling large datasets or streams of data.\n",
        "\n",
        "**b)Lazy Evaluation**\n",
        "Generators compute values on demand, which can lead to better performance when dealing with potentially infinite sequences or operations where not all results are needed.\n",
        "\n",
        "**c)Improved Performance**\n",
        "Generators avoid the overhead of creating and storing intermediate results, making them faster and more efficient in terms of execution time.\n",
        "\n",
        "**d)Simpler Code for Iteration**\n",
        "Generators allow for clean and simple iteration using yield instead of manually managing state or using complex data structures.\n",
        "\n",
        "**e)Pipeline Design**\n",
        "Generators can be chained to form data pipelines, where data flows seamlessly from one generator to the next without intermediate storage.\n",
        "\n",
        "Infinite Sequences\n",
        "Generators can represent infinite sequences (e.g., Fibonacci numbers, prime numbers) because they calculate each value only when needed.\n",
        "\n"
      ],
      "metadata": {
        "id": "ChyRP2dvNMYN"
      }
    },
    {
      "cell_type": "code",
      "source": [
        "#example\n",
        "def squares_list(n):\n",
        "    result = []\n",
        "    for i in range(n):\n",
        "        result.append(i ** 2)\n",
        "    return result\n",
        "# Usage\n",
        "print(squares_list(5))\n"
      ],
      "metadata": {
        "colab": {
          "base_uri": "https://localhost:8080/"
        },
        "id": "4T67AnCbM7KC",
        "outputId": "9b59b10b-f036-4583-ed45-97369288cee9"
      },
      "execution_count": null,
      "outputs": [
        {
          "output_type": "stream",
          "name": "stdout",
          "text": [
            "[0, 1, 4, 9, 16]\n"
          ]
        }
      ]
    },
    {
      "cell_type": "markdown",
      "source": [
        "---------------------------------------------------------------------------"
      ],
      "metadata": {
        "id": "AIM2bfnZN34C"
      }
    },
    {
      "cell_type": "markdown",
      "source": [
        "---------------------------------------------------------------------------"
      ],
      "metadata": {
        "id": "N5PaHiNdN30z"
      }
    },
    {
      "cell_type": "markdown",
      "source": [
        "**8. What is a lambda function in Python and when is it typically used?**\n",
        "\n",
        "**Ans:-** A lambda function in Python is an anonymous (nameless) function defined using the lambda keyword. Unlike regular functions created with def, lambda functions are typically a single expression and are often used for short, simple operations that don't require a full function definition.\n",
        "\n",
        "**Syntax of Lambda Function:-**\n",
        "\n",
        "lambda arguments:expression\n",
        "\n",
        "\n",
        "\n",
        "*   Arguments: The inputs to the function (optional).\n",
        "*  Expression: The computation performed and the result returned.\n",
        "\n",
        "**Lambda functions are typically used:**\n",
        "\n",
        "a) For short-term usage: When a small, throwaway function is needed.\n",
        "\n",
        "b) As arguments to higher-order functions: For example, functions like map(), filter(), and sorted() often take other functions as arguments.\n",
        "\n",
        "c) To avoid defining a full function: When a more concise way to write a function is sufficient.\n",
        "\n",
        "\n",
        "\n"
      ],
      "metadata": {
        "id": "QcchWEPhOAck"
      }
    },
    {
      "cell_type": "code",
      "source": [
        "# Example\n",
        "# Regular function\n",
        "def square(x):\n",
        "    return x * x\n",
        "# Equivalent lambda function\n",
        "square_lambda = lambda x: x * x\n",
        "# Using both\n",
        "print(square(4))\n",
        "print(square_lambda(4))\n"
      ],
      "metadata": {
        "colab": {
          "base_uri": "https://localhost:8080/"
        },
        "id": "_jMkWtKXNwnS",
        "outputId": "edfc3904-06bc-4868-e9bb-b1eed3ab968a"
      },
      "execution_count": null,
      "outputs": [
        {
          "output_type": "stream",
          "name": "stdout",
          "text": [
            "16\n",
            "16\n"
          ]
        }
      ]
    },
    {
      "cell_type": "markdown",
      "source": [
        "---------------------------------------------------------------------------"
      ],
      "metadata": {
        "id": "NfLb9fLzOwyz"
      }
    },
    {
      "cell_type": "markdown",
      "source": [
        "---------------------------------------------------------------------------"
      ],
      "metadata": {
        "id": "5XHcgi7HOwvV"
      }
    },
    {
      "cell_type": "markdown",
      "source": [
        "**9. Explain the purpose and usage of the `map()` function in Python?**\n",
        "\n",
        "**Ans:-** **Purpose of the map() Function:-**\n",
        "\n",
        "The map() function in Python is used to apply a given function to each item in an iterable (like a list, tuple, or string) and returns a map object (which is an iterator). This allows for concise and efficient transformations of data without explicitly writing loops.\n",
        "\n",
        "**Syntax:-**\n",
        "\n",
        "map(function, iterable, ...)\n",
        "\n",
        "\n",
        "\n",
        "*   function: The function to apply to each item in the iterable.\n",
        "*   iterable: The iterable whose items will be processed. Multiple iterables can be passed if the function accepts multiple arguments.\n",
        "\n"
      ],
      "metadata": {
        "id": "ZSuknUIOO2C0"
      }
    },
    {
      "cell_type": "code",
      "source": [
        "# Example\n",
        "# Define a list of numbers\n",
        "numbers = [1, 2, 3, 4, 5]\n",
        "# Use map() to square each number in the list\n",
        "squared_numbers = map(lambda x: x**2, numbers)\n",
        "# Convert the map object to a list for display\n",
        "print(list(squared_numbers))\n"
      ],
      "metadata": {
        "colab": {
          "base_uri": "https://localhost:8080/"
        },
        "id": "AfxX6kEPOq0p",
        "outputId": "fc7a7860-c4d0-4a7a-d72c-ab19689cf9d0"
      },
      "execution_count": null,
      "outputs": [
        {
          "output_type": "stream",
          "name": "stdout",
          "text": [
            "[1, 4, 9, 16, 25]\n"
          ]
        }
      ]
    },
    {
      "cell_type": "markdown",
      "source": [
        "---------------------------------------------------------------------------"
      ],
      "metadata": {
        "id": "sn70tcJTPajd"
      }
    },
    {
      "cell_type": "markdown",
      "source": [
        "---------------------------------------------------------------------------"
      ],
      "metadata": {
        "id": "ttychAD4PdQ-"
      }
    },
    {
      "cell_type": "markdown",
      "source": [
        "**10. What is the difference between `map()`, `reduce()`, and `filter()` functions in Python?**\n",
        "\n",
        "**Ans:-** The map(), reduce(), and filter() functions in Python are functional programming tools that apply operations to collections like lists or iterables.\n",
        "\n",
        "**Here's a breakdown of each function and how they differ:**\n",
        "\n",
        "1. map()\n",
        "Purpose: Applies a given function to each element of an iterable (e.g., list, tuple) and returns a map object (which can be converted to a list, tuple, etc.).\n",
        "Use Case: Transforming or modifying the items in an iterable.\n"
      ],
      "metadata": {
        "id": "n0vtFPygPi3W"
      }
    },
    {
      "cell_type": "code",
      "source": [
        "#example\n",
        "numbers = [1, 2, 3, 4]\n",
        "# Double each number\n",
        "doubled = map(lambda x: x * 2, numbers)\n",
        "print(list(doubled))\n"
      ],
      "metadata": {
        "colab": {
          "base_uri": "https://localhost:8080/"
        },
        "id": "rz44QpGYPzxW",
        "outputId": "56c11679-c199-44a6-9f18-02c8226c2955"
      },
      "execution_count": null,
      "outputs": [
        {
          "output_type": "stream",
          "name": "stdout",
          "text": [
            "[2, 4, 6, 8]\n"
          ]
        }
      ]
    },
    {
      "cell_type": "markdown",
      "source": [
        "2. filter()\n",
        "Purpose: Filters elements of an iterable based on a boolean condition. Only elements that satisfy the condition (return True) are included.\n",
        "Use Case: Selecting specific items from an iterable."
      ],
      "metadata": {
        "id": "8dflxAHHQBX3"
      }
    },
    {
      "cell_type": "code",
      "source": [
        "#example\n",
        "numbers = [1, 2, 3, 4]\n",
        "# Keep only even numbers\n",
        "evens = filter(lambda x: x % 2 == 0, numbers)\n",
        "print(list(evens))"
      ],
      "metadata": {
        "colab": {
          "base_uri": "https://localhost:8080/"
        },
        "id": "fnFw_sKePYqT",
        "outputId": "503865ee-0006-4060-b83a-a07ba77601f7"
      },
      "execution_count": null,
      "outputs": [
        {
          "output_type": "stream",
          "name": "stdout",
          "text": [
            "[2, 4]\n"
          ]
        }
      ]
    },
    {
      "cell_type": "markdown",
      "source": [
        "3. reduce()\n",
        "Purpose: Reduces an iterable to a single cumulative value by applying a binary function (a function that takes two inputs).\n",
        "Use Case: Aggregating or combining all elements into a single result (e.g., sum, product)."
      ],
      "metadata": {
        "id": "WftQ-DfWQO7v"
      }
    },
    {
      "cell_type": "code",
      "source": [
        "#example\n",
        "from functools import reduce\n",
        "numbers = [1, 2, 3, 4]\n",
        "# Multiply all numbers together\n",
        "product = reduce(lambda x, y: x * y, numbers)\n",
        "print(product)\n"
      ],
      "metadata": {
        "colab": {
          "base_uri": "https://localhost:8080/"
        },
        "id": "guAbVFyvQMkg",
        "outputId": "37fa1414-487d-4102-f479-21f2193e6f25"
      },
      "execution_count": null,
      "outputs": [
        {
          "output_type": "stream",
          "name": "stdout",
          "text": [
            "24\n"
          ]
        }
      ]
    },
    {
      "cell_type": "markdown",
      "source": [
        "---------------------------------------------------------------------------"
      ],
      "metadata": {
        "id": "an0x7YW0T6XD"
      }
    },
    {
      "cell_type": "markdown",
      "source": [
        "---------------------------------------------------------------------------"
      ],
      "metadata": {
        "id": "fBAAZH2YT5_L"
      }
    },
    {
      "cell_type": "markdown",
      "source": [
        "**11. Using pen & Paper write the internal mechanism for sum operation using  reduce function on this given\n",
        "list:[47,11,42,13];  (Attach paper image for this answer) in doc or colab notebook?**\n",
        "\n",
        "**Ans:-**"
      ],
      "metadata": {
        "id": "QxIJwYskT-jk"
      }
    },
    {
      "cell_type": "markdown",
      "source": [
        "![Function .jpg](data:image/jpeg;base64,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)"
      ],
      "metadata": {
        "id": "GHIGMumUVIwg"
      }
    },
    {
      "cell_type": "markdown",
      "source": [
        "---------------------------------------------------------------------------\n"
      ],
      "metadata": {
        "id": "dtnoToP3VPqh"
      }
    },
    {
      "cell_type": "markdown",
      "source": [
        "---------------------------------------------------------------------------"
      ],
      "metadata": {
        "id": "EF2hJ_MJVS0M"
      }
    },
    {
      "cell_type": "code",
      "source": [],
      "metadata": {
        "id": "hj6UeXFEVR2_"
      },
      "execution_count": null,
      "outputs": []
    }
  ]
}